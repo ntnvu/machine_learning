{
 "cells": [
  {
   "cell_type": "code",
   "execution_count": 7,
   "metadata": {},
   "outputs": [],
   "source": [
    "import numpy as np\n",
    "import random"
   ]
  },
  {
   "cell_type": "code",
   "execution_count": 9,
   "metadata": {},
   "outputs": [],
   "source": [
    "def create_matrix(m,n):\n",
    "    lst = []\n",
    "    for i in range(m):\n",
    "        lst_sub = []\n",
    "        for j in range(n):\n",
    "            s = 'M[' + str(i+1) + ',' + str(j+1) + ']'\n",
    "            x = eval(input(s))\n",
    "            lst_sub.append(x)\n",
    "        lst.append(lst_sub)\n",
    "    return np.array(lst)"
   ]
  },
  {
   "cell_type": "code",
   "execution_count": 10,
   "metadata": {},
   "outputs": [
    {
     "name": "stdout",
     "output_type": "stream",
     "text": [
      "M[1,1]1\n",
      "M[1,2]2\n",
      "M[1,3]3\n",
      "M[2,1]4\n",
      "M[2,2]5\n",
      "M[2,3]6\n",
      "M[3,1]7\n",
      "M[3,2]8\n",
      "M[3,3]9\n"
     ]
    }
   ],
   "source": [
    "A = create_matrix(3,3)"
   ]
  },
  {
   "cell_type": "code",
   "execution_count": 11,
   "metadata": {},
   "outputs": [
    {
     "name": "stdout",
     "output_type": "stream",
     "text": [
      "[[1 2 3]\n",
      " [4 5 6]\n",
      " [7 8 9]]\n",
      "<class 'numpy.ndarray'>\n"
     ]
    }
   ],
   "source": [
    "print(A)\n",
    "print(type(A))"
   ]
  },
  {
   "cell_type": "code",
   "execution_count": 15,
   "metadata": {},
   "outputs": [],
   "source": [
    "def create_matrix_auto(m,n,start,end):\n",
    "    lst = []\n",
    "    for i in range(m):\n",
    "        lst_sub = []\n",
    "        for j in range(n):\n",
    "            x = random.randint(start,end+1)\n",
    "            lst_sub.append(x)\n",
    "        lst.append(lst_sub)\n",
    "    return np.array(lst)        "
   ]
  },
  {
   "cell_type": "code",
   "execution_count": 33,
   "metadata": {},
   "outputs": [],
   "source": [
    "def create_vector_auto(n,start,end):\n",
    "    lst = []\n",
    "    for j in range(n):\n",
    "        x = random.randint(start,end+1)\n",
    "        lst.append(x)\n",
    "    return np.array(lst)        "
   ]
  },
  {
   "cell_type": "code",
   "execution_count": 16,
   "metadata": {},
   "outputs": [],
   "source": [
    "B = create_matrix_auto(3,3,1,4)"
   ]
  },
  {
   "cell_type": "code",
   "execution_count": 17,
   "metadata": {},
   "outputs": [
    {
     "name": "stdout",
     "output_type": "stream",
     "text": [
      "[[2 4 1]\n",
      " [4 4 4]\n",
      " [3 5 3]]\n",
      "<class 'numpy.ndarray'>\n"
     ]
    }
   ],
   "source": [
    "print(B)\n",
    "print(type(B))"
   ]
  },
  {
   "cell_type": "code",
   "execution_count": 18,
   "metadata": {},
   "outputs": [],
   "source": [
    "X = create_matrix_auto(3,4,0,11)"
   ]
  },
  {
   "cell_type": "code",
   "execution_count": 37,
   "metadata": {},
   "outputs": [],
   "source": [
    "XT = X.T\n",
    "XT1 = X.transpose()"
   ]
  },
  {
   "cell_type": "code",
   "execution_count": 38,
   "metadata": {},
   "outputs": [
    {
     "name": "stdout",
     "output_type": "stream",
     "text": [
      "[[10 10  0  8]\n",
      " [ 2  6  4  4]\n",
      " [ 1 11  5  5]]\n",
      "[[10  2  1]\n",
      " [10  6 11]\n",
      " [ 0  4  5]\n",
      " [ 8  4  5]]\n",
      "[[10  2  1]\n",
      " [10  6 11]\n",
      " [ 0  4  5]\n",
      " [ 8  4  5]]\n"
     ]
    }
   ],
   "source": [
    "print(X)\n",
    "print(XT)\n",
    "print(XT1)"
   ]
  },
  {
   "cell_type": "code",
   "execution_count": 21,
   "metadata": {},
   "outputs": [
    {
     "name": "stdout",
     "output_type": "stream",
     "text": [
      "[[105 123  13  93]\n",
      " [123 257  79 159]\n",
      " [ 13  79  41  41]\n",
      " [ 93 159  41 105]]\n"
     ]
    }
   ],
   "source": [
    "print(XT.dot(X))"
   ]
  },
  {
   "cell_type": "code",
   "execution_count": 23,
   "metadata": {},
   "outputs": [],
   "source": [
    "A = create_matrix_auto(2,2,1,4)"
   ]
  },
  {
   "cell_type": "code",
   "execution_count": 30,
   "metadata": {},
   "outputs": [
    {
     "name": "stdout",
     "output_type": "stream",
     "text": [
      "[[2 4]\n",
      " [5 5]]\n",
      "-9.999999999999998\n"
     ]
    }
   ],
   "source": [
    "from numpy.linalg import det, inv, matrix_rank\n",
    "print(A)\n",
    "print(det(A))"
   ]
  },
  {
   "cell_type": "code",
   "execution_count": 27,
   "metadata": {},
   "outputs": [
    {
     "name": "stdout",
     "output_type": "stream",
     "text": [
      "[[-0.5  0.4]\n",
      " [ 0.5 -0.2]]\n"
     ]
    }
   ],
   "source": [
    "print(inv(A))"
   ]
  },
  {
   "cell_type": "code",
   "execution_count": 28,
   "metadata": {},
   "outputs": [],
   "source": [
    "C = create_matrix_auto(5,5,5,10)"
   ]
  },
  {
   "cell_type": "code",
   "execution_count": 31,
   "metadata": {},
   "outputs": [
    {
     "name": "stdout",
     "output_type": "stream",
     "text": [
      "[[ 7  7  8  7 11]\n",
      " [ 5  6  7 10  8]\n",
      " [ 5  9 11  5  6]\n",
      " [11 11  9  7 10]\n",
      " [ 9 10  6  5 10]]\n",
      "41\n",
      "-3756.000000000001\n",
      "5\n"
     ]
    }
   ],
   "source": [
    "print(C)\n",
    "print(np.trace(C))\n",
    "print(det(C))\n",
    "print(matrix_rank(C))"
   ]
  },
  {
   "cell_type": "code",
   "execution_count": 34,
   "metadata": {},
   "outputs": [],
   "source": [
    "A = create_matrix_auto(3,3,1,6)\n",
    "b = create_vector_auto(3, 1, 3)"
   ]
  },
  {
   "cell_type": "code",
   "execution_count": 35,
   "metadata": {},
   "outputs": [
    {
     "name": "stdout",
     "output_type": "stream",
     "text": [
      "[[6 7 7]\n",
      " [6 1 4]\n",
      " [1 2 6]]\n",
      "[2 3 3]\n"
     ]
    }
   ],
   "source": [
    "print(A)\n",
    "print(b)"
   ]
  },
  {
   "cell_type": "code",
   "execution_count": 36,
   "metadata": {},
   "outputs": [
    {
     "name": "stdout",
     "output_type": "stream",
     "text": [
      "[ 0.1572327  -0.48427673  0.63522013]\n"
     ]
    }
   ],
   "source": [
    "if det(A) != 0:\n",
    "    B = inv(A)\n",
    "    x = B.dot(b) \n",
    "    print(x)"
   ]
  },
  {
   "cell_type": "code",
   "execution_count": null,
   "metadata": {},
   "outputs": [],
   "source": []
  }
 ],
 "metadata": {
  "kernelspec": {
   "display_name": "Python 3",
   "language": "python",
   "name": "python3"
  },
  "language_info": {
   "codemirror_mode": {
    "name": "ipython",
    "version": 3
   },
   "file_extension": ".py",
   "mimetype": "text/x-python",
   "name": "python",
   "nbconvert_exporter": "python",
   "pygments_lexer": "ipython3",
   "version": "3.7.3"
  }
 },
 "nbformat": 4,
 "nbformat_minor": 2
}
