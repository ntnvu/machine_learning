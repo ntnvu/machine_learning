{
 "cells": [
  {
   "cell_type": "code",
   "execution_count": 15,
   "metadata": {},
   "outputs": [],
   "source": [
    "import numpy as np\n",
    "\n",
    "def cal_vector(op, u, v):\n",
    "    result = None\n",
    "    if op == '+':\n",
    "        result = u + v\n",
    "    elif op == '-':\n",
    "        result = u - v\n",
    "    elif op == '*':\n",
    "        result = u * v\n",
    "    elif op == '/':\n",
    "        result = u / v\n",
    "    elif op == 'dot':\n",
    "        if u.shape[0] == v.shape[0]:            \n",
    "            result = u.dot(v)\n",
    "        else:\n",
    "            result = 'khong cung do dai'\n",
    "    else:\n",
    "        result = None\n",
    "    return result"
   ]
  },
  {
   "cell_type": "code",
   "execution_count": 18,
   "metadata": {},
   "outputs": [
    {
     "name": "stdout",
     "output_type": "stream",
     "text": [
      "[ 3  5  7  9 11 14]\n",
      "[-1 -1 -1 -1 -1 -2]\n",
      "[ 2  6 12 20 30 48]\n",
      "[0.5        0.66666667 0.75       0.8        0.83333333 0.75      ]\n",
      "118\n"
     ]
    }
   ],
   "source": [
    "u = np.array([1,2,3,4,5,6])\n",
    "v = np.array([2,3,4,5,6,8])\n",
    "print(cal_vector('+', u, v))\n",
    "print(cal_vector('-', u, v))\n",
    "print(cal_vector('*', u, v))\n",
    "print(cal_vector('/', u, v))\n",
    "print(cal_vector('dot', u, v))"
   ]
  },
  {
   "cell_type": "code",
   "execution_count": 20,
   "metadata": {},
   "outputs": [],
   "source": [
    "import numpy as np\n",
    "from numpy.linalg import norm\n",
    "import math\n",
    "\n",
    "def cal_vector_norm(t,v):\n",
    "    result = None\n",
    "    if t == 'L1':\n",
    "        result = norm(v, 1)\n",
    "    elif t == 'L2':\n",
    "        result = norm(v)\n",
    "    elif t == 'Max':\n",
    "        result = norm(v, math.inf)\n",
    "    else:\n",
    "        result = None\n",
    "    return result\n",
    "    "
   ]
  },
  {
   "cell_type": "code",
   "execution_count": 21,
   "metadata": {},
   "outputs": [
    {
     "name": "stdout",
     "output_type": "stream",
     "text": [
      "15.0\n",
      "7.416198487095663\n",
      "5.0\n"
     ]
    }
   ],
   "source": [
    "v = np.array([1, 2, -3, -4, 5])\n",
    "print(cal_vector_norm('L1', v))\n",
    "print(cal_vector_norm('L2', v))\n",
    "print(cal_vector_norm('Max', v))"
   ]
  }
 ],
 "metadata": {
  "kernelspec": {
   "display_name": "Python 3",
   "language": "python",
   "name": "python3"
  },
  "language_info": {
   "codemirror_mode": {
    "name": "ipython",
    "version": 3
   },
   "file_extension": ".py",
   "mimetype": "text/x-python",
   "name": "python",
   "nbconvert_exporter": "python",
   "pygments_lexer": "ipython3",
   "version": "3.7.3"
  }
 },
 "nbformat": 4,
 "nbformat_minor": 2
}
