{
 "cells": [
  {
   "cell_type": "code",
   "execution_count": 10,
   "metadata": {},
   "outputs": [],
   "source": [
    "import numpy as np\n",
    "\n",
    "def cal_matrices(op, m1, m2):\n",
    "    result = None\n",
    "    if op == '+':\n",
    "        result = m1 + m2\n",
    "    elif op == '-':\n",
    "        result = m1 - m2\n",
    "    elif op == '*':\n",
    "        result = m1 * m2\n",
    "    elif op == '/':\n",
    "        result = m1 / m2\n",
    "    elif op == 'dot':\n",
    "        if m1.shape[1] == m2.shape[0]:\n",
    "            result = m1.dot(m2)\n",
    "        else:\n",
    "            result = 'So cot ma tran 1 phai bang so dong ma tran 2'\n",
    "    else:\n",
    "        result = None\n",
    "    return result"
   ]
  },
  {
   "cell_type": "code",
   "execution_count": 26,
   "metadata": {},
   "outputs": [
    {
     "name": "stdout",
     "output_type": "stream",
     "text": [
      "[2 3 2]\n",
      "[4 9 4]\n"
     ]
    }
   ],
   "source": [
    "A = np.array([[1,2,4], [2,3,5], [4,5,6]])\n",
    "B = np.array([[1,0,0], [0,1,0], [0,0,1]])\n",
    "C = np.array([2,3,2])\n",
    "D = np.array([2,3,2])\n",
    "E = 2\n",
    "\n",
    "print(B.dot(D))\n",
    "print(C * D)"
   ]
  },
  {
   "cell_type": "code",
   "execution_count": 27,
   "metadata": {},
   "outputs": [
    {
     "name": "stdout",
     "output_type": "stream",
     "text": [
      "[[1 2 4]\n",
      " [2 3 5]\n",
      " [4 5 6]]\n",
      "[[1 2 4]\n",
      " [2 3 5]\n",
      " [4 5 6]]\n"
     ]
    }
   ],
   "source": [
    "A = np.array([[1,2,4], [2,3,5], [4,5,6]])\n",
    "\n",
    "print (A)\n",
    "print (A.T)"
   ]
  },
  {
   "cell_type": "code",
   "execution_count": 28,
   "metadata": {},
   "outputs": [
    {
     "name": "stdout",
     "output_type": "stream",
     "text": [
      "[[1 2 4]\n",
      " [2 3 5]\n",
      " [4 5 6]]\n"
     ]
    }
   ],
   "source": [
    "C = A.T\n",
    "print (C)"
   ]
  },
  {
   "cell_type": "code",
   "execution_count": 42,
   "metadata": {},
   "outputs": [
    {
     "name": "stdout",
     "output_type": "stream",
     "text": [
      "-2.9999999999999956\n"
     ]
    }
   ],
   "source": [
    "X = np.array([[1,2,3],[4,5,6], [5,6,8]])\n",
    "from numpy.linalg import det,inv,matrix_rank\n",
    "\n",
    "print(det(X))"
   ]
  },
  {
   "cell_type": "code",
   "execution_count": 43,
   "metadata": {},
   "outputs": [
    {
     "name": "stdout",
     "output_type": "stream",
     "text": [
      "[[-1.33333333 -0.66666667  1.        ]\n",
      " [ 0.66666667  2.33333333 -2.        ]\n",
      " [ 0.33333333 -1.33333333  1.        ]]\n"
     ]
    }
   ],
   "source": [
    "Y = inv(X)\n",
    "print(Y)"
   ]
  },
  {
   "cell_type": "code",
   "execution_count": 44,
   "metadata": {},
   "outputs": [
    {
     "name": "stdout",
     "output_type": "stream",
     "text": [
      "14\n"
     ]
    }
   ],
   "source": [
    "print(np.trace(X))"
   ]
  },
  {
   "cell_type": "code",
   "execution_count": 49,
   "metadata": {},
   "outputs": [
    {
     "name": "stdout",
     "output_type": "stream",
     "text": [
      "[[-1.   1. ]\n",
      " [ 1.  -0.5]]\n"
     ]
    }
   ],
   "source": [
    "Z = np.array([[1,2],[2,2]])                                                                                                                          \n",
    "print(inv(Z))\n",
    "    "
   ]
  },
  {
   "cell_type": "code",
   "execution_count": 46,
   "metadata": {},
   "outputs": [
    {
     "name": "stdout",
     "output_type": "stream",
     "text": [
      "2\n"
     ]
    }
   ],
   "source": [
    "print(matrix_rank(Z))\n"
   ]
  },
  {
   "cell_type": "code",
   "execution_count": null,
   "metadata": {},
   "outputs": [],
   "source": []
  }
 ],
 "metadata": {
  "kernelspec": {
   "display_name": "Python 3",
   "language": "python",
   "name": "python3"
  },
  "language_info": {
   "codemirror_mode": {
    "name": "ipython",
    "version": 3
   },
   "file_extension": ".py",
   "mimetype": "text/x-python",
   "name": "python",
   "nbconvert_exporter": "python",
   "pygments_lexer": "ipython3",
   "version": "3.7.3"
  }
 },
 "nbformat": 4,
 "nbformat_minor": 2
}
