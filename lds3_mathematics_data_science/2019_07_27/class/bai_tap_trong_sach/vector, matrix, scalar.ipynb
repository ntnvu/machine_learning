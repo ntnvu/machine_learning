{
 "cells": [
  {
   "cell_type": "code",
   "execution_count": 2,
   "metadata": {},
   "outputs": [],
   "source": [
    "import numpy as np"
   ]
  },
  {
   "cell_type": "code",
   "execution_count": 3,
   "metadata": {},
   "outputs": [],
   "source": [
    "def cal_scalar_mult(v,b):\n",
    "    return v * b"
   ]
  },
  {
   "cell_type": "code",
   "execution_count": 4,
   "metadata": {},
   "outputs": [
    {
     "name": "stdout",
     "output_type": "stream",
     "text": [
      "[[ 5 10 15]\n",
      " [20 25 30]]\n"
     ]
    }
   ],
   "source": [
    "a = np.array([[1,2,3], [4,5,6]])\n",
    "print(cal_scalar_mult(a,5))"
   ]
  },
  {
   "cell_type": "markdown",
   "metadata": {},
   "source": [
    "## câu 2\n",
    "#### create_matrix: nhập vào 1 ma trận\n",
    "#### create_vector: nhập vào 1 vector"
   ]
  },
  {
   "cell_type": "code",
   "execution_count": 5,
   "metadata": {},
   "outputs": [],
   "source": [
    "def create_matrix(m,n):\n",
    "    lst = []\n",
    "    for i in range(m):\n",
    "        lst_sub = []\n",
    "        for j in range(n):\n",
    "            s = \"M[\" + str(i+1) + \",\" + str(j+1) + \"]:\"\n",
    "            x = eval(input(s))\n",
    "            lst_sub.append(x)\n",
    "        lst.append(lst_sub)    \n",
    "    return np.array(lst)    "
   ]
  },
  {
   "cell_type": "code",
   "execution_count": 6,
   "metadata": {},
   "outputs": [],
   "source": [
    "def create_vector(n):\n",
    "    lst = []\n",
    "    for i in range(n):\n",
    "        s = 'v[' + str(i+1) + \"]:\"\n",
    "        x = eval(input(s))\n",
    "        lst.append(x)\n",
    "    return np.array(lst)"
   ]
  },
  {
   "cell_type": "code",
   "execution_count": 7,
   "metadata": {},
   "outputs": [
    {
     "name": "stdout",
     "output_type": "stream",
     "text": [
      "row: 3\n",
      "col: 3\n",
      "M[1,1]:1\n",
      "M[1,2]:2\n",
      "M[1,3]:3\n",
      "M[2,1]:4\n",
      "M[2,2]:5\n",
      "M[2,3]:6\n",
      "M[3,1]:7\n",
      "M[3,2]:8\n",
      "M[3,3]:9\n"
     ]
    }
   ],
   "source": [
    "r = int(input(\"row: \"))\n",
    "c = int(input(\"col: \"))\n",
    "A = create_matrix(r,c)"
   ]
  },
  {
   "cell_type": "code",
   "execution_count": 8,
   "metadata": {},
   "outputs": [
    {
     "name": "stdout",
     "output_type": "stream",
     "text": [
      "3\n",
      "v[1]:1\n",
      "v[2]:2\n",
      "v[3]:3\n"
     ]
    }
   ],
   "source": [
    "n = int(input())\n",
    "v = create_vector(n)"
   ]
  },
  {
   "cell_type": "code",
   "execution_count": 9,
   "metadata": {},
   "outputs": [
    {
     "name": "stdout",
     "output_type": "stream",
     "text": [
      "[[ 1  4  9]\n",
      " [ 4 10 18]\n",
      " [ 7 16 27]]\n"
     ]
    }
   ],
   "source": [
    "print(A * v)"
   ]
  },
  {
   "cell_type": "markdown",
   "metadata": {},
   "source": [
    "## Câu 3"
   ]
  },
  {
   "cell_type": "code",
   "execution_count": 10,
   "metadata": {},
   "outputs": [],
   "source": [
    "import random"
   ]
  },
  {
   "cell_type": "code",
   "execution_count": 11,
   "metadata": {},
   "outputs": [],
   "source": [
    "def create_matrix_random(m,n, start, end):\n",
    "    lst = []\n",
    "    for i in range(m):\n",
    "        lst_sub = []\n",
    "        for j in range(n):\n",
    "            x = random.randint(start, end+1)\n",
    "            lst_sub.append(x)\n",
    "        lst.append(lst_sub)    \n",
    "    return np.array(lst)   "
   ]
  },
  {
   "cell_type": "code",
   "execution_count": 17,
   "metadata": {},
   "outputs": [],
   "source": [
    "def create_vector_random(n, start, end):\n",
    "    lst = []\n",
    "    for i in range(n):        \n",
    "        x = random.randint(start, end+1)\n",
    "        lst.append(x)\n",
    "    return np.array(lst)"
   ]
  },
  {
   "cell_type": "code",
   "execution_count": 13,
   "metadata": {},
   "outputs": [
    {
     "name": "stdout",
     "output_type": "stream",
     "text": [
      "row: 10\n",
      "col: 5\n",
      "start: 2\n",
      "end: 9\n"
     ]
    }
   ],
   "source": [
    "r = int(input(\"row: \"))\n",
    "c = int(input(\"col: \"))\n",
    "start = int(input(\"start: \"))\n",
    "end = int(input(\"end: \"))\n",
    "RandomA = create_matrix_random(r,c,start, end)"
   ]
  },
  {
   "cell_type": "code",
   "execution_count": 14,
   "metadata": {},
   "outputs": [
    {
     "name": "stdout",
     "output_type": "stream",
     "text": [
      "[[ 5  5  2  3  2]\n",
      " [ 7  3  2  2 10]\n",
      " [ 8  2  2  6  4]\n",
      " [ 7  4  2  9 10]\n",
      " [ 3  7  7  2 10]\n",
      " [10 10  3  8  4]\n",
      " [10  6  2  9  4]\n",
      " [ 3  7  8 10  9]\n",
      " [ 2  9  4  5  5]\n",
      " [ 3  6  2  3  6]]\n"
     ]
    }
   ],
   "source": [
    "print(RandomA)"
   ]
  },
  {
   "cell_type": "code",
   "execution_count": 18,
   "metadata": {},
   "outputs": [],
   "source": [
    "randomv = create_vector_random(5, 1, 10)"
   ]
  },
  {
   "cell_type": "code",
   "execution_count": 19,
   "metadata": {},
   "outputs": [
    {
     "name": "stdout",
     "output_type": "stream",
     "text": [
      "[ 8  7 10  4  9]\n"
     ]
    }
   ],
   "source": [
    "print(randomv)"
   ]
  },
  {
   "cell_type": "code",
   "execution_count": 20,
   "metadata": {},
   "outputs": [
    {
     "name": "stdout",
     "output_type": "stream",
     "text": [
      "[[40 35 20 12 18]\n",
      " [56 21 20  8 90]\n",
      " [64 14 20 24 36]\n",
      " [56 28 20 36 90]\n",
      " [24 49 70  8 90]\n",
      " [80 70 30 32 36]\n",
      " [80 42 20 36 36]\n",
      " [24 49 80 40 81]\n",
      " [16 63 40 20 45]\n",
      " [24 42 20 12 54]]\n"
     ]
    }
   ],
   "source": [
    "print(RandomA * randomv)"
   ]
  },
  {
   "cell_type": "code",
   "execution_count": 21,
   "metadata": {},
   "outputs": [
    {
     "name": "stdout",
     "output_type": "stream",
     "text": [
      "[125 195 158 230 241 248 214 274 184 152]\n"
     ]
    }
   ],
   "source": [
    "print(RandomA.dot(randomv))"
   ]
  },
  {
   "cell_type": "code",
   "execution_count": null,
   "metadata": {},
   "outputs": [],
   "source": []
  }
 ],
 "metadata": {
  "kernelspec": {
   "display_name": "Python 3",
   "language": "python",
   "name": "python3"
  },
  "language_info": {
   "codemirror_mode": {
    "name": "ipython",
    "version": 3
   },
   "file_extension": ".py",
   "mimetype": "text/x-python",
   "name": "python",
   "nbconvert_exporter": "python",
   "pygments_lexer": "ipython3",
   "version": "3.7.3"
  }
 },
 "nbformat": 4,
 "nbformat_minor": 2
}
