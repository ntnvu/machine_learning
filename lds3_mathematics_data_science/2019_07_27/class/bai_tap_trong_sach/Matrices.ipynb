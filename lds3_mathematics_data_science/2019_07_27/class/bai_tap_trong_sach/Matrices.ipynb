{
 "cells": [
  {
   "cell_type": "code",
   "execution_count": 1,
   "metadata": {},
   "outputs": [],
   "source": [
    "import numpy as np"
   ]
  },
  {
   "cell_type": "markdown",
   "metadata": {},
   "source": [
    "#### cal_matrices"
   ]
  },
  {
   "cell_type": "code",
   "execution_count": 2,
   "metadata": {},
   "outputs": [],
   "source": [
    "def cal_matrices(op, m1, m2):\n",
    "    if(op == '+'):\n",
    "        return m1 + m2\n",
    "    if(op == '-'):\n",
    "        return m1 - m2\n",
    "    if(op == '*'):\n",
    "        return m1 * m2\n",
    "    if(op == '/'):\n",
    "        return m1 / m2"
   ]
  },
  {
   "cell_type": "code",
   "execution_count": 3,
   "metadata": {},
   "outputs": [
    {
     "name": "stdout",
     "output_type": "stream",
     "text": [
      "[[ 7  9 11]\n",
      " [13 15 17]]\n"
     ]
    }
   ],
   "source": [
    "u = np.array([[2,3,4],[5,6,7]])\n",
    "v = np.array([[5,6,7],[8,9,10]])\n",
    "\n",
    "print(cal_matrices(\"+\", u, v))"
   ]
  },
  {
   "cell_type": "code",
   "execution_count": 7,
   "metadata": {},
   "outputs": [
    {
     "name": "stdout",
     "output_type": "stream",
     "text": [
      "[[ 2 10 15]\n",
      " [42 56 81]]\n"
     ]
    }
   ],
   "source": [
    "a = np.array([[1,2,3], [7,8,9]])\n",
    "b = np.array([[2,5,5],[6,7,9]])\n",
    "\n",
    "print(cal_matrices(\"*\", a, b))"
   ]
  },
  {
   "cell_type": "code",
   "execution_count": null,
   "metadata": {},
   "outputs": [],
   "source": []
  }
 ],
 "metadata": {
  "kernelspec": {
   "display_name": "Python 3",
   "language": "python",
   "name": "python3"
  },
  "language_info": {
   "codemirror_mode": {
    "name": "ipython",
    "version": 3
   },
   "file_extension": ".py",
   "mimetype": "text/x-python",
   "name": "python",
   "nbconvert_exporter": "python",
   "pygments_lexer": "ipython3",
   "version": "3.7.3"
  }
 },
 "nbformat": 4,
 "nbformat_minor": 2
}
