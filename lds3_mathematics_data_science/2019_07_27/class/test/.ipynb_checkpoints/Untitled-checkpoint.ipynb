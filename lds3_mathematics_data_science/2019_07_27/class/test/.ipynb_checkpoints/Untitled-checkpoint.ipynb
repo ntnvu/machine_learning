{
 "cells": [
  {
   "cell_type": "code",
   "execution_count": 1,
   "metadata": {},
   "outputs": [],
   "source": [
    "import numpy as np"
   ]
  },
  {
   "cell_type": "code",
   "execution_count": 2,
   "metadata": {},
   "outputs": [],
   "source": [
    "import random"
   ]
  },
  {
   "cell_type": "code",
   "execution_count": 3,
   "metadata": {},
   "outputs": [],
   "source": [
    "def create_matrix_random(m,n, start, end):\n",
    "    lst = []\n",
    "    for i in range(m):\n",
    "        lst_sub = []\n",
    "        for j in range(n):\n",
    "            x = random.randint(start, end+1)\n",
    "            lst_sub.append(x)\n",
    "        lst.append(lst_sub)    \n",
    "    return np.array(lst)   "
   ]
  },
  {
   "cell_type": "code",
   "execution_count": 4,
   "metadata": {},
   "outputs": [
    {
     "name": "stdout",
     "output_type": "stream",
     "text": [
      "row: 5\n",
      "col: 5\n",
      "start: 5\n",
      "end: 9\n"
     ]
    }
   ],
   "source": [
    "r = int(input(\"row: \"))\n",
    "c = int(input(\"col: \"))\n",
    "start = int(input(\"start: \"))\n",
    "end = int(input(\"end: \"))\n",
    "RandomA = create_matrix_random(r,c,start, end)"
   ]
  },
  {
   "cell_type": "code",
   "execution_count": 5,
   "metadata": {},
   "outputs": [
    {
     "name": "stdout",
     "output_type": "stream",
     "text": [
      "[[ 7  7 10  5 10]\n",
      " [ 9 10  8  6  9]\n",
      " [10  5  6 10  5]\n",
      " [ 6  6 10 10  8]\n",
      " [ 9  7  6  5 10]]\n"
     ]
    }
   ],
   "source": [
    "print(RandomA)"
   ]
  },
  {
   "cell_type": "code",
   "execution_count": null,
   "metadata": {},
   "outputs": [],
   "source": []
  }
 ],
 "metadata": {
  "kernelspec": {
   "display_name": "Python 3",
   "language": "python",
   "name": "python3"
  },
  "language_info": {
   "codemirror_mode": {
    "name": "ipython",
    "version": 3
   },
   "file_extension": ".py",
   "mimetype": "text/x-python",
   "name": "python",
   "nbconvert_exporter": "python",
   "pygments_lexer": "ipython3",
   "version": "3.6.8"
  }
 },
 "nbformat": 4,
 "nbformat_minor": 2
}
