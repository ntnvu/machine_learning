{
 "cells": [
  {
   "cell_type": "markdown",
   "metadata": {},
   "source": [
    "Tính toán PCA"
   ]
  },
  {
   "cell_type": "code",
   "execution_count": 1,
   "metadata": {},
   "outputs": [],
   "source": [
    "import numpy as np"
   ]
  },
  {
   "cell_type": "code",
   "execution_count": 24,
   "metadata": {},
   "outputs": [
    {
     "data": {
      "text/plain": [
       "(3, 3)"
      ]
     },
     "execution_count": 24,
     "metadata": {},
     "output_type": "execute_result"
    }
   ],
   "source": [
    "A = np.random.randint(1,256,(3,3))\n",
    "A.shape"
   ]
  },
  {
   "cell_type": "code",
   "execution_count": 25,
   "metadata": {},
   "outputs": [
    {
     "data": {
      "text/plain": [
       "array([[ 59,  79,  16],\n",
       "       [ 63,  35, 123],\n",
       "       [190,  46, 213]])"
      ]
     },
     "execution_count": 25,
     "metadata": {},
     "output_type": "execute_result"
    }
   ],
   "source": [
    "A[0:10]"
   ]
  },
  {
   "cell_type": "code",
   "execution_count": 26,
   "metadata": {},
   "outputs": [
    {
     "ename": "SyntaxError",
     "evalue": "invalid syntax (<ipython-input-26-bbb166cc6c74>, line 2)",
     "output_type": "error",
     "traceback": [
      "\u001b[1;36m  File \u001b[1;32m\"<ipython-input-26-bbb166cc6c74>\"\u001b[1;36m, line \u001b[1;32m2\u001b[0m\n\u001b[1;33m    M = np.mean(A.T, axis = 1) //theo dòng\u001b[0m\n\u001b[1;37m                                         ^\u001b[0m\n\u001b[1;31mSyntaxError\u001b[0m\u001b[1;31m:\u001b[0m invalid syntax\n"
     ]
    }
   ],
   "source": [
    "# colmns' means\n",
    "M = np.mean(A.T, axis = 1) //theo dòng\n",
    "N = np.mean(A, axis = 0) // theo cột\n",
    "print(M)\n",
    "N"
   ]
  },
  {
   "cell_type": "markdown",
   "metadata": {},
   "source": [
    "## Array - Vector"
   ]
  },
  {
   "cell_type": "code",
   "execution_count": 23,
   "metadata": {},
   "outputs": [
    {
     "name": "stdout",
     "output_type": "stream",
     "text": [
      "[[7 8 9]\n",
      " [7 5 6]\n",
      " [7 9 8]]\n",
      "[1 2 3]\n",
      "[[6 6 6]\n",
      " [6 3 3]\n",
      " [6 7 5]]\n"
     ]
    }
   ],
   "source": [
    "TempArray = np.array([[7,8,9],[7,5,6], [7,9,8]])\n",
    "tempvector = np.array([1,2,3])\n",
    "print(TempArray)\n",
    "print(tempvector)\n",
    "print(TempArray - tempvector)"
   ]
  },
  {
   "cell_type": "code",
   "execution_count": 19,
   "metadata": {},
   "outputs": [
    {
     "data": {
      "text/plain": [
       "array([[  34.09833333, -121.588     ,   69.50833333],\n",
       "       [ -78.90166667, -108.588     ,   43.50833333],\n",
       "       [  49.09833333,    7.412     , -113.49166667],\n",
       "       [  16.09833333,  -58.588     ,  -18.49166667],\n",
       "       [ -43.90166667,   94.412     ,    2.50833333],\n",
       "       [ 116.09833333,  -83.588     ,  -40.49166667],\n",
       "       [  61.09833333,   35.412     ,   99.50833333],\n",
       "       [ 110.09833333,  -48.588     ,  126.50833333],\n",
       "       [  39.09833333,   65.412     ,  -82.49166667],\n",
       "       [-121.90166667,  -35.588     ,   35.50833333]])"
      ]
     },
     "execution_count": 19,
     "metadata": {},
     "output_type": "execute_result"
    }
   ],
   "source": [
    "# center columns by subtracting column means\n",
    "C = A - M\n",
    "C[0:10]"
   ]
  },
  {
   "cell_type": "code",
   "execution_count": 20,
   "metadata": {},
   "outputs": [],
   "source": [
    "V = np.cov(C.T)"
   ]
  },
  {
   "cell_type": "code",
   "execution_count": 18,
   "metadata": {},
   "outputs": [
    {
     "data": {
      "text/plain": [
       "array([5579.23709963, 5408.88957414, 5349.3640069 ])"
      ]
     },
     "execution_count": 18,
     "metadata": {},
     "output_type": "execute_result"
    }
   ],
   "source": [
    "values, vectors = np.linalg.eig(V)\n",
    "values"
   ]
  },
  {
   "cell_type": "code",
   "execution_count": null,
   "metadata": {},
   "outputs": [],
   "source": []
  },
  {
   "cell_type": "code",
   "execution_count": null,
   "metadata": {},
   "outputs": [],
   "source": []
  }
 ],
 "metadata": {
  "kernelspec": {
   "display_name": "Python 3",
   "language": "python",
   "name": "python3"
  },
  "language_info": {
   "codemirror_mode": {
    "name": "ipython",
    "version": 3
   },
   "file_extension": ".py",
   "mimetype": "text/x-python",
   "name": "python",
   "nbconvert_exporter": "python",
   "pygments_lexer": "ipython3",
   "version": "3.7.3"
  }
 },
 "nbformat": 4,
 "nbformat_minor": 2
}
