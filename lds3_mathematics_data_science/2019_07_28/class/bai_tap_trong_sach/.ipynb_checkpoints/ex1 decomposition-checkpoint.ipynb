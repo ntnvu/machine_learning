{
 "cells": [
  {
   "cell_type": "code",
   "execution_count": 9,
   "metadata": {},
   "outputs": [],
   "source": [
    "import numpy as np\n",
    "from numpy import array\n",
    "from scipy.linalg import lu\n",
    "from numpy.linalg import det, inv"
   ]
  },
  {
   "cell_type": "code",
   "execution_count": 2,
   "metadata": {},
   "outputs": [
    {
     "name": "stdout",
     "output_type": "stream",
     "text": [
      "[[9 5 9 1]\n",
      " [4 3 3 3]\n",
      " [4 6 7 8]\n",
      " [2 5 9 8]]\n"
     ]
    }
   ],
   "source": [
    "A = np.random.randint(1,10,(4,4))\n",
    "print(A)"
   ]
  },
  {
   "cell_type": "code",
   "execution_count": 4,
   "metadata": {},
   "outputs": [],
   "source": [
    "P, L, U = lu(A)"
   ]
  },
  {
   "cell_type": "code",
   "execution_count": 5,
   "metadata": {},
   "outputs": [
    {
     "name": "stdout",
     "output_type": "stream",
     "text": [
      "[[1. 0. 0. 0.]\n",
      " [0. 0. 0. 1.]\n",
      " [0. 0. 1. 0.]\n",
      " [0. 1. 0. 0.]]\n",
      "[[1.         0.         0.         0.        ]\n",
      " [0.22222222 1.         0.         0.        ]\n",
      " [0.44444444 0.97142857 1.         0.        ]\n",
      " [0.44444444 0.2        0.63157895 1.        ]]\n",
      "[[ 9.          5.          9.          1.        ]\n",
      " [ 0.          3.88888889  7.          7.77777778]\n",
      " [ 0.          0.         -3.8         0.        ]\n",
      " [ 0.          0.          0.          1.        ]]\n"
     ]
    }
   ],
   "source": [
    "print(P)\n",
    "print(L)\n",
    "print(U)"
   ]
  },
  {
   "cell_type": "code",
   "execution_count": 6,
   "metadata": {},
   "outputs": [
    {
     "name": "stdout",
     "output_type": "stream",
     "text": [
      "[[9. 5. 9. 1.]\n",
      " [4. 3. 3. 3.]\n",
      " [4. 6. 7. 8.]\n",
      " [2. 5. 9. 8.]]\n"
     ]
    }
   ],
   "source": [
    "B = P.dot(L).dot(U)\n",
    "print(B)"
   ]
  },
  {
   "cell_type": "code",
   "execution_count": 11,
   "metadata": {},
   "outputs": [
    {
     "name": "stdout",
     "output_type": "stream",
     "text": [
      "[  6.  15. -23.]\n",
      "[[1. 0. 0.]\n",
      " [0. 1. 0.]\n",
      " [0. 0. 1.]]\n",
      "[[ 1.   0.   0. ]\n",
      " [ 0.5  1.   0. ]\n",
      " [ 0.5 -0.2  1. ]]\n",
      "[[ 2.   1.   1. ]\n",
      " [ 0.   2.5  1.5]\n",
      " [ 0.   0.  -0.2]]\n"
     ]
    }
   ],
   "source": [
    "A = array([[2,1,1], [1,3,2], [1,0,0]])\n",
    "b = array([4,5,6])\n",
    "if(det(A) != 0):\n",
    "    B = inv(A)\n",
    "    x = B.dot(b)\n",
    "    print(x)\n",
    "P,L,U = lu(A)\n",
    "print(P)\n",
    "print(L)\n",
    "print(U)\n",
    "\n",
    "A_new = P.dot(L).dot(U)"
   ]
  },
  {
   "cell_type": "markdown",
   "metadata": {},
   "source": [
    "### Dùng scipy.linalg"
   ]
  },
  {
   "cell_type": "code",
   "execution_count": 13,
   "metadata": {},
   "outputs": [
    {
     "name": "stdout",
     "output_type": "stream",
     "text": [
      "(array([[ 2. ,  1. ,  1. ],\n",
      "       [ 0.5,  2.5,  1.5],\n",
      "       [ 0.5, -0.2, -0.2]]), array([0, 1, 2], dtype=int32))\n",
      "Solutions(a,b,c):\n",
      " [  6.  15. -23.]\n",
      "[ 3.   5.5 -0.6]\n"
     ]
    }
   ],
   "source": [
    "import scipy.linalg as linalg\n",
    "\n",
    "LU = linalg.lu_factor(A)\n",
    "\n",
    "x = linalg.lu_solve(LU, b)\n",
    "print(LU)\n",
    "print(\"Solutions(a,b,c):\\n\",x)\n",
    "\n",
    "Test = array([[ 2. ,  1. ,  1. ],\n",
    "       [ 0.5,  2.5,  1.5],\n",
    "       [ 0.5, -0.2, -0.2]])\n",
    "test = array([0, 1, 2])\n",
    "print(Test.dot(test))"
   ]
  },
  {
   "cell_type": "code",
   "execution_count": 26,
   "metadata": {},
   "outputs": [],
   "source": [
    "Random = np.random.randint(5,10,(4,5)) "
   ]
  },
  {
   "cell_type": "code",
   "execution_count": 27,
   "metadata": {},
   "outputs": [
    {
     "name": "stdout",
     "output_type": "stream",
     "text": [
      "[[8 6 6 7 7]\n",
      " [5 6 5 5 6]\n",
      " [5 8 5 5 7]\n",
      " [8 8 7 7 6]]\n"
     ]
    }
   ],
   "source": [
    "print(Random)"
   ]
  },
  {
   "cell_type": "code",
   "execution_count": 28,
   "metadata": {},
   "outputs": [
    {
     "name": "stdout",
     "output_type": "stream",
     "text": [
      "[[-0.59962535  0.58444871 -0.39498355 -0.37796447]\n",
      " [-0.37476584 -0.23799716  0.72312372 -0.52915026]\n",
      " [-0.37476584 -0.77424391 -0.5043636  -0.07559289]\n",
      " [-0.59962535  0.04820196  0.25825847  0.75592895]]\n",
      "[[-13.34166406 -13.64147674 -11.54278801 -12.14241336 -12.66708554]\n",
      " [  0.          -3.7296263   -1.21709938  -0.63265067  -2.46733759]\n",
      " [  0.           0.           0.53170862   0.13672507  -0.40713688]\n",
      " [  0.           0.           0.          -0.37796447  -1.81422947]]\n"
     ]
    }
   ],
   "source": [
    "from numpy.linalg import qr\n",
    "Q, R = qr(Random, 'complete')\n",
    "print(Q)\n",
    "print(R)"
   ]
  },
  {
   "cell_type": "code",
   "execution_count": 29,
   "metadata": {},
   "outputs": [
    {
     "name": "stdout",
     "output_type": "stream",
     "text": [
      "[[8. 6. 6. 7. 7.]\n",
      " [5. 6. 5. 5. 6.]\n",
      " [5. 8. 5. 5. 7.]\n",
      " [8. 8. 7. 7. 6.]]\n"
     ]
    }
   ],
   "source": [
    "print(Q.dot(R))"
   ]
  },
  {
   "cell_type": "code",
   "execution_count": 30,
   "metadata": {},
   "outputs": [
    {
     "name": "stdout",
     "output_type": "stream",
     "text": [
      "[[5 5 7]\n",
      " [4 5 4]\n",
      " [6 6 7]]\n"
     ]
    }
   ],
   "source": [
    "CholeskyR = np.random.randint(3,9,(3,3))\n",
    "print(CholeskyR)"
   ]
  },
  {
   "cell_type": "code",
   "execution_count": null,
   "metadata": {},
   "outputs": [],
   "source": []
  }
 ],
 "metadata": {
  "kernelspec": {
   "display_name": "Python 3",
   "language": "python",
   "name": "python3"
  },
  "language_info": {
   "codemirror_mode": {
    "name": "ipython",
    "version": 3
   },
   "file_extension": ".py",
   "mimetype": "text/x-python",
   "name": "python",
   "nbconvert_exporter": "python",
   "pygments_lexer": "ipython3",
   "version": "3.6.8"
  }
 },
 "nbformat": 4,
 "nbformat_minor": 2
}
