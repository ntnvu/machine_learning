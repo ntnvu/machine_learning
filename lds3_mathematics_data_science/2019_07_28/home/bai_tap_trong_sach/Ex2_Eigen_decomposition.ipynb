{
 "cells": [
  {
   "cell_type": "code",
   "execution_count": 31,
   "metadata": {},
   "outputs": [],
   "source": [
    "import sys"
   ]
  },
  {
   "cell_type": "code",
   "execution_count": 32,
   "metadata": {},
   "outputs": [
    {
     "data": {
      "text/plain": [
       "['C:\\\\aidev - ntnvu\\\\machine_learning\\\\lds3_mathematics_data_science\\\\2019_07_28\\\\home\\\\bai_tap_trong_sach',\n",
       " 'c:\\\\users\\\\aidev\\\\appdata\\\\local\\\\programs\\\\python\\\\python37\\\\python37.zip',\n",
       " 'c:\\\\users\\\\aidev\\\\appdata\\\\local\\\\programs\\\\python\\\\python37\\\\DLLs',\n",
       " 'c:\\\\users\\\\aidev\\\\appdata\\\\local\\\\programs\\\\python\\\\python37\\\\lib',\n",
       " 'c:\\\\users\\\\aidev\\\\appdata\\\\local\\\\programs\\\\python\\\\python37',\n",
       " '',\n",
       " 'c:\\\\users\\\\aidev\\\\appdata\\\\local\\\\programs\\\\python\\\\python37\\\\lib\\\\site-packages',\n",
       " 'c:\\\\users\\\\aidev\\\\appdata\\\\local\\\\programs\\\\python\\\\python37\\\\lib\\\\site-packages\\\\IPython\\\\extensions',\n",
       " 'C:\\\\Users\\\\AIDEV\\\\.ipython']"
      ]
     },
     "execution_count": 32,
     "metadata": {},
     "output_type": "execute_result"
    }
   ],
   "source": [
    "sys.path"
   ]
  },
  {
   "cell_type": "code",
   "execution_count": 2,
   "metadata": {},
   "outputs": [],
   "source": [
    "from mylib import *"
   ]
  },
  {
   "cell_type": "markdown",
   "metadata": {},
   "source": [
    "\n",
    "Câu 1:\n",
    "\n",
    "    Tạo ma trận A(5x5) với các giá trị ngẫu nhiên từ 1 đến 10\n",
    "    Phân tích thành eiganvalues và eiganvectors\n",
    "    Xác nhận eigenvector đầu tiên theo dot và theo eigenvalue có bằng nhau?\n",
    "    Nấu bằng nhau thi tái cấu trúc A từ các eigenvector và eigenvalue\n",
    "\n"
   ]
  },
  {
   "cell_type": "code",
   "execution_count": 3,
   "metadata": {},
   "outputs": [],
   "source": [
    "import numpy as np"
   ]
  },
  {
   "cell_type": "code",
   "execution_count": 14,
   "metadata": {},
   "outputs": [],
   "source": [
    "from numpy.linalg import eig, inv\n",
    "from numpy import diag"
   ]
  },
  {
   "cell_type": "code",
   "execution_count": 17,
   "metadata": {},
   "outputs": [
    {
     "name": "stdout",
     "output_type": "stream",
     "text": [
      "[[ 1  8  9  8  6]\n",
      " [ 3  2 11  2  1]\n",
      " [ 3  3  3  6  9]\n",
      " [ 1  5  9 11 11]\n",
      " [ 6  3 11  6  6]]\n"
     ]
    }
   ],
   "source": [
    "A = create_matrix_random(5,5,1,10)\n",
    "print(A)"
   ]
  },
  {
   "cell_type": "code",
   "execution_count": 18,
   "metadata": {},
   "outputs": [],
   "source": [
    "values, vectors = eig(A)"
   ]
  },
  {
   "cell_type": "code",
   "execution_count": 9,
   "metadata": {},
   "outputs": [
    {
     "name": "stdout",
     "output_type": "stream",
     "text": [
      "[-14.77945416+0.j -10.34745672+0.j -17.13266978+0.j -11.51581483+0.j\n",
      " -11.74826776+0.j]\n"
     ]
    }
   ],
   "source": [
    "B = A.dot(vectors[:, 0])\n",
    "print(B)"
   ]
  },
  {
   "cell_type": "code",
   "execution_count": 11,
   "metadata": {},
   "outputs": [
    {
     "name": "stdout",
     "output_type": "stream",
     "text": [
      "[-14.77945416+0.j -10.34745672+0.j -17.13266978+0.j -11.51581483+0.j\n",
      " -11.74826776+0.j]\n"
     ]
    }
   ],
   "source": [
    "C = vectors[:,0] * values[0]\n",
    "print(C)"
   ]
  },
  {
   "cell_type": "code",
   "execution_count": 19,
   "metadata": {},
   "outputs": [
    {
     "name": "stdout",
     "output_type": "stream",
     "text": [
      "[[ 1.+7.73100705e-16j  8.-5.65711671e-16j  9.-6.59790627e-16j\n",
      "   8.+4.44256237e-16j  6.+4.41082089e-16j]\n",
      " [ 3.+8.26863399e-16j  2.-7.94698841e-16j 11.-9.17969444e-16j\n",
      "   2.+2.18728390e-16j  1.+1.10132788e-15j]\n",
      " [ 3.+9.06022715e-16j  3.-6.59062450e-16j  3.-3.75317995e-16j\n",
      "   6.+1.86916062e-16j  9.-7.48342926e-16j]\n",
      " [ 1.+1.13944402e-15j  5.-4.50288308e-16j  9.-7.40601992e-16j\n",
      "  11.+5.67175189e-16j 11.-1.95522588e-16j]\n",
      " [ 6.+1.38671129e-15j  3.-1.55854123e-15j 11.-1.03977201e-15j\n",
      "   6.+1.59190275e-16j  6.+3.33825288e-16j]]\n"
     ]
    }
   ],
   "source": [
    "Q = vectors\n",
    "R = inv(Q)\n",
    "L = diag(values)\n",
    "A_new = Q.dot(L).dot(R)\n",
    "print(A_new)"
   ]
  },
  {
   "cell_type": "markdown",
   "metadata": {},
   "source": [
    "Câu 2:\n",
    "\n",
    "    Tạo ma trận P(4x4) vuông với các giá trị ngẫu nhiên tứ 1 đến 9\n",
    "    Tạo ma trận đối xứng S=P.PT\n",
    "\n",
    "Tìm eigenvalues và eigenvectors của S"
   ]
  },
  {
   "cell_type": "code",
   "execution_count": 21,
   "metadata": {},
   "outputs": [],
   "source": [
    "from numpy.linalg import eig, inv\n",
    "from numpy import diag"
   ]
  },
  {
   "cell_type": "code",
   "execution_count": 23,
   "metadata": {},
   "outputs": [
    {
     "name": "stdout",
     "output_type": "stream",
     "text": [
      "[[10  2  3  2]\n",
      " [ 1  2  3  5]\n",
      " [10  5  9  2]\n",
      " [ 5  2  4  7]]\n"
     ]
    }
   ],
   "source": [
    "P = create_matrix_random(4,4,1,9)\n",
    "print(P)"
   ]
  },
  {
   "cell_type": "code",
   "execution_count": 24,
   "metadata": {},
   "outputs": [
    {
     "name": "stdout",
     "output_type": "stream",
     "text": [
      "[[117  33 141  80]\n",
      " [ 33  39  57  56]\n",
      " [141  57 210 110]\n",
      " [ 80  56 110  94]]\n"
     ]
    }
   ],
   "source": [
    "S = P.dot(P.T)\n",
    "print(S)"
   ]
  },
  {
   "cell_type": "code",
   "execution_count": 26,
   "metadata": {},
   "outputs": [
    {
     "name": "stdout",
     "output_type": "stream",
     "text": [
      "[[-0.42859596  0.04530349 -0.39174332 -0.03248959]\n",
      " [-0.29847932 -0.87134412  0.69723995  0.4859082 ]\n",
      " [-0.70449329  0.48406056 -0.17209892 -0.64847248]\n",
      " [-0.48052555 -0.06627523  0.57513092  0.58508212]]\n",
      "-----------\n",
      "[18.56631869  0.66171239  4.82200485  3.94996406]\n"
     ]
    }
   ],
   "source": [
    "vectors, values = eig(P)\n",
    "print(values)\n",
    "print(\"-----------\")\n",
    "print(vectors)"
   ]
  },
  {
   "cell_type": "code",
   "execution_count": null,
   "metadata": {},
   "outputs": [],
   "source": []
  }
 ],
 "metadata": {
  "kernelspec": {
   "display_name": "Python 3",
   "language": "python",
   "name": "python3"
  },
  "language_info": {
   "codemirror_mode": {
    "name": "ipython",
    "version": 3
   },
   "file_extension": ".py",
   "mimetype": "text/x-python",
   "name": "python",
   "nbconvert_exporter": "python",
   "pygments_lexer": "ipython3",
   "version": "3.7.3"
  }
 },
 "nbformat": 4,
 "nbformat_minor": 2
}
