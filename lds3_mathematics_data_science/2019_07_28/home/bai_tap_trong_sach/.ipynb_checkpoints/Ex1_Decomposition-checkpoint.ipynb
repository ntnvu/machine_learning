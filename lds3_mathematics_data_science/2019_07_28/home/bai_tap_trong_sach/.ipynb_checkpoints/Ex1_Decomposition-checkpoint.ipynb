{
 "cells": [
  {
   "cell_type": "code",
   "execution_count": 17,
   "metadata": {},
   "outputs": [],
   "source": [
    "import numpy as np\n",
    "import random\n",
    "import scipy\n",
    "from scipy.linalg import lu"
   ]
  },
  {
   "cell_type": "code",
   "execution_count": 16,
   "metadata": {},
   "outputs": [],
   "source": [
    "def create_matrix_random(m,n, start, end):\n",
    "    lst = []\n",
    "    for i in range(m):\n",
    "        lst_sub = []\n",
    "        for j in range(n):\n",
    "            x = random.randint(start, end+1)\n",
    "            lst_sub.append(x)\n",
    "        lst.append(lst_sub)    \n",
    "    return np.array(lst)   "
   ]
  },
  {
   "cell_type": "code",
   "execution_count": 20,
   "metadata": {},
   "outputs": [
    {
     "name": "stdout",
     "output_type": "stream",
     "text": [
      "[[4 2 5 1]\n",
      " [9 2 6 1]\n",
      " [5 8 7 6]\n",
      " [2 2 8 1]]\n"
     ]
    }
   ],
   "source": [
    "A = create_matrix_random(4,4,1,10)\n",
    "print(A)"
   ]
  },
  {
   "cell_type": "code",
   "execution_count": 21,
   "metadata": {},
   "outputs": [],
   "source": [
    "P, L, U = lu(A)"
   ]
  },
  {
   "cell_type": "code",
   "execution_count": 22,
   "metadata": {},
   "outputs": [
    {
     "name": "stdout",
     "output_type": "stream",
     "text": [
      "[[4. 2. 5. 1.]\n",
      " [9. 2. 6. 1.]\n",
      " [5. 8. 7. 6.]\n",
      " [2. 2. 8. 1.]]\n"
     ]
    }
   ],
   "source": [
    "B = P.dot(L).dot(U)\n",
    "print(B)"
   ]
  },
  {
   "cell_type": "markdown",
   "metadata": {},
   "source": [
    "\n",
    "Câu 2: Hãy dùng LU Decompostion để làm lại bài toán này:\n",
    "\n",
    "    Cho:\n",
    "    2a + b + c = 4\n",
    "    a + 3b + 2c = 5\n",
    "    a = 6\n",
    "    Quy về Ax = B. Sau đó giải tìm x\n",
    "    Phân tích thành các thành phần P, L, U từ A. In kết quả\n",
    "    Tại tạo ma trận A từ các thành phần P, L, U với tên là A_new\n",
    "\n"
   ]
  },
  {
   "cell_type": "markdown",
   "metadata": {},
   "source": [
    "Ta có mảng 2 chiều A"
   ]
  },
  {
   "cell_type": "code",
   "execution_count": 23,
   "metadata": {},
   "outputs": [],
   "source": [
    "A = np.array([[2,1,1],[1,3,2],[1,0,0]])"
   ]
  },
  {
   "cell_type": "markdown",
   "metadata": {},
   "source": [
    "Ta có vector b"
   ]
  },
  {
   "cell_type": "code",
   "execution_count": null,
   "metadata": {},
   "outputs": [],
   "source": [
    "b = np.array([4,5,6])"
   ]
  },
  {
   "cell_type": "markdown",
   "metadata": {},
   "source": [
    "Tính LU decomposition từ A"
   ]
  },
  {
   "cell_type": "code",
   "execution_count": 24,
   "metadata": {},
   "outputs": [],
   "source": [
    "P, L, U = lu(A)"
   ]
  },
  {
   "cell_type": "code",
   "execution_count": 25,
   "metadata": {},
   "outputs": [
    {
     "name": "stdout",
     "output_type": "stream",
     "text": [
      "[[1. 0. 0.]\n",
      " [0. 1. 0.]\n",
      " [0. 0. 1.]]\n",
      "[[ 1.   0.   0. ]\n",
      " [ 0.5  1.   0. ]\n",
      " [ 0.5 -0.2  1. ]]\n",
      "[[ 2.   1.   1. ]\n",
      " [ 0.   2.5  1.5]\n",
      " [ 0.   0.  -0.2]]\n"
     ]
    }
   ],
   "source": [
    "print(P)\n",
    "print(L)\n",
    "print(U)"
   ]
  },
  {
   "cell_type": "code",
   "execution_count": 26,
   "metadata": {},
   "outputs": [],
   "source": [
    "A_new = P.dot(L).dot(U)"
   ]
  },
  {
   "cell_type": "code",
   "execution_count": 27,
   "metadata": {},
   "outputs": [
    {
     "name": "stdout",
     "output_type": "stream",
     "text": [
      "[[ 2.00000000e+00  1.00000000e+00  1.00000000e+00]\n",
      " [ 1.00000000e+00  3.00000000e+00  2.00000000e+00]\n",
      " [ 1.00000000e+00 -2.77555756e-17  2.77555756e-17]]\n"
     ]
    }
   ],
   "source": [
    "print(A_new)"
   ]
  },
  {
   "cell_type": "markdown",
   "metadata": {},
   "source": [
    "\n",
    "## Câu 3: QA Decomposition\n",
    "\n",
    "    Tạo ma trận C(4x5) chứa các giá trị ngẫu nhiên trong khoảng 5 - 10\n",
    "    Phân tích thành các thành phần Q, R. In kết quả\n",
    "    Tái tạo ma trận D từ các thành phần Q, R.\n",
    "\n"
   ]
  },
  {
   "cell_type": "markdown",
   "metadata": {},
   "source": [
    "QA phân rã ma trân mxn với m != n"
   ]
  },
  {
   "cell_type": "code",
   "execution_count": 32,
   "metadata": {},
   "outputs": [
    {
     "name": "stdout",
     "output_type": "stream",
     "text": [
      "[[ 9 11  5 10 11]\n",
      " [11 10  7  8  7]\n",
      " [ 6 10  8  9  6]\n",
      " [ 9 11  8 10  6]]\n"
     ]
    }
   ],
   "source": [
    "C = create_matrix_random(4,5,5,10)\n",
    "print(C)"
   ]
  },
  {
   "cell_type": "code",
   "execution_count": 33,
   "metadata": {},
   "outputs": [],
   "source": [
    "from numpy.linalg import qr"
   ]
  },
  {
   "cell_type": "code",
   "execution_count": 35,
   "metadata": {},
   "outputs": [
    {
     "name": "stdout",
     "output_type": "stream",
     "text": [
      "[[-0.50390326  0.14773636  0.84741269 -0.07840406]\n",
      " [-0.61588176 -0.64344061 -0.28669341 -0.35281827]\n",
      " [-0.33593551  0.73643202 -0.37031232 -0.4557236 ]\n",
      " [-0.50390326  0.14773636 -0.25013475  0.81344212]]\n",
      "[[-17.8605711  -20.6040444  -13.54939877 -18.02853885 -14.89314079]\n",
      " [  0.           4.18011414   3.30794465   4.4350906    2.42602606]\n",
      " [  0.           0.          -2.73336703   0.34642121   3.5920033 ]\n",
      " [  0.           0.           0.           0.42632207  -1.1858614 ]]\n"
     ]
    }
   ],
   "source": [
    "Q, R = qr(C, 'complete')\n",
    "print(Q)\n",
    "print(R)"
   ]
  },
  {
   "cell_type": "code",
   "execution_count": 36,
   "metadata": {},
   "outputs": [
    {
     "name": "stdout",
     "output_type": "stream",
     "text": [
      "[[ 9. 11.  5. 10. 11.]\n",
      " [11. 10.  7.  8.  7.]\n",
      " [ 6. 10.  8.  9.  6.]\n",
      " [ 9. 11.  8. 10.  6.]]\n"
     ]
    }
   ],
   "source": [
    "D = Q.dot(R)\n",
    "print(D)"
   ]
  },
  {
   "cell_type": "markdown",
   "metadata": {},
   "source": [
    "\n",
    "## Câu 4: Cholesky Decomposition\n",
    "\n",
    "    Tạo ma trận E(3x3) vuông chứa các giá trị ngẫu nhiên trong khoảng 3 - 9.\n",
    "    Từ đó chuyển E thành ma trận vuông đối xứng theo tam giác dưới dường chéo chính\n",
    "    Kiểm tra nếu mọi thành phần đều không âm thì:\n",
    "        Phân tích thành L. In kết quả\n",
    "        Tái tạo ma trận F từ các thành phần L.L.T\n",
    "    Ngược lại thì thông báo E có thành phần âm\n",
    "    Chú ý: dùng np.linalg.eigvalsh(E) để kiểm tra xem mọi thành phần có âm hay không\n",
    "    Mở rộng: Thực hiện việc tạo ma trận vuông đối xứng với mọi thành phần đều không âm và phân tích.\n",
    "\n"
   ]
  },
  {
   "cell_type": "code",
   "execution_count": 57,
   "metadata": {},
   "outputs": [],
   "source": [
    "from numpy.linalg import cholesky, eigvalsh, eig"
   ]
  },
  {
   "cell_type": "code",
   "execution_count": 44,
   "metadata": {},
   "outputs": [
    {
     "name": "stdout",
     "output_type": "stream",
     "text": [
      "[[ 4  5  8]\n",
      " [10  9  8]\n",
      " [ 8  5  8]]\n"
     ]
    }
   ],
   "source": [
    "E = create_matrix_random(3,3,3,9)\n",
    "print(E)"
   ]
  },
  {
   "cell_type": "code",
   "execution_count": 45,
   "metadata": {},
   "outputs": [
    {
     "data": {
      "text/plain": [
       "(3, 3)"
      ]
     },
     "execution_count": 45,
     "metadata": {},
     "output_type": "execute_result"
    }
   ],
   "source": [
    "E.shape"
   ]
  },
  {
   "cell_type": "code",
   "execution_count": 46,
   "metadata": {},
   "outputs": [
    {
     "name": "stdout",
     "output_type": "stream",
     "text": [
      "[[ 4 10  8]\n",
      " [10  9  5]\n",
      " [ 8  5  8]]\n"
     ]
    }
   ],
   "source": [
    "for i in range(E.shape[0]):\n",
    "    for j in range(i):\n",
    "        E[j][i] = E[i][j]\n",
    "print(E)"
   ]
  },
  {
   "cell_type": "code",
   "execution_count": 65,
   "metadata": {},
   "outputs": [],
   "source": [
    "test = np.linalg.eigvalsh(E)"
   ]
  },
  {
   "cell_type": "code",
   "execution_count": 67,
   "metadata": {},
   "outputs": [],
   "source": [
    "flag = np.all(test>0)"
   ]
  },
  {
   "cell_type": "code",
   "execution_count": 64,
   "metadata": {},
   "outputs": [
    {
     "name": "stdout",
     "output_type": "stream",
     "text": [
      "[-4.92715836  3.51333209 22.41382627]\n"
     ]
    }
   ],
   "source": [
    "print(eigvalsh(Temp))"
   ]
  },
  {
   "cell_type": "markdown",
   "metadata": {},
   "source": [
    "Cholesky dành cho ma trận vuông đối xứng"
   ]
  },
  {
   "cell_type": "code",
   "execution_count": 68,
   "metadata": {},
   "outputs": [
    {
     "name": "stdout",
     "output_type": "stream",
     "text": [
      "E not positive definite\n"
     ]
    }
   ],
   "source": [
    "if flag==True:\n",
    "    L = cholesky(E)\n",
    "    print(L)\n",
    "    F = L.dot(L.T)\n",
    "else:\n",
    "    print('E not positive definite')"
   ]
  },
  {
   "cell_type": "code",
   "execution_count": 70,
   "metadata": {},
   "outputs": [],
   "source": [
    "def create_matrix_positive_definite(m,n,start,end):\n",
    "    E = None\n",
    "    flag = False\n",
    "    while flag == False:\n",
    "        E = create_matrix_random(m,n,start,end)\n",
    "        for i in range(m):\n",
    "            for j in range(i):\n",
    "                E[j][i] = E[i][j]\n",
    "        test = eigvalsh(E)\n",
    "        flag = np.all(test>0)\n",
    "    return E"
   ]
  },
  {
   "cell_type": "code",
   "execution_count": 74,
   "metadata": {},
   "outputs": [
    {
     "name": "stdout",
     "output_type": "stream",
     "text": [
      "[[ 5  3  5]\n",
      " [ 3 10  6]\n",
      " [ 5  6 10]]\n"
     ]
    }
   ],
   "source": [
    "E = create_matrix_positive_definite(3,3,3,9)\n",
    "print(E)"
   ]
  },
  {
   "cell_type": "code",
   "execution_count": 76,
   "metadata": {},
   "outputs": [
    {
     "name": "stdout",
     "output_type": "stream",
     "text": [
      "[[ 5.  3.  5.]\n",
      " [ 3. 10.  6.]\n",
      " [ 5.  6. 10.]]\n"
     ]
    }
   ],
   "source": [
    "L = cholesky(E)\n",
    "print(L.dot(L.T))"
   ]
  },
  {
   "cell_type": "code",
   "execution_count": null,
   "metadata": {},
   "outputs": [],
   "source": []
  }
 ],
 "metadata": {
  "kernelspec": {
   "display_name": "Python 3",
   "language": "python",
   "name": "python3"
  },
  "language_info": {
   "codemirror_mode": {
    "name": "ipython",
    "version": 3
   },
   "file_extension": ".py",
   "mimetype": "text/x-python",
   "name": "python",
   "nbconvert_exporter": "python",
   "pygments_lexer": "ipython3",
   "version": "3.7.3"
  }
 },
 "nbformat": 4,
 "nbformat_minor": 2
}
