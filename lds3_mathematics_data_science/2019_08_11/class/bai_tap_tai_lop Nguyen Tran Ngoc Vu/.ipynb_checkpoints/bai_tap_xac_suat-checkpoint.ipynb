{
 "cells": [
  {
   "cell_type": "code",
   "execution_count": null,
   "metadata": {},
   "outputs": [],
   "source": [
    "# Nguyen Tran Ngoc Vu\n",
    "\n",
    "def get_dictionary():\n",
    "  d = {}\n",
    "  stop = 1\n",
    "  while stop == 1:\n",
    "    color = input(\"mau: \")\n",
    "    num = int(input(\"so luong: \"))\n",
    "    d[color] = num\n",
    "    stop = int(input(\"continue: 1 or not : 0 ? : \"))\n",
    "  return d\n",
    "\n",
    "d = get_dictionary()\n",
    "print(d)\n",
    "\n",
    "mau_sac = input(\"mau kiem tra: \")\n",
    "so_luong = int(input(\"so luong kiem tra: \"))\n",
    "def bai_tap(d, mau, so_luong):\n",
    "    P_of_mau = 1;\n",
    "    for i in range(so_luong):\n",
    "      total_temp = sum(d.values()) - i\n",
    "      print(\"total_temp: \" + str(total_temp))\n",
    "      so_mau_con_lai_temp = d[mau] - i\n",
    "      print(\"so_mau_con_lai_temp: \" + str(so_mau_con_lai_temp))\n",
    "      P_of_mau *= so_mau_con_lai_temp / total_temp\n",
    "      print(\"P_of_mau: \" + ('%.2f' % P_of_mau))\n",
    "    \n",
    "    return P_of_mau\n",
    "    \n",
    "print('%.2f' % bai_tap(d, mau_sac, so_luong))\n"
   ]
  },
  {
   "cell_type": "code",
   "execution_count": null,
   "metadata": {},
   "outputs": [],
   "source": []
  }
 ],
 "metadata": {
  "kernelspec": {
   "display_name": "Python 3",
   "language": "python",
   "name": "python3"
  },
  "language_info": {
   "codemirror_mode": {
    "name": "ipython",
    "version": 3
   },
   "file_extension": ".py",
   "mimetype": "text/x-python",
   "name": "python",
   "nbconvert_exporter": "python",
   "pygments_lexer": "ipython3",
   "version": "3.6.8"
  }
 },
 "nbformat": 4,
 "nbformat_minor": 2
}
