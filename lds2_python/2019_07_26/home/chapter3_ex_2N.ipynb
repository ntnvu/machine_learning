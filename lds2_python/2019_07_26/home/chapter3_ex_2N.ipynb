{
 "cells": [
  {
   "cell_type": "markdown",
   "metadata": {},
   "source": [
    "## Chapter 3 - Exercise 2: Đọc và chuyển dữ liệu sau đó tính BMI theo điều kiện, truy xuất dữ liệu\n",
    "### Dữ liệu được trích xuất từ http://wiki.stat.ucla.edu/socr/index.php/SOCR_Data_MLB_HeightsWeights\n",
    "### Cho tập tin heights_1.txt, weights_1.txt => hãy chép dữ liệu từ tập tin này vào list là height, weight\n",
    "1. Chuyển list height thành numpy array np_height => In shape của np_height\n",
    "2. Chuyển list weight thành numpy array np_weight => In shape của np_weight\n",
    "3. Cho hệ số quy đổi từ inch sang m là 0.0254 => Hãy tạo ra numpy array np_height_m dựa trên công thức: np_height * hệ số quy đổi này => In kết quả\n",
    "4. Cho hệ số quy đổi từ pound sang kg là 0.453592 => Hãy tạo ra numpy array np_weight_kg dựa trên công thức: np_weight * hệ số quy đổi này => In kết quả\n",
    "5. Tính và in BMI của np_height_m và np_weight_kg theo công thức BIM = Cân nặng / (Chiều cao * Chiều cao)\n",
    "6. In weight ở vị trí index 50\n",
    "7. In ra array con lấy từ index 100 đến index 110 (lấy cả index 110)"
   ]
  },
  {
   "cell_type": "code",
   "execution_count": 1,
   "metadata": {},
   "outputs": [],
   "source": [
    "import numpy as np"
   ]
  },
  {
   "cell_type": "code",
   "execution_count": 11,
   "metadata": {},
   "outputs": [
    {
     "name": "stdout",
     "output_type": "stream",
     "text": [
      "[74. 74. 72. ... 75. 75. 73.]\n",
      "<class 'numpy.ndarray'>\n",
      "(1015,)\n"
     ]
    }
   ],
   "source": [
    "heights = np.loadtxt('heights_1.txt', comments='#', delimiter=',', unpack=False)\n",
    "print(heights)\n",
    "print(type(heights))\n",
    "print(heights.shape)"
   ]
  },
  {
   "cell_type": "code",
   "execution_count": 12,
   "metadata": {},
   "outputs": [
    {
     "name": "stdout",
     "output_type": "stream",
     "text": [
      "[74. 74. 72. ... 75. 75. 73.]\n",
      "<class 'numpy.ndarray'>\n",
      "(1015,)\n"
     ]
    }
   ],
   "source": [
    "np_heights = np.array(heights)\n",
    "print(np_heights)\n",
    "print(type(np_heights))\n",
    "print(np_heights.shape)"
   ]
  },
  {
   "cell_type": "code",
   "execution_count": 33,
   "metadata": {},
   "outputs": [],
   "source": [
    "with open('weights_1.txt', 'r') as file:\n",
    "    data = file.read()\n",
    "    data = data.replace('[', '').replace(']', '')\n",
    "    listString = data.split(',')\n",
    "    np_weights = np.array(list(map(lambda x: int(x), listString)))"
   ]
  },
  {
   "cell_type": "code",
   "execution_count": 34,
   "metadata": {},
   "outputs": [
    {
     "name": "stdout",
     "output_type": "stream",
     "text": [
      "[180 215 210 ... 205 190 195]\n",
      "(1015,)\n",
      "<class 'numpy.ndarray'>\n"
     ]
    }
   ],
   "source": [
    "print(np_weights)\n",
    "print(np_weights.shape)\n",
    "print(type(np_weights))"
   ]
  },
  {
   "cell_type": "code",
   "execution_count": 35,
   "metadata": {},
   "outputs": [
    {
     "name": "stdout",
     "output_type": "stream",
     "text": [
      "1015\n"
     ]
    }
   ],
   "source": [
    "print(len(np_weights))"
   ]
  },
  {
   "cell_type": "code",
   "execution_count": 36,
   "metadata": {},
   "outputs": [
    {
     "name": "stdout",
     "output_type": "stream",
     "text": [
      "[1.8796 1.8796 1.8288 ... 1.905  1.905  1.8542]\n"
     ]
    }
   ],
   "source": [
    "np_height_m = np_heights * 0.0254\n",
    "print(np_height_m)"
   ]
  },
  {
   "cell_type": "code",
   "execution_count": 39,
   "metadata": {},
   "outputs": [
    {
     "name": "stdout",
     "output_type": "stream",
     "text": [
      "[81.63036 97.50293 95.23542 ... 92.96791 86.16538 88.43289]\n"
     ]
    }
   ],
   "source": [
    "np_weight_kg = np_weights * 0.453502\n",
    "print(np_weight_kg)"
   ]
  },
  {
   "cell_type": "code",
   "execution_count": 40,
   "metadata": {},
   "outputs": [
    {
     "name": "stdout",
     "output_type": "stream",
     "text": [
      "[23.10579092 27.59858359 28.47515359 ... 25.61787532 23.74339664\n",
      " 25.72175899]\n"
     ]
    }
   ],
   "source": [
    "bmi = np_weight_kg/(np_height_m ** 2)\n",
    "print(bmi)"
   ]
  },
  {
   "cell_type": "code",
   "execution_count": null,
   "metadata": {},
   "outputs": [],
   "source": [
    "print()"
   ]
  }
 ],
 "metadata": {
  "kernelspec": {
   "display_name": "Python 3",
   "language": "python",
   "name": "python3"
  },
  "language_info": {
   "codemirror_mode": {
    "name": "ipython",
    "version": 3
   },
   "file_extension": ".py",
   "mimetype": "text/x-python",
   "name": "python",
   "nbconvert_exporter": "python",
   "pygments_lexer": "ipython3",
   "version": "3.7.3"
  }
 },
 "nbformat": 4,
 "nbformat_minor": 2
}
