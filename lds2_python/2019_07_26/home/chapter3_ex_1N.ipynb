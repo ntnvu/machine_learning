{
 "cells": [
  {
   "cell_type": "markdown",
   "metadata": {},
   "source": [
    "# Chapter 3 - exercise 1: Hãy thực hiện các yêu cầu sau:\n",
    "1. Tạo numpy array có giá trị từ 0 - 9, in array, type, shape\n",
    "2. Từ numpy array ở câu 1 => tạo arr_odd và arr_even => in 2 array mới này\n",
    "3. Từ numpy array ở câu 1 => tạo arr_update_1 với các phần tử chẵn giữ nguyên, các phần tử lẻ thay bằng 100 => in kết quả\n",
    "4. Từ 2 array => tạo arr mới chỉ chứa các phần tử xuất hiện ở cả 2 array, lấy duy nhất, dùng np.intersect1d(a,b)\n",
    "5. Từ 2 array a và b ở câu trên => Tạo array mới chỉ chứa các phần tử chỉ xuất hiện ở array a, dùng np.setdiff1d(a,b)\n",
    "6. Cho array e, tạo array f chỉ chứa các phần tử có giá trị từ 5 đến 10 của e\n",
    "7. Tạo array có 10 phần tử 0, cập nhật phần tử ở vị trí thứ 5 là 1\n",
    "8. Tạo array có giá trị từ 10 đến 24\n",
    "9. Cho array k => tạo array l từ k với các phần tử đếu khác 0\n",
    "10. Từ array của câu trên, thêm 2 phần tử có giá trị là 10, 20 vào cuối array\n",
    "11. Từ array của câu trên, thêm phần tử có giá trị 100 vào index = 5\n",
    "12. Từ array của câu trên, xóa phần tử index = 0, 1, 2"
   ]
  },
  {
   "cell_type": "code",
   "execution_count": 1,
   "metadata": {},
   "outputs": [],
   "source": [
    "import numpy as np"
   ]
  },
  {
   "cell_type": "code",
   "execution_count": 3,
   "metadata": {},
   "outputs": [
    {
     "name": "stdout",
     "output_type": "stream",
     "text": [
      "[0 1 2 3 4 5 6 7 8 9]\n"
     ]
    }
   ],
   "source": [
    "a = np.arange(10)\n",
    "print(a)"
   ]
  },
  {
   "cell_type": "code",
   "execution_count": 4,
   "metadata": {},
   "outputs": [
    {
     "name": "stdout",
     "output_type": "stream",
     "text": [
      "<class 'numpy.ndarray'>\n"
     ]
    }
   ],
   "source": [
    "print(type(a))"
   ]
  },
  {
   "cell_type": "code",
   "execution_count": 5,
   "metadata": {},
   "outputs": [
    {
     "name": "stdout",
     "output_type": "stream",
     "text": [
      "(10,)\n"
     ]
    }
   ],
   "source": [
    "print(a.shape)"
   ]
  },
  {
   "cell_type": "code",
   "execution_count": 6,
   "metadata": {},
   "outputs": [
    {
     "name": "stdout",
     "output_type": "stream",
     "text": [
      "[0 2 4 6 8]\n",
      "[1 3 5 7 9]\n"
     ]
    }
   ],
   "source": [
    "arr_odd = a[a % 2 == 0]\n",
    "arr_even = a[a % 2 != 0]\n",
    "\n",
    "print(arr_odd)\n",
    "print(arr_even)"
   ]
  },
  {
   "cell_type": "code",
   "execution_count": 13,
   "metadata": {},
   "outputs": [
    {
     "name": "stdout",
     "output_type": "stream",
     "text": [
      "[  0 100   2 100   4 100   6 100   8 100]\n",
      "[  0 100   2 100   4 100   6 100   8 100]\n"
     ]
    }
   ],
   "source": [
    "arr_update_1 = a\n",
    "arr_update_1[arr_update_1 % 2 != 0] = 100\n",
    "print(arr_update_1)\n",
    "print(a)"
   ]
  },
  {
   "cell_type": "code",
   "execution_count": 11,
   "metadata": {},
   "outputs": [
    {
     "name": "stdout",
     "output_type": "stream",
     "text": [
      "[  0   2   4   6   8 100]\n"
     ]
    }
   ],
   "source": [
    "arr_update_2 = np.intersect1d(arr_update_1, a)\n",
    "print(arr_update_2)"
   ]
  },
  {
   "cell_type": "code",
   "execution_count": 14,
   "metadata": {},
   "outputs": [
    {
     "name": "stdout",
     "output_type": "stream",
     "text": [
      "[]\n"
     ]
    }
   ],
   "source": [
    "arr_update_3 = np.setdiff1d(a,arr_update_1)\n",
    "print(arr_update_3)"
   ]
  },
  {
   "cell_type": "code",
   "execution_count": 15,
   "metadata": {},
   "outputs": [
    {
     "name": "stdout",
     "output_type": "stream",
     "text": [
      "(array([ 5,  6,  7,  8,  9, 10, 11, 12, 13, 14, 15, 16, 17, 18, 19],\n",
      "      dtype=int64),)\n",
      "[ 5  6  7  8  9 10 11 12 13 14 15 16 17 18 19]\n"
     ]
    }
   ],
   "source": [
    "e = np.arange(20)\n",
    "indexes = np.where(e >= 5)\n",
    "print(indexes)\n",
    "print(e[indexes])"
   ]
  },
  {
   "cell_type": "code",
   "execution_count": 16,
   "metadata": {},
   "outputs": [
    {
     "name": "stdout",
     "output_type": "stream",
     "text": [
      "[ 5  6  7  8  9 10 11 12 13 14 15 16 17 18 19]\n"
     ]
    }
   ],
   "source": [
    "print(np.extract(e >= 5, e))"
   ]
  },
  {
   "cell_type": "code",
   "execution_count": 18,
   "metadata": {},
   "outputs": [
    {
     "name": "stdout",
     "output_type": "stream",
     "text": [
      "[ 5  6  7  8  9 10]\n"
     ]
    }
   ],
   "source": [
    "print(e[(e >= 5) & (e <= 10)])"
   ]
  },
  {
   "cell_type": "code",
   "execution_count": 21,
   "metadata": {},
   "outputs": [
    {
     "name": "stdout",
     "output_type": "stream",
     "text": [
      "[0. 0. 0. 0. 0. 0. 0. 0. 0. 0.]\n",
      "[0. 0. 0. 0. 1. 0. 0. 0. 0. 0.]\n"
     ]
    }
   ],
   "source": [
    "g = np.zeros(10)\n",
    "print(g)\n",
    "g[4] = 1\n",
    "print(g)"
   ]
  },
  {
   "cell_type": "code",
   "execution_count": 22,
   "metadata": {},
   "outputs": [
    {
     "name": "stdout",
     "output_type": "stream",
     "text": [
      "[12 13 14 15 16 17 18 19 20 21 22 23 24]\n"
     ]
    }
   ],
   "source": [
    "c = np.arange(12,25)\n",
    "print(c)"
   ]
  },
  {
   "cell_type": "code",
   "execution_count": 31,
   "metadata": {},
   "outputs": [
    {
     "name": "stdout",
     "output_type": "stream",
     "text": [
      "[ 1  2  4  6 43  5]\n",
      "[ 1  2  4  6 43  5]\n"
     ]
    }
   ],
   "source": [
    "k = np.array([1,2,4,6,0,43,5, 0])\n",
    "l = k[k != 0]\n",
    "n = k[k.nonzero()]\n",
    "print(l)\n",
    "print(n)"
   ]
  },
  {
   "cell_type": "code",
   "execution_count": 32,
   "metadata": {},
   "outputs": [
    {
     "name": "stdout",
     "output_type": "stream",
     "text": [
      "[ 1  2  4  6 43  5 10 20]\n"
     ]
    }
   ],
   "source": [
    "l = np.append(l, [10,20])\n",
    "print(l)"
   ]
  },
  {
   "cell_type": "code",
   "execution_count": 33,
   "metadata": {},
   "outputs": [
    {
     "name": "stdout",
     "output_type": "stream",
     "text": [
      "[  1   2   4   6  43 100   5  10  20]\n"
     ]
    }
   ],
   "source": [
    "l = np.insert(l, 5, 100)\n",
    "print(l)"
   ]
  },
  {
   "cell_type": "code",
   "execution_count": 34,
   "metadata": {},
   "outputs": [
    {
     "name": "stdout",
     "output_type": "stream",
     "text": [
      "[  6  43 100   5  10  20]\n"
     ]
    }
   ],
   "source": [
    "l = np.delete(l, [0,1,2])\n",
    "print(l)"
   ]
  },
  {
   "cell_type": "code",
   "execution_count": null,
   "metadata": {},
   "outputs": [],
   "source": []
  }
 ],
 "metadata": {
  "kernelspec": {
   "display_name": "Python 3",
   "language": "python",
   "name": "python3"
  },
  "language_info": {
   "codemirror_mode": {
    "name": "ipython",
    "version": 3
   },
   "file_extension": ".py",
   "mimetype": "text/x-python",
   "name": "python",
   "nbconvert_exporter": "python",
   "pygments_lexer": "ipython3",
   "version": "3.7.3"
  }
 },
 "nbformat": 4,
 "nbformat_minor": 2
}
