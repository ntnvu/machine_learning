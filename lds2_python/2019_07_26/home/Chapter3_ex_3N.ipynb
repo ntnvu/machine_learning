{
 "cells": [
  {
   "cell_type": "markdown",
   "metadata": {},
   "source": [
    "## Chapter 3 - Exercise 3\n",
    "1. Tạo array 3x3 với tất cả các giá trị đều là True. In array\n",
    "2. Cho array 1D có 9 phần tử 0-8 => chuyển thành array 2D (3x3) => In array. Chuyển cột 1 sang cột 3 và ngược lại. => In array\n",
    "3. Sử dụng array 2D của câu trên, chuyển dòng 1 sang dòng 2 và ngược lại => In array\n",
    "4. Sử dụng array 2D của câu trên, Đảo ngược các dòng của array 2D => In array\n",
    "5. Sử dụng array 2D của câu trên, Đảo ngược các cột của array 2D = > In array\n",
    "6. Cho h = np.array([[1, 2, 3], [np.NaN, 5, 6], [7, np.NaN, 9], [4, 5, 6]]), kiểm tra xem trong array có giá trị rỗng nào không?\n",
    "7. Sử dụng array 2D của câu trên, thay thế giá trị null bằng 0"
   ]
  },
  {
   "cell_type": "code",
   "execution_count": 1,
   "metadata": {},
   "outputs": [],
   "source": [
    "import numpy as np"
   ]
  },
  {
   "cell_type": "code",
   "execution_count": 2,
   "metadata": {},
   "outputs": [
    {
     "name": "stdout",
     "output_type": "stream",
     "text": [
      "[[ True  True  True]\n",
      " [ True  True  True]\n",
      " [ True  True  True]]\n"
     ]
    }
   ],
   "source": [
    "a = np.ones((3,3), dtype=bool)\n",
    "print(a)"
   ]
  },
  {
   "cell_type": "code",
   "execution_count": 7,
   "metadata": {},
   "outputs": [
    {
     "name": "stdout",
     "output_type": "stream",
     "text": [
      "[ 5  5  8 29  8  8  9  0  8]\n"
     ]
    }
   ],
   "source": [
    "A = np.array([5,5,8,29,8,8,9,0,8])\n",
    "print(A)"
   ]
  },
  {
   "cell_type": "code",
   "execution_count": 8,
   "metadata": {},
   "outputs": [
    {
     "name": "stdout",
     "output_type": "stream",
     "text": [
      "[[ 5  5  8]\n",
      " [29  8  8]\n",
      " [ 9  0  8]]\n"
     ]
    }
   ],
   "source": [
    "C = A.reshape(3,3)\n",
    "print(C)"
   ]
  },
  {
   "cell_type": "code",
   "execution_count": 9,
   "metadata": {},
   "outputs": [
    {
     "name": "stdout",
     "output_type": "stream",
     "text": [
      "[[ 8  5  5]\n",
      " [ 8  8 29]\n",
      " [ 8  0  9]]\n"
     ]
    }
   ],
   "source": [
    "C_Change_Col = C[:, [2,1,0]]\n",
    "print(C_Change_Col)"
   ]
  },
  {
   "cell_type": "code",
   "execution_count": null,
   "metadata": {},
   "outputs": [],
   "source": []
  }
 ],
 "metadata": {
  "kernelspec": {
   "display_name": "Python 3",
   "language": "python",
   "name": "python3"
  },
  "language_info": {
   "codemirror_mode": {
    "name": "ipython",
    "version": 3
   },
   "file_extension": ".py",
   "mimetype": "text/x-python",
   "name": "python",
   "nbconvert_exporter": "python",
   "pygments_lexer": "ipython3",
   "version": "3.7.3"
  }
 },
 "nbformat": 4,
 "nbformat_minor": 2
}
