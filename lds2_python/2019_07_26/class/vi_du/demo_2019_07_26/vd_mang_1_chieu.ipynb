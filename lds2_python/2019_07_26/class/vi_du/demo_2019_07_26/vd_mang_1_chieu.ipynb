{
 "cells": [
  {
   "cell_type": "code",
   "execution_count": 1,
   "metadata": {},
   "outputs": [],
   "source": [
    "import numpy as np"
   ]
  },
  {
   "cell_type": "code",
   "execution_count": 2,
   "metadata": {},
   "outputs": [
    {
     "name": "stdout",
     "output_type": "stream",
     "text": [
      "[1 2 3 4 5 6]\n"
     ]
    }
   ],
   "source": [
    "a = np.array([1,2,3,4,5,6])\n",
    "print(a)\n"
   ]
  },
  {
   "cell_type": "code",
   "execution_count": 3,
   "metadata": {},
   "outputs": [
    {
     "name": "stdout",
     "output_type": "stream",
     "text": [
      "(6,)\n"
     ]
    }
   ],
   "source": [
    "print(a.shape)"
   ]
  },
  {
   "cell_type": "code",
   "execution_count": 5,
   "metadata": {},
   "outputs": [
    {
     "name": "stdout",
     "output_type": "stream",
     "text": [
      "[ 0  1  2  3  4  5  6  7  8  9 10 11 12 13 14 15 16 17 18 19]\n"
     ]
    }
   ],
   "source": [
    "b = np.arange(20)\n",
    "print(b)"
   ]
  },
  {
   "cell_type": "code",
   "execution_count": 6,
   "metadata": {},
   "outputs": [
    {
     "name": "stdout",
     "output_type": "stream",
     "text": [
      "[10 12 14 16 18]\n"
     ]
    }
   ],
   "source": [
    "c = np.arange(10, 20, 2)\n",
    "print(c)"
   ]
  },
  {
   "cell_type": "code",
   "execution_count": 7,
   "metadata": {},
   "outputs": [
    {
     "name": "stdout",
     "output_type": "stream",
     "text": [
      "[10 12 14 16 18 27 23 21]\n"
     ]
    }
   ],
   "source": [
    "# them\n",
    "c = np.append(c,[27,23,21])\n",
    "print(c)\n"
   ]
  },
  {
   "cell_type": "code",
   "execution_count": 8,
   "metadata": {},
   "outputs": [
    {
     "name": "stdout",
     "output_type": "stream",
     "text": [
      "[10 12 14 61 18 27 23 21]\n"
     ]
    }
   ],
   "source": [
    "# sua\n",
    "c[3] = 61\n",
    "print(c)"
   ]
  },
  {
   "cell_type": "code",
   "execution_count": 10,
   "metadata": {
    "collapsed": true
   },
   "outputs": [
    {
     "name": "stdout",
     "output_type": "stream",
     "text": [
      "before: [10 45 12 14 61 18 27 23 21]\n",
      "after: [10 45 36 67 45 12 14 61 18 27 23 21]\n"
     ]
    }
   ],
   "source": [
    "# chen\n",
    "print('before:',c)\n",
    "c = np.insert(c,1,[45,36,67])\n",
    "print('after:',c)"
   ]
  },
  {
   "cell_type": "code",
   "execution_count": 13,
   "metadata": {
    "collapsed": true
   },
   "outputs": [
    {
     "name": "stdout",
     "output_type": "stream",
     "text": [
      "[23 34 45 56 67 45 32 91 21]\n"
     ]
    }
   ],
   "source": [
    "a = np.array([23,34,45,56,67,45,32,91,21])\n",
    "print(a)\n"
   ]
  },
  {
   "cell_type": "code",
   "execution_count": 15,
   "metadata": {},
   "outputs": [
    {
     "name": "stdout",
     "output_type": "stream",
     "text": [
      "[56 45 91]\n",
      "56\n",
      "45\n",
      "91\n"
     ]
    }
   ],
   "source": [
    "s = slice(3,8,2) # 3,5,7\n",
    "print(a[s]) # 56,45,91\n",
    "print(a[s][0])\n",
    "print(a[s][1])\n",
    "print(a[s][2])"
   ]
  },
  {
   "cell_type": "code",
   "execution_count": 19,
   "metadata": {},
   "outputs": [
    {
     "name": "stdout",
     "output_type": "stream",
     "text": [
      "[23 34 45 56 67 45 32 91 21]\n",
      "[ 529 1156 2025 3136 4489 2025 1024 8281  441]\n"
     ]
    }
   ],
   "source": [
    "a = np.array([23,34,45,56,67,45,32,91,21])\n",
    "print(a)\n",
    "b = a*a\n",
    "print(b)"
   ]
  },
  {
   "cell_type": "code",
   "execution_count": 20,
   "metadata": {},
   "outputs": [
    {
     "name": "stdout",
     "output_type": "stream",
     "text": [
      "[24 35 46 57 68 46 33 92 22]\n"
     ]
    }
   ],
   "source": [
    "b = a+1\n",
    "print(b)"
   ]
  },
  {
   "cell_type": "code",
   "execution_count": 21,
   "metadata": {},
   "outputs": [
    {
     "name": "stdout",
     "output_type": "stream",
     "text": [
      "529\n"
     ]
    }
   ],
   "source": [
    "print(23*23)"
   ]
  },
  {
   "cell_type": "code",
   "execution_count": 24,
   "metadata": {},
   "outputs": [
    {
     "name": "stdout",
     "output_type": "stream",
     "text": [
      "[ 46  68  90 112 134  90  64  91  21]\n"
     ]
    }
   ],
   "source": [
    "a = np.array([23,34,45,56,67,45,32,91,21])\n",
    "b = np.array([23,34,45,56,67,45,32])\n",
    "for i in range(len(a)-len(b)):\n",
    "    b = np.append(b,[0])\n",
    "print(a+b)    "
   ]
  },
  {
   "cell_type": "code",
   "execution_count": 25,
   "metadata": {},
   "outputs": [
    {
     "name": "stdout",
     "output_type": "stream",
     "text": [
      "[23 34 45 56 67 45 32 91 21]\n",
      "[21 23 32 34 45 45 56 67 91]\n"
     ]
    }
   ],
   "source": [
    "a = np.array([23,34,45,56,67,45,32,91,21])\n",
    "print(a)\n",
    "b = np.sort(a)\n",
    "print(b)"
   ]
  },
  {
   "cell_type": "code",
   "execution_count": 27,
   "metadata": {},
   "outputs": [
    {
     "name": "stdout",
     "output_type": "stream",
     "text": [
      "[91 67 56 45 45 34 32 23 21]\n"
     ]
    }
   ],
   "source": [
    "c = b[::-1]\n",
    "print(c)"
   ]
  },
  {
   "cell_type": "code",
   "execution_count": null,
   "metadata": {},
   "outputs": [],
   "source": []
  }
 ],
 "metadata": {
  "kernelspec": {
   "display_name": "Python 3",
   "language": "python",
   "name": "python3"
  },
  "language_info": {
   "codemirror_mode": {
    "name": "ipython",
    "version": 3
   },
   "file_extension": ".py",
   "mimetype": "text/x-python",
   "name": "python",
   "nbconvert_exporter": "python",
   "pygments_lexer": "ipython3",
   "version": "3.6.8"
  }
 },
 "nbformat": 4,
 "nbformat_minor": 2
}
