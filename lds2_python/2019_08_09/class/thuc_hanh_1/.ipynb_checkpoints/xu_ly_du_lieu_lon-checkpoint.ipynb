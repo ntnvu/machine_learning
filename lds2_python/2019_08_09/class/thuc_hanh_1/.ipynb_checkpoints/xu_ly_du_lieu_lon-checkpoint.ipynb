{
 "cells": [
  {
   "cell_type": "code",
   "execution_count": 1,
   "metadata": {},
   "outputs": [],
   "source": [
    "import numpy as np\n",
    "import pandas as pd"
   ]
  },
  {
   "cell_type": "code",
   "execution_count": 3,
   "metadata": {},
   "outputs": [
    {
     "name": "stdout",
     "output_type": "stream",
     "text": [
      "i= 1\n",
      "    masv              ho    ten  gioitinh             ngaysinh  \\\n",
      "0  C0001     Khương Thảo   Loan     False  1999-01-04 00:00:00   \n",
      "1  C0002       Đặng Bạch   Ngọc      True  1999-11-11 00:00:00   \n",
      "2  C0003   Phạm Văn Minh  Thiện      True  1999-11-23 00:00:00   \n",
      "3  C0004  Đinh Thị Thanh   Dung     False  1999-01-19 00:00:00   \n",
      "4  C0005       Trần Mạnh  Thiện      True  1999-08-19 00:00:00   \n",
      "\n",
      "                email         didong          cmnd  hocbong makh  \n",
      "0    ktloan@gmail.com  b'0987314518'  586900775484  2000000   CN  \n",
      "1    dbngoc@gmail.com  b'0987587327'  274387352269        0   CN  \n",
      "2  pvmthien@gmail.com  b'0987858734'  835772714136        0   CN  \n",
      "3   dttdung@gmail.com  b'0987508413'  373064334392  1000000   CN  \n",
      "4   tmthien@gmail.com  b'0987579776'  233384596844  1000000   CN  \n",
      "i= 2\n",
      "      masv           ho   ten  gioitinh             ngaysinh  \\\n",
      "100  C0101  Khương Thảo  Dung     False  1999-04-05 00:00:00   \n",
      "101  C0102      Mã Thảo    Ly     False  1999-05-11 00:00:00   \n",
      "102  C0103    Vương Văn  Hiệu      True  1999-07-07 00:00:00   \n",
      "103  C0104       Lê Nam   Huy      True  1999-04-14 00:00:00   \n",
      "104  C0105   Hoàng Vĩnh   Tân      True  1999-10-11 00:00:00   \n",
      "\n",
      "                email         didong          cmnd  hocbong makh  \n",
      "100  ktdung@gmail.com  b'0168490255'  818383527641        0   CN  \n",
      "101    mtly@gmail.com  b'0913155875'  222824361015  3000000   CN  \n",
      "102  vvhieu@gmail.com  b'0913040177'  423261991223        0   CN  \n",
      "103   lnhuy@gmail.com  b'0987378557'  882696553923  2000000   CN  \n",
      "104   hvtan@gmail.com  b'0168442133'  755741396622  3000000   CN  \n",
      "i= 3\n",
      "      masv               ho     ten  gioitinh             ngaysinh  \\\n",
      "200  C0201          Lý Vĩnh    Sang      True  1999-01-29 00:00:00   \n",
      "201  C0202          Lê Thảo     Nga     False  1999-02-25 00:00:00   \n",
      "202  C0203     Khương Thanh  Phương     False  1999-06-01 00:00:00   \n",
      "203  C0204  Khương Văn Minh     Tân      True  1999-08-10 00:00:00   \n",
      "204  C0205          Cao Văn   Phong      True  1999-04-10 00:00:00   \n",
      "\n",
      "                  email         didong          cmnd  hocbong makh  \n",
      "200    lvsang@gmail.com  b'0168458283'  116681821024        0   CN  \n",
      "201     ltnga@gmail.com  b'0913399918'  622956823559  2000000   CN  \n",
      "202  ktphuong@gmail.com  b'0913257653'  813464485434  2000000   CN  \n",
      "203    kvmtan@gmail.com  b'0987186154'  680791265074  3000000   CN  \n",
      "204   cvphong@gmail.com  b'0913513318'  467601440437  2000000   CN  \n",
      "i= 4\n",
      "      masv             ho    ten  gioitinh             ngaysinh  \\\n",
      "300  C0301  Bạch Văn Minh    Bảo      True  1999-02-16 00:00:00   \n",
      "301  C0302       Đặng Thị  Nhung     False  1999-02-03 00:00:00   \n",
      "302  C0303  Đặng Văn Minh  Phong      True  1999-01-11 00:00:00   \n",
      "303  C0304        Văn Phú    Thu     False  1999-03-19 00:00:00   \n",
      "304  C0305        Lê Ngọc   Ngân     False  1999-09-09 00:00:00   \n",
      "\n",
      "                  email         didong          cmnd  hocbong makh  \n",
      "300    bvmbao@gmail.com  b'0168340188'  567057612357        0   CN  \n",
      "301   dtnhung@gmail.com  b'0168434753'  865782549233        0   CN  \n",
      "302  dvmphong@gmail.com  b'0168221742'  321731414280  1000000   CN  \n",
      "303     vpthu@gmail.com  b'0987617367'  431068204211  3000000   CN  \n",
      "304    lnngan@gmail.com  b'0913120844'  825417777847        0   CN  \n",
      "i= 5\n",
      "      masv            ho    ten  gioitinh             ngaysinh  \\\n",
      "400  C0401     Bạch Bạch     Mỹ      True  1999-12-14 00:00:00   \n",
      "401  C0402  Đàm Văn Minh  Thiệu      True  1999-06-25 00:00:00   \n",
      "402  C0403      Phạm Văn  Thiện      True  1999-06-17 00:00:00   \n",
      "403  C0404        Mã Phú   Ngân      True  1999-07-15 00:00:00   \n",
      "404  C0405      Trần Văn  Thiện      True  1999-06-04 00:00:00   \n",
      "\n",
      "                  email         didong          cmnd  hocbong makh  \n",
      "400      bbmy@gmail.com  b'0913696887'  966406308632  2000000   CN  \n",
      "401  dvmthieu@gmail.com  b'0168547454'  269426565563        0   CN  \n",
      "402   pvthien@gmail.com  b'0168528593'  495604827305  3000000   CN  \n",
      "403    mpngan@gmail.com  b'0913437123'  664955067082  1000000   CN  \n",
      "404   tvthien@gmail.com  b'0168147443'  419623773784        0   CN  \n"
     ]
    }
   ],
   "source": [
    "c_size = 100\n",
    "i = 1\n",
    "for df_chunk in pd.read_csv('sinh_vien_CN.csv', dtype={'didong': 'S10'}, chunksize=c_size):\n",
    "    print('i=',i)\n",
    "    print(df_chunk.head())\n",
    "    i+=1"
   ]
  },
  {
   "cell_type": "code",
   "execution_count": 3,
   "metadata": {},
   "outputs": [],
   "source": [
    "c_size = 100\n",
    "data = []\n",
    "for df_chunk in pd.read_csv('sinh_vien.csv', dtype={'didong': 'S10'}, chunksize=c_size):\n",
    "    data.append(df_chunk)"
   ]
  },
  {
   "cell_type": "code",
   "execution_count": 31,
   "metadata": {},
   "outputs": [
    {
     "name": "stdout",
     "output_type": "stream",
     "text": [
      "10\n"
     ]
    }
   ],
   "source": [
    "print(len(data))"
   ]
  },
  {
   "cell_type": "code",
   "execution_count": 32,
   "metadata": {},
   "outputs": [],
   "source": [
    "df = pd.concat(data)"
   ]
  },
  {
   "cell_type": "code",
   "execution_count": 33,
   "metadata": {},
   "outputs": [
    {
     "name": "stdout",
     "output_type": "stream",
     "text": [
      "(1000, 10)\n"
     ]
    }
   ],
   "source": [
    "print(df.shape)"
   ]
  },
  {
   "cell_type": "code",
   "execution_count": 34,
   "metadata": {},
   "outputs": [
    {
     "name": "stdout",
     "output_type": "stream",
     "text": [
      "    masv              ho    ten  gioitinh             ngaysinh  \\\n",
      "0  C0001     Khương Thảo   Loan     False  1999-01-04 00:00:00   \n",
      "1  C0002       Đặng Bạch   Ngọc      True  1999-11-11 00:00:00   \n",
      "2  C0003   Phạm Văn Minh  Thiện      True  1999-11-23 00:00:00   \n",
      "3  C0004  Đinh Thị Thanh   Dung     False  1999-01-19 00:00:00   \n",
      "4  C0005       Trần Mạnh  Thiện      True  1999-08-19 00:00:00   \n",
      "\n",
      "                email         didong          cmnd  hocbong makh  \n",
      "0    ktloan@gmail.com  b'0987314518'  586900775484  2000000   CN  \n",
      "1    dbngoc@gmail.com  b'0987587327'  274387352269        0   CN  \n",
      "2  pvmthien@gmail.com  b'0987858734'  835772714136        0   CN  \n",
      "3   dttdung@gmail.com  b'0987508413'  373064334392  1000000   CN  \n",
      "4   tmthien@gmail.com  b'0987579776'  233384596844  1000000   CN  \n"
     ]
    }
   ],
   "source": [
    "print(df.head())"
   ]
  },
  {
   "cell_type": "code",
   "execution_count": 35,
   "metadata": {},
   "outputs": [
    {
     "name": "stdout",
     "output_type": "stream",
     "text": [
      "      masv           ho    ten  gioitinh             ngaysinh  \\\n",
      "995  V0996    Trần Mạnh  Thăng      True  1999-06-21 00:00:00   \n",
      "996  V0997    Trần Vĩnh  Thiện      True  1999-07-23 00:00:00   \n",
      "997  V0998  Khương Thảo   Hạnh     False  1999-08-16 00:00:00   \n",
      "998  V0999    Đinh Ngọc   Ngọc      True  1999-05-25 00:00:00   \n",
      "999  V1000      Lý Mạnh    Bảo      True  1999-06-03 00:00:00   \n",
      "\n",
      "                 email         didong          cmnd  hocbong makh  \n",
      "995  tmthang@gmail.com  b'0987250062'  768656897616  2000000   VL  \n",
      "996  tvthien@gmail.com  b'0987716502'  468267857113  3000000   VL  \n",
      "997   kthanh@gmail.com  b'0913696608'  702859343545        0   VL  \n",
      "998   dnngoc@gmail.com  b'0913689521'  187831202224  3000000   VL  \n",
      "999    lmbao@gmail.com  b'0987656186'  865173188581        0   VL  \n"
     ]
    }
   ],
   "source": [
    "print(df.tail())"
   ]
  }
 ],
 "metadata": {
  "kernelspec": {
   "display_name": "Python 3",
   "language": "python",
   "name": "python3"
  },
  "language_info": {
   "codemirror_mode": {
    "name": "ipython",
    "version": 3
   },
   "file_extension": ".py",
   "mimetype": "text/x-python",
   "name": "python",
   "nbconvert_exporter": "python",
   "pygments_lexer": "ipython3",
   "version": "3.6.8"
  }
 },
 "nbformat": 4,
 "nbformat_minor": 2
}
