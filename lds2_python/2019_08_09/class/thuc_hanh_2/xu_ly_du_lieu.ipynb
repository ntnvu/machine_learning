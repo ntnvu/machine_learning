{
 "cells": [
  {
   "cell_type": "code",
   "execution_count": 1,
   "metadata": {},
   "outputs": [],
   "source": [
    "import pandas as pd"
   ]
  },
  {
   "cell_type": "code",
   "execution_count": 2,
   "metadata": {},
   "outputs": [],
   "source": [
    "employees = pd.read_excel('employees.xls')"
   ]
  },
  {
   "cell_type": "code",
   "execution_count": 3,
   "metadata": {},
   "outputs": [
    {
     "name": "stdout",
     "output_type": "stream",
     "text": [
      "(107, 11)\n"
     ]
    }
   ],
   "source": [
    "print(employees.shape)"
   ]
  },
  {
   "cell_type": "code",
   "execution_count": 4,
   "metadata": {},
   "outputs": [
    {
     "name": "stdout",
     "output_type": "stream",
     "text": [
      "Index(['EMPLOYEE_ID', 'FIRST_NAME', 'LAST_NAME', 'EMAIL', 'PHONE_NUMBER',\n",
      "       'HIRE_DATE', 'JOB_ID', 'SALARY', 'COMMISSION_PCT', 'MANAGER_ID',\n",
      "       'DEPARTMENT_ID'],\n",
      "      dtype='object')\n"
     ]
    }
   ],
   "source": [
    "print(employees.columns)"
   ]
  },
  {
   "cell_type": "code",
   "execution_count": 5,
   "metadata": {},
   "outputs": [
    {
     "name": "stdout",
     "output_type": "stream",
     "text": [
      "   EMPLOYEE_ID FIRST_NAME LAST_NAME     EMAIL  PHONE_NUMBER  \\\n",
      "0          100     Steven      King     SKING  515.123.4567   \n",
      "1          101      Neena   Kochhar  NKOCHHAR  515.123.4568   \n",
      "2          102        Lex   De Haan   LDEHAAN  515.123.4569   \n",
      "3          103  Alexander    Hunold   AHUNOLD  590.423.4567   \n",
      "4          104      Bruce     Ernst    BERNST  590.423.4568   \n",
      "\n",
      "             HIRE_DATE   JOB_ID  SALARY  COMMISSION_PCT  MANAGER_ID  \\\n",
      "0  2003-06-17 00:00:00  AD_PRES   24000             NaN         NaN   \n",
      "1  2005-09-21 00:00:00    AD_VP   17000             NaN       100.0   \n",
      "2  2001-01-13 00:00:00    AD_VP   17000             NaN       100.0   \n",
      "3  2006-01-03 00:00:00  IT_PROG    9000             NaN       102.0   \n",
      "4  2007-05-21 00:00:00  IT_PROG    6000             NaN       103.0   \n",
      "\n",
      "   DEPARTMENT_ID  \n",
      "0           90.0  \n",
      "1           90.0  \n",
      "2           90.0  \n",
      "3           60.0  \n",
      "4           60.0  \n"
     ]
    }
   ],
   "source": [
    "print(employees.head())"
   ]
  },
  {
   "cell_type": "code",
   "execution_count": 6,
   "metadata": {},
   "outputs": [],
   "source": [
    "departments = pd.read_excel('departments.xls')"
   ]
  },
  {
   "cell_type": "code",
   "execution_count": 7,
   "metadata": {
    "collapsed": true
   },
   "outputs": [
    {
     "name": "stdout",
     "output_type": "stream",
     "text": [
      "    DEPARTMENT_ID       DEPARTMENT_NAME  MANAGER_ID  LOCATION_ID\n",
      "0              10        Administration       200.0         1700\n",
      "1              20             Marketing       201.0         1800\n",
      "2              30            Purchasing       114.0         1700\n",
      "3              40       Human Resources       203.0         2400\n",
      "4              50              Shipping       121.0         1500\n",
      "5              60                    IT       103.0         1400\n",
      "6              70      Public Relations       204.0         2700\n",
      "7              80                 Sales       145.0         2500\n",
      "8              90             Executive       100.0         1700\n",
      "9             100               Finance       108.0         1700\n",
      "10            110            Accounting       205.0         1700\n",
      "11            120              Treasury         NaN         1700\n",
      "12            130         Corporate Tax         NaN         1700\n",
      "13            140    Control And Credit         NaN         1700\n",
      "14            150  Shareholder Services         NaN         1700\n",
      "15            160              Benefits         NaN         1700\n",
      "16            170         Manufacturing         NaN         1700\n",
      "17            180          Construction         NaN         1700\n",
      "18            190           Contracting         NaN         1700\n",
      "19            200            Operations         NaN         1700\n",
      "20            210            IT Support         NaN         1700\n",
      "21            220                   NOC         NaN         1700\n",
      "22            230           IT Helpdesk         NaN         1700\n",
      "23            240      Government Sales         NaN         1700\n",
      "24            250          Retail Sales         NaN         1700\n",
      "25            260            Recruiting         NaN         1700\n",
      "26            270               Payroll         NaN         1700\n"
     ]
    }
   ],
   "source": [
    "print(departments)"
   ]
  },
  {
   "cell_type": "code",
   "execution_count": 11,
   "metadata": {},
   "outputs": [],
   "source": [
    "# trong dataframe employees hay tao cot DEPARTMENT_NAME va gan du lieu cho dung\n",
    "emp_dep = pd.merge(employees, departments[['DEPARTMENT_ID','DEPARTMENT_NAME']], on='DEPARTMENT_ID')"
   ]
  },
  {
   "cell_type": "code",
   "execution_count": 12,
   "metadata": {
    "collapsed": true
   },
   "outputs": [
    {
     "name": "stdout",
     "output_type": "stream",
     "text": [
      "     EMPLOYEE_ID   FIRST_NAME    LAST_NAME     EMAIL        PHONE_NUMBER  \\\n",
      "0            100       Steven         King     SKING        515.123.4567   \n",
      "1            101        Neena      Kochhar  NKOCHHAR        515.123.4568   \n",
      "2            102          Lex      De Haan   LDEHAAN        515.123.4569   \n",
      "3            103    Alexander       Hunold   AHUNOLD        590.423.4567   \n",
      "4            104        Bruce        Ernst    BERNST        590.423.4568   \n",
      "5            105        David       Austin   DAUSTIN        590.423.4569   \n",
      "6            106        Valli    Pataballa  VPATABAL        590.423.4560   \n",
      "7            107        Diana      Lorentz  DLORENTZ        590.423.5567   \n",
      "8            108        Nancy    Greenberg  NGREENBE        515.124.4569   \n",
      "9            109       Daniel       Faviet   DFAVIET        515.124.4169   \n",
      "10           110         John         Chen     JCHEN        515.124.4269   \n",
      "11           111       Ismael      Sciarra  ISCIARRA        515.124.4369   \n",
      "12           112  Jose Manuel        Urman   JMURMAN        515.124.4469   \n",
      "13           113         Luis         Popp     LPOPP        515.124.4567   \n",
      "14           114          Den     Raphaely  DRAPHEAL        515.127.4561   \n",
      "15           115    Alexander         Khoo     AKHOO        515.127.4562   \n",
      "16           116       Shelli        Baida    SBAIDA        515.127.4563   \n",
      "17           117        Sigal       Tobias   STOBIAS        515.127.4564   \n",
      "18           118          Guy       Himuro   GHIMURO        515.127.4565   \n",
      "19           119        Karen   Colmenares  KCOLMENA        515.127.4566   \n",
      "20           120      Matthew        Weiss    MWEISS        650.123.1234   \n",
      "21           121         Adam        Fripp    AFRIPP        650.123.2234   \n",
      "22           122        Payam     Kaufling  PKAUFLIN        650.123.3234   \n",
      "23           123       Shanta      Vollman  SVOLLMAN        650.123.4234   \n",
      "24           124        Kevin      Mourgos  KMOURGOS        650.123.5234   \n",
      "25           125        Julia        Nayer    JNAYER        650.124.1214   \n",
      "26           126        Irene  Mikkilineni  IMIKKILI        650.124.1224   \n",
      "27           127        James       Landry   JLANDRY        650.124.1334   \n",
      "28           128       Steven       Markle   SMARKLE        650.124.1434   \n",
      "29           129        Laura       Bissot   LBISSOT        650.124.5234   \n",
      "..           ...          ...          ...       ...                 ...   \n",
      "76           156      Janette         King     JKING  011.44.1345.429268   \n",
      "77           157      Patrick        Sully    PSULLY  011.44.1345.929268   \n",
      "78           158        Allan       McEwen   AMCEWEN  011.44.1345.829268   \n",
      "79           159      Lindsey        Smith    LSMITH  011.44.1345.729268   \n",
      "80           160       Louise        Doran    LDORAN  011.44.1345.629268   \n",
      "81           161       Sarath       Sewall   SSEWALL  011.44.1345.529268   \n",
      "82           162        Clara      Vishney  CVISHNEY  011.44.1346.129268   \n",
      "83           163     Danielle       Greene   DGREENE  011.44.1346.229268   \n",
      "84           164       Mattea      Marvins  MMARVINS  011.44.1346.329268   \n",
      "85           165        David          Lee      DLEE  011.44.1346.529268   \n",
      "86           166       Sundar         Ande     SANDE  011.44.1346.629268   \n",
      "87           167         Amit        Banda    ABANDA  011.44.1346.729268   \n",
      "88           168         Lisa         Ozer     LOZER  011.44.1343.929268   \n",
      "89           169     Harrison        Bloom    HBLOOM  011.44.1343.829268   \n",
      "90           170       Tayler          Fox      TFOX  011.44.1343.729268   \n",
      "91           171      William        Smith    WSMITH  011.44.1343.629268   \n",
      "92           172    Elizabeth        Bates    EBATES  011.44.1343.529268   \n",
      "93           173      Sundita        Kumar    SKUMAR  011.44.1343.329268   \n",
      "94           174        Ellen         Abel     EABEL  011.44.1644.429267   \n",
      "95           175       Alyssa       Hutton   AHUTTON  011.44.1644.429266   \n",
      "96           176     Jonathon       Taylor   JTAYLOR  011.44.1644.429265   \n",
      "97           177         Jack   Livingston  JLIVINGS  011.44.1644.429264   \n",
      "98           179      Charles      Johnson  CJOHNSON  011.44.1644.429262   \n",
      "99           200     Jennifer       Whalen   JWHALEN        515.123.4444   \n",
      "100          201      Michael    Hartstein  MHARTSTE        515.123.5555   \n",
      "101          202          Pat          Fay      PFAY        603.123.6666   \n",
      "102          203        Susan       Mavris   SMAVRIS        515.123.7777   \n",
      "103          204      Hermann         Baer     HBAER        515.123.8888   \n",
      "104          205      Shelley      Higgins  SHIGGINS        515.123.8080   \n",
      "105          206      William        Gietz    WGIETZ        515.123.8181   \n",
      "\n",
      "               HIRE_DATE      JOB_ID  SALARY  COMMISSION_PCT  MANAGER_ID  \\\n",
      "0    2003-06-17 00:00:00     AD_PRES   24000             NaN         NaN   \n",
      "1    2005-09-21 00:00:00       AD_VP   17000             NaN       100.0   \n",
      "2    2001-01-13 00:00:00       AD_VP   17000             NaN       100.0   \n",
      "3    2006-01-03 00:00:00     IT_PROG    9000             NaN       102.0   \n",
      "4    2007-05-21 00:00:00     IT_PROG    6000             NaN       103.0   \n",
      "5    2005-06-25 00:00:00     IT_PROG    4800             NaN       103.0   \n",
      "6    2006-02-05 00:00:00     IT_PROG    4800             NaN       103.0   \n",
      "7    2007-02-07 00:00:00     IT_PROG    4200             NaN       103.0   \n",
      "8    2002-08-17 00:00:00      FI_MGR   12008             NaN       101.0   \n",
      "9    2002-08-16 00:00:00  FI_ACCOUNT    9000             NaN       108.0   \n",
      "10   2005-09-28 00:00:00  FI_ACCOUNT    8200             NaN       108.0   \n",
      "11   2005-09-30 00:00:00  FI_ACCOUNT    7700             NaN       108.0   \n",
      "12   2006-03-07 00:00:00  FI_ACCOUNT    7800             NaN       108.0   \n",
      "13   2007-12-07 00:00:00  FI_ACCOUNT    6900             NaN       108.0   \n",
      "14   2002-12-07 00:00:00      PU_MAN   11000             NaN       100.0   \n",
      "15   2003-05-18 00:00:00    PU_CLERK    3100             NaN       114.0   \n",
      "16   2005-12-24 00:00:00    PU_CLERK    2900             NaN       114.0   \n",
      "17   2005-07-24 00:00:00    PU_CLERK    2800             NaN       114.0   \n",
      "18   2006-11-15 00:00:00    PU_CLERK    2600             NaN       114.0   \n",
      "19   2007-08-10 00:00:00    PU_CLERK    2500             NaN       114.0   \n",
      "20   2004-07-18 00:00:00      ST_MAN    8000             NaN       100.0   \n",
      "21   2005-04-10 00:00:00      ST_MAN    8200             NaN       100.0   \n",
      "22   2003-05-01 00:00:00      ST_MAN    7900             NaN       100.0   \n",
      "23   2005-10-10 00:00:00      ST_MAN    6500             NaN       100.0   \n",
      "24   2007-11-16 00:00:00      ST_MAN    5800             NaN       100.0   \n",
      "25   2005-07-16 00:00:00    ST_CLERK    3200             NaN       120.0   \n",
      "26   2006-09-28 00:00:00    ST_CLERK    2700             NaN       120.0   \n",
      "27   2007-01-14 00:00:00    ST_CLERK    2400             NaN       120.0   \n",
      "28   2008-03-08 00:00:00    ST_CLERK    2200             NaN       120.0   \n",
      "29   2005-08-20 00:00:00    ST_CLERK    3300             NaN       121.0   \n",
      "..                   ...         ...     ...             ...         ...   \n",
      "76   2004-01-30 00:00:00      SA_REP   10000            0.35       146.0   \n",
      "77   2004-03-04 00:00:00      SA_REP    9500            0.35       146.0   \n",
      "78   2004-08-01 00:00:00      SA_REP    9000            0.35       146.0   \n",
      "79   2005-03-10 00:00:00      SA_REP    8000            0.30       146.0   \n",
      "80   2005-12-15 00:00:00      SA_REP    7500            0.30       146.0   \n",
      "81   2006-11-03 00:00:00      SA_REP    7000            0.25       146.0   \n",
      "82   2005-11-11 00:00:00      SA_REP   10500            0.25       147.0   \n",
      "83   2007-03-19 00:00:00      SA_REP    9500            0.15       147.0   \n",
      "84   2008-01-24 00:00:00      SA_REP    7200            0.10       147.0   \n",
      "85   2008-02-23 00:00:00      SA_REP    6800            0.10       147.0   \n",
      "86   2008-03-24 00:00:00      SA_REP    6400            0.10       147.0   \n",
      "87   2008-04-21 00:00:00      SA_REP    6200            0.10       147.0   \n",
      "88   2005-03-11 00:00:00      SA_REP   11500            0.25       148.0   \n",
      "89   2006-03-23 00:00:00      SA_REP   10000            0.20       148.0   \n",
      "90   2006-01-24 00:00:00      SA_REP    9600            0.20       148.0   \n",
      "91   2007-02-23 00:00:00      SA_REP    7400            0.15       148.0   \n",
      "92   2007-03-24 00:00:00      SA_REP    7300            0.15       148.0   \n",
      "93   2008-04-21 00:00:00      SA_REP    6100            0.10       148.0   \n",
      "94   2004-05-11 00:00:00      SA_REP   11000            0.30       149.0   \n",
      "95   2005-03-19 00:00:00      SA_REP    8800            0.25       149.0   \n",
      "96   2006-03-24 00:00:00      SA_REP    8600            0.20       149.0   \n",
      "97   2006-04-23 00:00:00      SA_REP    8400            0.20       149.0   \n",
      "98   2008-01-04 00:00:00      SA_REP    6200            0.10       149.0   \n",
      "99   2003-09-17 00:00:00     AD_ASST    4400             NaN       101.0   \n",
      "100  2004-02-17 00:00:00      MK_MAN   13000             NaN       100.0   \n",
      "101  2005-08-17 00:00:00      MK_REP    6000             NaN       201.0   \n",
      "102  2002-06-07 00:00:00      HR_REP    6500             NaN       101.0   \n",
      "103  2002-06-07 00:00:00      PR_REP   10000             NaN       101.0   \n",
      "104  2002-06-07 00:00:00      AC_MGR   12008             NaN       101.0   \n",
      "105  2002-06-07 00:00:00  AC_ACCOUNT    8300             NaN       205.0   \n",
      "\n",
      "     DEPARTMENT_ID   DEPARTMENT_NAME  \n",
      "0             90.0         Executive  \n",
      "1             90.0         Executive  \n",
      "2             90.0         Executive  \n",
      "3             60.0                IT  \n",
      "4             60.0                IT  \n",
      "5             60.0                IT  \n",
      "6             60.0                IT  \n",
      "7             60.0                IT  \n",
      "8            100.0           Finance  \n",
      "9            100.0           Finance  \n",
      "10           100.0           Finance  \n",
      "11           100.0           Finance  \n",
      "12           100.0           Finance  \n",
      "13           100.0           Finance  \n",
      "14            30.0        Purchasing  \n",
      "15            30.0        Purchasing  \n",
      "16            30.0        Purchasing  \n",
      "17            30.0        Purchasing  \n",
      "18            30.0        Purchasing  \n",
      "19            30.0        Purchasing  \n",
      "20            50.0          Shipping  \n",
      "21            50.0          Shipping  \n",
      "22            50.0          Shipping  \n",
      "23            50.0          Shipping  \n",
      "24            50.0          Shipping  \n",
      "25            50.0          Shipping  \n",
      "26            50.0          Shipping  \n",
      "27            50.0          Shipping  \n",
      "28            50.0          Shipping  \n",
      "29            50.0          Shipping  \n",
      "..             ...               ...  \n",
      "76            80.0             Sales  \n",
      "77            80.0             Sales  \n",
      "78            80.0             Sales  \n",
      "79            80.0             Sales  \n",
      "80            80.0             Sales  \n",
      "81            80.0             Sales  \n",
      "82            80.0             Sales  \n",
      "83            80.0             Sales  \n",
      "84            80.0             Sales  \n",
      "85            80.0             Sales  \n",
      "86            80.0             Sales  \n",
      "87            80.0             Sales  \n",
      "88            80.0             Sales  \n",
      "89            80.0             Sales  \n",
      "90            80.0             Sales  \n",
      "91            80.0             Sales  \n",
      "92            80.0             Sales  \n",
      "93            80.0             Sales  \n",
      "94            80.0             Sales  \n",
      "95            80.0             Sales  \n",
      "96            80.0             Sales  \n",
      "97            80.0             Sales  \n",
      "98            80.0             Sales  \n",
      "99            10.0    Administration  \n",
      "100           20.0         Marketing  \n",
      "101           20.0         Marketing  \n",
      "102           40.0   Human Resources  \n",
      "103           70.0  Public Relations  \n",
      "104          110.0        Accounting  \n",
      "105          110.0        Accounting  \n",
      "\n",
      "[106 rows x 12 columns]\n"
     ]
    }
   ],
   "source": [
    "print(emp_dep)"
   ]
  },
  {
   "cell_type": "code",
   "execution_count": 13,
   "metadata": {},
   "outputs": [],
   "source": [
    "# bar, pie\n",
    "df_sum_salary = emp_dep.groupby('DEPARTMENT_NAME', as_index=True).SALARY.sum()"
   ]
  },
  {
   "cell_type": "code",
   "execution_count": 14,
   "metadata": {
    "collapsed": true
   },
   "outputs": [
    {
     "name": "stdout",
     "output_type": "stream",
     "text": [
      "DEPARTMENT_NAME\n",
      "Accounting           20308\n",
      "Administration        4400\n",
      "Executive            58000\n",
      "Finance              51608\n",
      "Human Resources       6500\n",
      "IT                   28800\n",
      "Marketing            19000\n",
      "Public Relations     10000\n",
      "Purchasing           24900\n",
      "Sales               304500\n",
      "Shipping            156400\n",
      "Name: SALARY, dtype: int64\n"
     ]
    }
   ],
   "source": [
    "print(df_sum_salary)"
   ]
  },
  {
   "cell_type": "code",
   "execution_count": 16,
   "metadata": {},
   "outputs": [
    {
     "data": {
      "text/plain": [
       "<matplotlib.axes._subplots.AxesSubplot at 0x11b10f98>"
      ]
     },
     "execution_count": 16,
     "metadata": {},
     "output_type": "execute_result"
    },
    {
     "data": {
      "image/png": "[encoded data removed]",
      "text/plain": [
       "<Figure size 432x288 with 1 Axes>"
      ]
     },
     "metadata": {
      "needs_background": "light"
     },
     "output_type": "display_data"
    }
   ],
   "source": [
    "df_sum_salary.plot.bar()"
   ]
  },
  {
   "cell_type": "code",
   "execution_count": 17,
   "metadata": {},
   "outputs": [
    {
     "data": {
      "text/plain": [
       "<matplotlib.axes._subplots.AxesSubplot at 0x11ecc278>"
      ]
     },
     "execution_count": 17,
     "metadata": {},
     "output_type": "execute_result"
    },
    {
     "data": {
      "image/png": "[encoded data removed]",
      "text/plain": [
       "<Figure size 432x288 with 1 Axes>"
      ]
     },
     "metadata": {},
     "output_type": "display_data"
    }
   ],
   "source": [
    "df_sum_salary.plot.pie()"
   ]
  },
  {
   "cell_type": "code",
   "execution_count": 20,
   "metadata": {},
   "outputs": [],
   "source": [
    "# tinh tong luong va dem so nhan vien theo phong\n",
    "df_sum_count = emp_dep.groupby('DEPARTMENT_NAME').SALARY.agg(['sum','count'])"
   ]
  },
  {
   "cell_type": "code",
   "execution_count": 21,
   "metadata": {},
   "outputs": [
    {
     "name": "stdout",
     "output_type": "stream",
     "text": [
      "                     sum  count\n",
      "DEPARTMENT_NAME                \n",
      "Accounting         20308      2\n",
      "Administration      4400      1\n",
      "Executive          58000      3\n",
      "Finance            51608      6\n",
      "Human Resources     6500      1\n",
      "IT                 28800      5\n",
      "Marketing          19000      2\n",
      "Public Relations   10000      1\n",
      "Purchasing         24900      6\n",
      "Sales             304500     34\n",
      "Shipping          156400     45\n"
     ]
    }
   ],
   "source": [
    "print(df_sum_count)"
   ]
  },
  {
   "cell_type": "code",
   "execution_count": 23,
   "metadata": {},
   "outputs": [],
   "source": [
    "df_sum_count['count'] = df_sum_count['count']*1000"
   ]
  },
  {
   "cell_type": "code",
   "execution_count": 24,
   "metadata": {},
   "outputs": [
    {
     "data": {
      "text/plain": [
       "<matplotlib.axes._subplots.AxesSubplot at 0x12615908>"
      ]
     },
     "execution_count": 24,
     "metadata": {},
     "output_type": "execute_result"
    },
    {
     "data": {
      "image/png": "[encoded data removed]",
      "text/plain": [
       "<Figure size 432x288 with 1 Axes>"
      ]
     },
     "metadata": {
      "needs_background": "light"
     },
     "output_type": "display_data"
    }
   ],
   "source": [
    "df_sum_count.plot.bar()"
   ]
  },
  {
   "cell_type": "code",
   "execution_count": 26,
   "metadata": {},
   "outputs": [],
   "source": [
    "# tinh luong max va luong min theo phong\n",
    "df_max_min = emp_dep.groupby('DEPARTMENT_NAME').SALARY.agg(['max','min'])"
   ]
  },
  {
   "cell_type": "code",
   "execution_count": 27,
   "metadata": {},
   "outputs": [
    {
     "data": {
      "text/plain": [
       "<matplotlib.axes._subplots.AxesSubplot at 0x125f3a20>"
      ]
     },
     "execution_count": 27,
     "metadata": {},
     "output_type": "execute_result"
    },
    {
     "data": {
      "image/png": "[encoded data removed]",
      "text/plain": [
       "<Figure size 432x288 with 1 Axes>"
      ]
     },
     "metadata": {
      "needs_background": "light"
     },
     "output_type": "display_data"
    }
   ],
   "source": [
    "df_max_min.plot.bar()"
   ]
  },
  {
   "cell_type": "code",
   "execution_count": 28,
   "metadata": {},
   "outputs": [
    {
     "data": {
      "text/plain": [
       "<matplotlib.axes._subplots.AxesSubplot at 0x1251cf98>"
      ]
     },
     "execution_count": 28,
     "metadata": {},
     "output_type": "execute_result"
    },
    {
     "data": {
      "image/png": "[encoded data removed]",
      "text/plain": [
       "<Figure size 432x288 with 1 Axes>"
      ]
     },
     "metadata": {
      "needs_background": "light"
     },
     "output_type": "display_data"
    }
   ],
   "source": [
    "df_max_min['min'].plot.bar()"
   ]
  },
  {
   "cell_type": "code",
   "execution_count": 30,
   "metadata": {},
   "outputs": [
    {
     "name": "stdout",
     "output_type": "stream",
     "text": [
      "   EMPLOYEE_ID FIRST_NAME LAST_NAME     EMAIL  PHONE_NUMBER  \\\n",
      "0          100     Steven      King     SKING  515.123.4567   \n",
      "1          101      Neena   Kochhar  NKOCHHAR  515.123.4568   \n",
      "2          102        Lex   De Haan   LDEHAAN  515.123.4569   \n",
      "3          103  Alexander    Hunold   AHUNOLD  590.423.4567   \n",
      "4          104      Bruce     Ernst    BERNST  590.423.4568   \n",
      "\n",
      "             HIRE_DATE   JOB_ID  SALARY  COMMISSION_PCT  MANAGER_ID  \\\n",
      "0  2003-06-17 00:00:00  AD_PRES   24000             NaN         NaN   \n",
      "1  2005-09-21 00:00:00    AD_VP   17000             NaN       100.0   \n",
      "2  2001-01-13 00:00:00    AD_VP   17000             NaN       100.0   \n",
      "3  2006-01-03 00:00:00  IT_PROG    9000             NaN       102.0   \n",
      "4  2007-05-21 00:00:00  IT_PROG    6000             NaN       103.0   \n",
      "\n",
      "   DEPARTMENT_ID DEPARTMENT_NAME  NAM_VAO_LAM  \n",
      "0           90.0       Executive         2003  \n",
      "1           90.0       Executive         2005  \n",
      "2           90.0       Executive         2001  \n",
      "3           60.0              IT         2006  \n",
      "4           60.0              IT         2007  \n"
     ]
    }
   ],
   "source": [
    "# tinh nam vao lam\n",
    "emp_dep['NAM_VAO_LAM'] = pd.DatetimeIndex(emp_dep['HIRE_DATE']).year\n",
    "print(emp_dep.head())"
   ]
  },
  {
   "cell_type": "code",
   "execution_count": 31,
   "metadata": {},
   "outputs": [],
   "source": [
    "# nhom theo nam vao lam va dem so nhan vien\n",
    "df_count_year = emp_dep.groupby('NAM_VAO_LAM').EMPLOYEE_ID.count()"
   ]
  },
  {
   "cell_type": "code",
   "execution_count": 32,
   "metadata": {},
   "outputs": [
    {
     "name": "stdout",
     "output_type": "stream",
     "text": [
      "NAM_VAO_LAM\n",
      "2001     1\n",
      "2002     7\n",
      "2003     6\n",
      "2004    10\n",
      "2005    29\n",
      "2006    24\n",
      "2007    18\n",
      "2008    11\n",
      "Name: EMPLOYEE_ID, dtype: int64\n"
     ]
    }
   ],
   "source": [
    "print(df_count_year)"
   ]
  },
  {
   "cell_type": "code",
   "execution_count": 33,
   "metadata": {},
   "outputs": [
    {
     "data": {
      "text/plain": [
       "<matplotlib.axes._subplots.AxesSubplot at 0x12da9cf8>"
      ]
     },
     "execution_count": 33,
     "metadata": {},
     "output_type": "execute_result"
    },
    {
     "data": {
      "image/png": "[encoded data removed]",
      "text/plain": [
       "<Figure size 432x288 with 1 Axes>"
      ]
     },
     "metadata": {
      "needs_background": "light"
     },
     "output_type": "display_data"
    }
   ],
   "source": [
    "df_count_year.plot.bar()"
   ]
  },
  {
   "cell_type": "code",
   "execution_count": 34,
   "metadata": {},
   "outputs": [
    {
     "data": {
      "text/plain": [
       "<matplotlib.axes._subplots.AxesSubplot at 0x12f4a908>"
      ]
     },
     "execution_count": 34,
     "metadata": {},
     "output_type": "execute_result"
    },
    {
     "data": {
      "image/png": "[encoded data removed]",
      "text/plain": [
       "<Figure size 432x288 with 1 Axes>"
      ]
     },
     "metadata": {
      "needs_background": "light"
     },
     "output_type": "display_data"
    }
   ],
   "source": [
    "df_count_year.plot()"
   ]
  },
  {
   "cell_type": "code",
   "execution_count": null,
   "metadata": {},
   "outputs": [],
   "source": []
  }
 ],
 "metadata": {
  "kernelspec": {
   "display_name": "Python 3",
   "language": "python",
   "name": "python3"
  },
  "language_info": {
   "codemirror_mode": {
    "name": "ipython",
    "version": 3
   },
   "file_extension": ".py",
   "mimetype": "text/x-python",
   "name": "python",
   "nbconvert_exporter": "python",
   "pygments_lexer": "ipython3",
   "version": "3.6.8"
  }
 },
 "nbformat": 4,
 "nbformat_minor": 2
}
