{
 "cells": [
  {
   "cell_type": "code",
   "execution_count": 1,
   "metadata": {},
   "outputs": [],
   "source": [
    "import pandas as pd"
   ]
  },
  {
   "cell_type": "code",
   "execution_count": 4,
   "metadata": {},
   "outputs": [
    {
     "name": "stdout",
     "output_type": "stream",
     "text": [
      "(34826, 6)\n",
      "  SOBAODANH         HO_TEN   NGAY_SINH         TEN_CUMTHI GIOI_TINH  \\\n",
      "0  18000001  DƯƠNG VIỆT AN  12/03/1998  Sở GDĐT Bắc Giang       Nam   \n",
      "1  18000002      ĐỖ VĂN AN   9/12/1998  Sở GDĐT Bắc Giang       Nam   \n",
      "2  18000003     ĐỖ XUÂN AN  12/08/1997  Sở GDĐT Bắc Giang       Nam   \n",
      "3  18000004   ĐẶNG PHÚC AN  19/03/1998  Sở GDĐT Bắc Giang        Nữ   \n",
      "4  18000005    ĐẶNG VĂN AN  25/10/1998  Sở GDĐT Bắc Giang       Nam   \n",
      "\n",
      "                                            DIEM_THI  \n",
      "0  Toán:   2.00   Ngữ văn:   5.50   Lịch sử:   3....  \n",
      "1  Toán:   5.50   Ngữ văn:   5.25   Địa lí:   5.5...  \n",
      "2  Toán:   4.50   Ngữ văn:   5.50   Địa lí:   3.7...  \n",
      "3  Toán:   3.00   Ngữ văn:   6.00   Địa lí:   5.5...  \n",
      "4  Toán:   2.25   Ngữ văn:   4.75   Địa lí:   5.2...  \n"
     ]
    }
   ],
   "source": [
    "df = pd.read_csv('Diemthi_thpt_quocgia_2016.csv')\n",
    "print(df.shape)\n",
    "print(df.head(5))"
   ]
  },
  {
   "cell_type": "code",
   "execution_count": 5,
   "metadata": {},
   "outputs": [
    {
     "name": "stdout",
     "output_type": "stream",
     "text": [
      "0    DƯƠNG VIỆT AN\n",
      "1        ĐỖ VĂN AN\n",
      "2       ĐỖ XUÂN AN\n",
      "3     ĐẶNG PHÚC AN\n",
      "4      ĐẶNG VĂN AN\n",
      "Name: HO_TEN, dtype: object\n"
     ]
    }
   ],
   "source": [
    "df_hoten = df['HO_TEN']\n",
    "print(df_hoten.head())"
   ]
  },
  {
   "cell_type": "code",
   "execution_count": 6,
   "metadata": {},
   "outputs": [
    {
     "name": "stdout",
     "output_type": "stream",
     "text": [
      "<class 'pandas.core.series.Series'>\n"
     ]
    }
   ],
   "source": [
    "print(type(df_hoten))"
   ]
  },
  {
   "cell_type": "code",
   "execution_count": 7,
   "metadata": {},
   "outputs": [
    {
     "name": "stdout",
     "output_type": "stream",
     "text": [
      "    Height  Weight    Age\n",
      "0       74     180  22.99\n",
      "1       74     215  34.69\n",
      "2       72     210  30.78\n",
      "3       72     210  35.43\n",
      "4       73     188  35.71\n",
      "5       69     176  29.39\n",
      "6       69     209  30.77\n",
      "7       71     200  35.07\n",
      "8       76     231  30.19\n",
      "9       71     180  27.05\n",
      "10      73     188  23.88\n"
     ]
    }
   ],
   "source": [
    "df = pd.read_excel('du_lieu_4.xlsx')\n",
    "print(df)"
   ]
  },
  {
   "cell_type": "code",
   "execution_count": 9,
   "metadata": {},
   "outputs": [
    {
     "name": "stdout",
     "output_type": "stream",
     "text": [
      "   Height  Weight    Age\n",
      "1      74     215  34.69\n",
      "2      72     210  30.78\n",
      "3      72     210  35.43\n",
      "4      73     188  35.71\n",
      "6      69     209  30.77\n",
      "7      71     200  35.07\n",
      "8      76     231  30.19\n"
     ]
    }
   ],
   "source": [
    "df_tuoi = df[df['Age']>30]\n",
    "print(df_tuoi)"
   ]
  },
  {
   "cell_type": "code",
   "execution_count": 11,
   "metadata": {},
   "outputs": [
    {
     "data": {
      "text/plain": [
       "<matplotlib.axes._subplots.AxesSubplot at 0xf8d5cf8>"
      ]
     },
     "execution_count": 11,
     "metadata": {},
     "output_type": "execute_result"
    },
    {
     "data": {
      "image/png": "[encoded data removed]",
      "text/plain": [
       "<Figure size 432x288 with 1 Axes>"
      ]
     },
     "metadata": {
      "needs_background": "light"
     },
     "output_type": "display_data"
    }
   ],
   "source": [
    "df.plot.bar()"
   ]
  },
  {
   "cell_type": "code",
   "execution_count": 12,
   "metadata": {},
   "outputs": [
    {
     "name": "stdout",
     "output_type": "stream",
     "text": [
      "0     False\n",
      "1      True\n",
      "2      True\n",
      "3      True\n",
      "4      True\n",
      "5     False\n",
      "6      True\n",
      "7      True\n",
      "8      True\n",
      "9     False\n",
      "10    False\n",
      "Name: Age, dtype: bool\n",
      "   Height  Weight    Age\n",
      "1      74     215  34.69\n",
      "2      72     210  30.78\n",
      "3      72     210  35.43\n",
      "4      73     188  35.71\n",
      "6      69     209  30.77\n",
      "7      71     200  35.07\n",
      "8      76     231  30.19\n"
     ]
    }
   ],
   "source": [
    "i = df['Age']>30\n",
    "print(i)\n",
    "df_tuoi = df[i]\n",
    "print(df_tuoi)"
   ]
  },
  {
   "cell_type": "code",
   "execution_count": 13,
   "metadata": {},
   "outputs": [
    {
     "name": "stdout",
     "output_type": "stream",
     "text": [
      "    Height  Weight    Age\n",
      "0       74     180  22.99\n",
      "1       74     215  34.69\n",
      "2       72     210  30.78\n",
      "3       72     210  35.43\n",
      "4       73     188  35.71\n",
      "5       69     176  29.39\n",
      "6       69     209  30.77\n",
      "7       71     200  35.07\n",
      "8       76     231  30.19\n",
      "9       71     180  27.05\n",
      "10      73     188  23.88\n"
     ]
    }
   ],
   "source": [
    "print(df)"
   ]
  },
  {
   "cell_type": "code",
   "execution_count": 14,
   "metadata": {},
   "outputs": [
    {
     "name": "stdout",
     "output_type": "stream",
     "text": [
      "    Height  Weight    Age\n",
      "0       74     180  22.99\n",
      "1       74     215  34.69\n",
      "2       72     210  30.78\n",
      "3       72     210  35.43\n",
      "4       73     188  35.71\n",
      "5       69     176  29.39\n",
      "6       69     209  30.77\n",
      "7       71     200  35.07\n",
      "8       76     231  30.19\n",
      "9       71     180  27.05\n",
      "10      73     188  23.88\n",
      "11      78     230  18.00\n"
     ]
    }
   ],
   "source": [
    "df.loc[df.shape[0]] = [78,230,18]\n",
    "print(df)"
   ]
  },
  {
   "cell_type": "code",
   "execution_count": 15,
   "metadata": {},
   "outputs": [
    {
     "name": "stdout",
     "output_type": "stream",
     "text": [
      "    Height  Weight    Age\n",
      "0       74     180  22.99\n",
      "1       74     215  34.69\n",
      "2       72     210  30.78\n",
      "3       72     210  35.43\n",
      "4       73     188  35.71\n",
      "5       69     176  29.39\n",
      "6       69     209  30.77\n",
      "7       71     200  35.07\n",
      "8       76     231  30.19\n",
      "9       71     180  27.05\n",
      "10      73     188  23.88\n",
      "11      78     230  18.00\n",
      "25      78     230  18.00\n"
     ]
    }
   ],
   "source": [
    "df.loc[25] = [78,230,18]\n",
    "print(df)"
   ]
  },
  {
   "cell_type": "code",
   "execution_count": 21,
   "metadata": {},
   "outputs": [
    {
     "name": "stdout",
     "output_type": "stream",
     "text": [
      "   key   name\n",
      "0    1    one\n",
      "1    3    two\n",
      "2    3  three\n",
      "3    4   four\n",
      "   key     name\n",
      "0    1  one ...\n",
      "1    2  two ...\n",
      "   key name  key     name\n",
      "0    1  one    1  one ...\n",
      "1    3  two    2  two ...\n"
     ]
    }
   ],
   "source": [
    "df1 = pd.DataFrame({'key':[1,3,3,4],'name':['one','two','three','four']})\n",
    "print(df1)\n",
    "df2 = pd.DataFrame({'key':[1,2],'name':['one ...','two ...']})\n",
    "print(df2)\n",
    "df12 = pd.concat([df1,df2],axis=1,join='inner')\n",
    "print(df12)"
   ]
  },
  {
   "cell_type": "code",
   "execution_count": 22,
   "metadata": {},
   "outputs": [
    {
     "name": "stdout",
     "output_type": "stream",
     "text": [
      "   key   name  key     name\n",
      "0    1    one  1.0  one ...\n",
      "1    3    two  2.0  two ...\n",
      "2    3  three  NaN      NaN\n",
      "3    4   four  NaN      NaN\n"
     ]
    }
   ],
   "source": [
    "df12 = pd.concat([df1,df2],axis=1) # outer\n",
    "print(df12)"
   ]
  },
  {
   "cell_type": "code",
   "execution_count": null,
   "metadata": {},
   "outputs": [],
   "source": []
  }
 ],
 "metadata": {
  "kernelspec": {
   "display_name": "Python 3",
   "language": "python",
   "name": "python3"
  },
  "language_info": {
   "codemirror_mode": {
    "name": "ipython",
    "version": 3
   },
   "file_extension": ".py",
   "mimetype": "text/x-python",
   "name": "python",
   "nbconvert_exporter": "python",
   "pygments_lexer": "ipython3",
   "version": "3.6.8"
  }
 },
 "nbformat": 4,
 "nbformat_minor": 2
}
