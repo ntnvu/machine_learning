{
 "cells": [
  {
   "cell_type": "code",
   "execution_count": 3,
   "metadata": {},
   "outputs": [],
   "source": [
    "import pandas as pd"
   ]
  },
  {
   "cell_type": "code",
   "execution_count": 4,
   "metadata": {},
   "outputs": [
    {
     "name": "stdout",
     "output_type": "stream",
     "text": [
      "(34826, 6)\n"
     ]
    }
   ],
   "source": [
    "df = pd.read_csv('Diemthi_thpt_quocgia_2016.csv')\n",
    "print(df.shape)"
   ]
  },
  {
   "cell_type": "code",
   "execution_count": 5,
   "metadata": {},
   "outputs": [
    {
     "name": "stdout",
     "output_type": "stream",
     "text": [
      "  SOBAODANH         HO_TEN   NGAY_SINH         TEN_CUMTHI GIOI_TINH  \\\n",
      "0  18000001  DƯƠNG VIỆT AN  12/03/1998  Sở GDĐT Bắc Giang       Nam   \n",
      "1  18000002      ĐỖ VĂN AN   9/12/1998  Sở GDĐT Bắc Giang       Nam   \n",
      "2  18000003     ĐỖ XUÂN AN  12/08/1997  Sở GDĐT Bắc Giang       Nam   \n",
      "3  18000004   ĐẶNG PHÚC AN  19/03/1998  Sở GDĐT Bắc Giang        Nữ   \n",
      "4  18000005    ĐẶNG VĂN AN  25/10/1998  Sở GDĐT Bắc Giang       Nam   \n",
      "\n",
      "                                            DIEM_THI  \n",
      "0  Toán:   2.00   Ngữ văn:   5.50   Lịch sử:   3....  \n",
      "1  Toán:   5.50   Ngữ văn:   5.25   Địa lí:   5.5...  \n",
      "2  Toán:   4.50   Ngữ văn:   5.50   Địa lí:   3.7...  \n",
      "3  Toán:   3.00   Ngữ văn:   6.00   Địa lí:   5.5...  \n",
      "4  Toán:   2.25   Ngữ văn:   4.75   Địa lí:   5.2...  \n"
     ]
    }
   ],
   "source": [
    "print(df.head())"
   ]
  },
  {
   "cell_type": "code",
   "execution_count": 6,
   "metadata": {},
   "outputs": [
    {
     "name": "stdout",
     "output_type": "stream",
     "text": [
      "Toán:   2.00   Ngữ văn:   5.50   Lịch sử:   3.00   Địa lí:   5.00\n"
     ]
    }
   ],
   "source": [
    "# tinh diem trung binh cua cac thi sinh\n",
    "# test voi so lieu cua thi sinh 0\n",
    "chuoi = df.iloc[0]['DIEM_THI']\n",
    "print(chuoi)"
   ]
  },
  {
   "cell_type": "code",
   "execution_count": 7,
   "metadata": {},
   "outputs": [
    {
     "name": "stdout",
     "output_type": "stream",
     "text": [
      "['Toán', '  2.00   Ngữ văn', '  5.50   Lịch sử', '  3.00   Địa lí', '  5.00']\n"
     ]
    }
   ],
   "source": [
    "chuoi = chuoi.split(': ')\n",
    "print(chuoi)\n"
   ]
  },
  {
   "cell_type": "code",
   "execution_count": 10,
   "metadata": {},
   "outputs": [
    {
     "ename": "IndexError",
     "evalue": "list index out of range",
     "output_type": "error",
     "traceback": [
      "\u001b[1;31m---------------------------------------------------------------------------\u001b[0m",
      "\u001b[1;31mIndexError\u001b[0m                                Traceback (most recent call last)",
      "\u001b[1;32m<ipython-input-10-11d7a857b745>\u001b[0m in \u001b[0;36m<module>\u001b[1;34m\u001b[0m\n\u001b[0;32m      3\u001b[0m \u001b[1;32mfor\u001b[0m \u001b[0mi\u001b[0m \u001b[1;32min\u001b[0m \u001b[0mrange\u001b[0m\u001b[1;33m(\u001b[0m\u001b[1;36m0\u001b[0m\u001b[1;33m,\u001b[0m\u001b[0mlen\u001b[0m\u001b[1;33m(\u001b[0m\u001b[0mchuoi\u001b[0m\u001b[1;33m)\u001b[0m\u001b[1;33m,\u001b[0m\u001b[1;36m2\u001b[0m\u001b[1;33m)\u001b[0m\u001b[1;33m:\u001b[0m\u001b[1;33m\u001b[0m\u001b[1;33m\u001b[0m\u001b[0m\n\u001b[0;32m      4\u001b[0m     \u001b[0mmon\u001b[0m\u001b[1;33m.\u001b[0m\u001b[0mappend\u001b[0m\u001b[1;33m(\u001b[0m\u001b[0mchuoi\u001b[0m\u001b[1;33m[\u001b[0m\u001b[0mi\u001b[0m\u001b[1;33m]\u001b[0m\u001b[1;33m.\u001b[0m\u001b[0mstrip\u001b[0m\u001b[1;33m(\u001b[0m\u001b[1;34m':'\u001b[0m\u001b[1;33m)\u001b[0m\u001b[1;33m)\u001b[0m\u001b[1;33m\u001b[0m\u001b[1;33m\u001b[0m\u001b[0m\n\u001b[1;32m----> 5\u001b[1;33m     \u001b[0mdiem\u001b[0m\u001b[1;33m.\u001b[0m\u001b[0mappend\u001b[0m\u001b[1;33m(\u001b[0m\u001b[0mchuoi\u001b[0m\u001b[1;33m[\u001b[0m\u001b[0mi\u001b[0m\u001b[1;33m+\u001b[0m\u001b[1;36m1\u001b[0m\u001b[1;33m]\u001b[0m\u001b[1;33m)\u001b[0m\u001b[1;33m\u001b[0m\u001b[1;33m\u001b[0m\u001b[0m\n\u001b[0m\u001b[0;32m      6\u001b[0m \u001b[0mdf_\u001b[0m \u001b[1;33m=\u001b[0m \u001b[0mpd\u001b[0m\u001b[1;33m.\u001b[0m\u001b[0mDataFrame\u001b[0m\u001b[1;33m(\u001b[0m\u001b[1;33m{\u001b[0m\u001b[1;34m'mon'\u001b[0m\u001b[1;33m:\u001b[0m\u001b[0mmon\u001b[0m\u001b[1;33m,\u001b[0m\u001b[1;34m'diem'\u001b[0m\u001b[1;33m:\u001b[0m\u001b[0mdiem\u001b[0m\u001b[1;33m}\u001b[0m\u001b[1;33m)\u001b[0m\u001b[1;33m\u001b[0m\u001b[1;33m\u001b[0m\u001b[0m\n\u001b[0;32m      7\u001b[0m \u001b[0mprint\u001b[0m\u001b[1;33m(\u001b[0m\u001b[0mdf_\u001b[0m\u001b[1;33m)\u001b[0m\u001b[1;33m\u001b[0m\u001b[1;33m\u001b[0m\u001b[0m\n",
      "\u001b[1;31mIndexError\u001b[0m: list index out of range"
     ]
    }
   ],
   "source": [
    "mon = []\n",
    "diem = []\n",
    "for i in range(0,len(chuoi),2):\n",
    "    mon.append(chuoi[i].strip(':'))\n",
    "    diem.append(float(chuoi[i+1]))\n",
    "df_ = pd.DataFrame({'mon':mon,'diem':diem})    \n",
    "print(df_)"
   ]
  },
  {
   "cell_type": "code",
   "execution_count": null,
   "metadata": {},
   "outputs": [],
   "source": [
    "def tach_diem(chuoi):\n",
    "    chuoi = chuoi.split(' '*2)\n",
    "    mon = []\n",
    "    diem = []\n",
    "    for i in range(0,len(chuoi),2):\n",
    "        mon.append(chuoi[i].strip(':'))\n",
    "        diem.append(float(chuoi[i+1]))\n",
    "    return pd.DataFrame({'mon':mon,'diem':diem})    "
   ]
  },
  {
   "cell_type": "code",
   "execution_count": null,
   "metadata": {},
   "outputs": [],
   "source": [
    "# test ham tach_diem\n",
    "chuoi = df.iloc[0]['DIEM_THI']\n",
    "print(tach_diem(chuoi))"
   ]
  },
  {
   "cell_type": "code",
   "execution_count": null,
   "metadata": {},
   "outputs": [],
   "source": [
    "print(tach_diem(chuoi)['diem'].mean())"
   ]
  },
  {
   "cell_type": "code",
   "execution_count": null,
   "metadata": {},
   "outputs": [],
   "source": [
    "# trong Data Frame df hay them cot diem_trung_binh\n",
    "df['diem_trung_binh'] = df['DIEM_THI'].map(lambda x: tach_diem(x)['diem'].mean())"
   ]
  },
  {
   "cell_type": "code",
   "execution_count": null,
   "metadata": {},
   "outputs": [],
   "source": [
    "print(df.head())"
   ]
  },
  {
   "cell_type": "code",
   "execution_count": null,
   "metadata": {},
   "outputs": [],
   "source": [
    "# cho biet cac thi sinh co diem trung binh <3\n",
    "df_rot = df[df['diem_trung_binh']<3]\n",
    "print(df_rot)"
   ]
  },
  {
   "cell_type": "code",
   "execution_count": null,
   "metadata": {},
   "outputs": [],
   "source": []
  }
 ],
 "metadata": {
  "kernelspec": {
   "display_name": "Python 3",
   "language": "python",
   "name": "python3"
  },
  "language_info": {
   "codemirror_mode": {
    "name": "ipython",
    "version": 3
   },
   "file_extension": ".py",
   "mimetype": "text/x-python",
   "name": "python",
   "nbconvert_exporter": "python",
   "pygments_lexer": "ipython3",
   "version": "3.6.8"
  }
 },
 "nbformat": 4,
 "nbformat_minor": 2
}
