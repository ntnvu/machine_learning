{
 "cells": [
  {
   "cell_type": "code",
   "execution_count": 38,
   "metadata": {},
   "outputs": [],
   "source": [
    "%config IPCompleter.greedy = True"
   ]
  },
  {
   "cell_type": "code",
   "execution_count": 39,
   "metadata": {},
   "outputs": [],
   "source": [
    "import numpy as np\n",
    "import pandas as pd"
   ]
  },
  {
   "cell_type": "code",
   "execution_count": 40,
   "metadata": {},
   "outputs": [
    {
     "name": "stdout",
     "output_type": "stream",
     "text": [
      "        one       two     three\n",
      "a -1.282701  1.114661  1.025230\n",
      "c  0.743163 -0.715507 -0.676640\n",
      "e  1.238341  0.352514  0.345264\n",
      "f -0.209314  1.300077 -1.517246\n",
      "h  1.225018 -0.322216  1.219772\n"
     ]
    }
   ],
   "source": [
    "df = pd.DataFrame(np.random.randn(5, 3), index=['a', 'c', 'e', 'f', 'h'],columns=['one', 'two', 'three'])\n",
    "print(df)"
   ]
  },
  {
   "cell_type": "code",
   "execution_count": 41,
   "metadata": {},
   "outputs": [],
   "source": [
    "df.to_csv('first_data.csv')"
   ]
  },
  {
   "cell_type": "code",
   "execution_count": 42,
   "metadata": {},
   "outputs": [
    {
     "name": "stdout",
     "output_type": "stream",
     "text": [
      "  Unnamed: 0       one       two     three\n",
      "0          a -1.282701  1.114661  1.025230\n",
      "1          c  0.743163 -0.715507 -0.676640\n",
      "2          e  1.238341  0.352514  0.345264\n",
      "3          f -0.209314  1.300077 -1.517246\n",
      "4          h  1.225018 -0.322216  1.219772\n"
     ]
    }
   ],
   "source": [
    "df1 = pd.read_csv('first_data.csv')\n",
    "print(df1)"
   ]
  },
  {
   "cell_type": "code",
   "execution_count": 46,
   "metadata": {},
   "outputs": [
    {
     "name": "stdout",
     "output_type": "stream",
     "text": [
      "(10, 10) <class 'pandas.core.frame.DataFrame'>\n"
     ]
    }
   ],
   "source": [
    "df2 = pd.read_csv('daily_weather.csv', index_col = 0, sep=',', nrows=10)\n",
    "print(df2.shape, type(df2))"
   ]
  },
  {
   "cell_type": "code",
   "execution_count": 49,
   "metadata": {},
   "outputs": [
    {
     "name": "stdout",
     "output_type": "stream",
     "text": [
      "        air_pressure_9am  air_temp_9am  avg_wind_direction_9am  \\\n",
      "number                                                           \n",
      "0             918.060000     74.822000              271.100000   \n",
      "1             917.347688     71.403843              101.935179   \n",
      "\n",
      "        avg_wind_speed_9am  max_wind_direction_9am  max_wind_speed_9am  \\\n",
      "number                                                                   \n",
      "0                 2.080354              295.400000            2.863283   \n",
      "1                 2.443009              140.471549            3.533324   \n",
      "\n",
      "        rain_accumulation_9am  rain_duration_9am  relative_humidity_9am  \\\n",
      "number                                                                    \n",
      "0                         0.0                  0              42.420000   \n",
      "1                         0.0                  0              24.328697   \n",
      "\n",
      "        relative_humidity_3pm  \n",
      "number                         \n",
      "0                   36.160000  \n",
      "1                   19.426597  \n"
     ]
    }
   ],
   "source": [
    "print(df2.head(2))"
   ]
  },
  {
   "cell_type": "code",
   "execution_count": 48,
   "metadata": {},
   "outputs": [
    {
     "data": {
      "text/html": [
       "<div>\n",
       "<style scoped>\n",
       "    .dataframe tbody tr th:only-of-type {\n",
       "        vertical-align: middle;\n",
       "    }\n",
       "\n",
       "    .dataframe tbody tr th {\n",
       "        vertical-align: top;\n",
       "    }\n",
       "\n",
       "    .dataframe thead th {\n",
       "        text-align: right;\n",
       "    }\n",
       "</style>\n",
       "<table border=\"1\" class=\"dataframe\">\n",
       "  <thead>\n",
       "    <tr style=\"text-align: right;\">\n",
       "      <th></th>\n",
       "      <th>air_pressure_9am</th>\n",
       "      <th>air_temp_9am</th>\n",
       "      <th>avg_wind_direction_9am</th>\n",
       "      <th>avg_wind_speed_9am</th>\n",
       "      <th>max_wind_direction_9am</th>\n",
       "      <th>max_wind_speed_9am</th>\n",
       "      <th>rain_accumulation_9am</th>\n",
       "      <th>rain_duration_9am</th>\n",
       "      <th>relative_humidity_9am</th>\n",
       "      <th>relative_humidity_3pm</th>\n",
       "    </tr>\n",
       "  </thead>\n",
       "  <tbody>\n",
       "    <tr>\n",
       "      <th>count</th>\n",
       "      <td>10.000000</td>\n",
       "      <td>10.000000</td>\n",
       "      <td>10.000000</td>\n",
       "      <td>10.000000</td>\n",
       "      <td>10.000000</td>\n",
       "      <td>10.000000</td>\n",
       "      <td>10.000000</td>\n",
       "      <td>10.000000</td>\n",
       "      <td>10.000000</td>\n",
       "      <td>10.000000</td>\n",
       "    </tr>\n",
       "    <tr>\n",
       "      <th>mean</th>\n",
       "      <td>918.416931</td>\n",
       "      <td>64.953404</td>\n",
       "      <td>170.754272</td>\n",
       "      <td>5.345284</td>\n",
       "      <td>175.338159</td>\n",
       "      <td>6.822988</td>\n",
       "      <td>0.892000</td>\n",
       "      <td>1492.000000</td>\n",
       "      <td>42.468522</td>\n",
       "      <td>38.184480</td>\n",
       "    </tr>\n",
       "    <tr>\n",
       "      <th>std</th>\n",
       "      <td>2.721695</td>\n",
       "      <td>13.091464</td>\n",
       "      <td>84.126356</td>\n",
       "      <td>4.738358</td>\n",
       "      <td>77.108104</td>\n",
       "      <td>5.884029</td>\n",
       "      <td>2.813731</td>\n",
       "      <td>4651.661113</td>\n",
       "      <td>32.780474</td>\n",
       "      <td>25.374365</td>\n",
       "    </tr>\n",
       "    <tr>\n",
       "      <th>min</th>\n",
       "      <td>915.010000</td>\n",
       "      <td>44.294000</td>\n",
       "      <td>40.700000</td>\n",
       "      <td>1.856660</td>\n",
       "      <td>63.000000</td>\n",
       "      <td>2.863283</td>\n",
       "      <td>0.000000</td>\n",
       "      <td>0.000000</td>\n",
       "      <td>8.900000</td>\n",
       "      <td>12.742547</td>\n",
       "    </tr>\n",
       "    <tr>\n",
       "      <th>25%</th>\n",
       "      <td>916.036073</td>\n",
       "      <td>53.942000</td>\n",
       "      <td>117.226385</td>\n",
       "      <td>2.464192</td>\n",
       "      <td>137.492887</td>\n",
       "      <td>3.561546</td>\n",
       "      <td>0.000000</td>\n",
       "      <td>0.000000</td>\n",
       "      <td>15.224001</td>\n",
       "      <td>19.916362</td>\n",
       "    </tr>\n",
       "    <tr>\n",
       "      <th>50%</th>\n",
       "      <td>918.065000</td>\n",
       "      <td>70.091100</td>\n",
       "      <td>180.337704</td>\n",
       "      <td>4.041475</td>\n",
       "      <td>187.803348</td>\n",
       "      <td>4.889839</td>\n",
       "      <td>0.000000</td>\n",
       "      <td>0.000000</td>\n",
       "      <td>32.355000</td>\n",
       "      <td>28.980000</td>\n",
       "    </tr>\n",
       "    <tr>\n",
       "      <th>75%</th>\n",
       "      <td>920.397063</td>\n",
       "      <td>73.967461</td>\n",
       "      <td>231.508033</td>\n",
       "      <td>4.837383</td>\n",
       "      <td>207.377506</td>\n",
       "      <td>6.403241</td>\n",
       "      <td>0.000000</td>\n",
       "      <td>15.000000</td>\n",
       "      <td>70.957500</td>\n",
       "      <td>60.077500</td>\n",
       "    </tr>\n",
       "    <tr>\n",
       "      <th>max</th>\n",
       "      <td>923.040000</td>\n",
       "      <td>80.582000</td>\n",
       "      <td>277.800000</td>\n",
       "      <td>17.067852</td>\n",
       "      <td>295.400000</td>\n",
       "      <td>22.100967</td>\n",
       "      <td>8.900000</td>\n",
       "      <td>14730.000000</td>\n",
       "      <td>92.410000</td>\n",
       "      <td>76.740000</td>\n",
       "    </tr>\n",
       "  </tbody>\n",
       "</table>\n",
       "</div>"
      ],
      "text/plain": [
       "       air_pressure_9am  air_temp_9am  avg_wind_direction_9am  \\\n",
       "count         10.000000     10.000000               10.000000   \n",
       "mean         918.416931     64.953404              170.754272   \n",
       "std            2.721695     13.091464               84.126356   \n",
       "min          915.010000     44.294000               40.700000   \n",
       "25%          916.036073     53.942000              117.226385   \n",
       "50%          918.065000     70.091100              180.337704   \n",
       "75%          920.397063     73.967461              231.508033   \n",
       "max          923.040000     80.582000              277.800000   \n",
       "\n",
       "       avg_wind_speed_9am  max_wind_direction_9am  max_wind_speed_9am  \\\n",
       "count           10.000000               10.000000           10.000000   \n",
       "mean             5.345284              175.338159            6.822988   \n",
       "std              4.738358               77.108104            5.884029   \n",
       "min              1.856660               63.000000            2.863283   \n",
       "25%              2.464192              137.492887            3.561546   \n",
       "50%              4.041475              187.803348            4.889839   \n",
       "75%              4.837383              207.377506            6.403241   \n",
       "max             17.067852              295.400000           22.100967   \n",
       "\n",
       "       rain_accumulation_9am  rain_duration_9am  relative_humidity_9am  \\\n",
       "count              10.000000          10.000000              10.000000   \n",
       "mean                0.892000        1492.000000              42.468522   \n",
       "std                 2.813731        4651.661113              32.780474   \n",
       "min                 0.000000           0.000000               8.900000   \n",
       "25%                 0.000000           0.000000              15.224001   \n",
       "50%                 0.000000           0.000000              32.355000   \n",
       "75%                 0.000000          15.000000              70.957500   \n",
       "max                 8.900000       14730.000000              92.410000   \n",
       "\n",
       "       relative_humidity_3pm  \n",
       "count              10.000000  \n",
       "mean               38.184480  \n",
       "std                25.374365  \n",
       "min                12.742547  \n",
       "25%                19.916362  \n",
       "50%                28.980000  \n",
       "75%                60.077500  \n",
       "max                76.740000  "
      ]
     },
     "execution_count": 48,
     "metadata": {},
     "output_type": "execute_result"
    }
   ],
   "source": [
    "df2.describe(include='all')"
   ]
  },
  {
   "cell_type": "code",
   "execution_count": null,
   "metadata": {},
   "outputs": [],
   "source": []
  }
 ],
 "metadata": {
  "kernelspec": {
   "display_name": "Python 3",
   "language": "python",
   "name": "python3"
  },
  "language_info": {
   "codemirror_mode": {
    "name": "ipython",
    "version": 3
   },
   "file_extension": ".py",
   "mimetype": "text/x-python",
   "name": "python",
   "nbconvert_exporter": "python",
   "pygments_lexer": "ipython3",
   "version": "3.6.4"
  }
 },
 "nbformat": 4,
 "nbformat_minor": 2
}
