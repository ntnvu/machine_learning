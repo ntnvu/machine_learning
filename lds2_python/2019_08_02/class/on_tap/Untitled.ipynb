{
 "cells": [
  {
   "cell_type": "code",
   "execution_count": 1,
   "metadata": {},
   "outputs": [],
   "source": [
    "import numpy as np\n",
    "import pandas as pd"
   ]
  },
  {
   "cell_type": "code",
   "execution_count": 2,
   "metadata": {},
   "outputs": [],
   "source": [
    "a = np.array([-3.24, 2.98, 3.98, 2.56, 3.2, 4.6, 3.8, 3.78, 2.98, -4.8, 4.1, 3.65, 2.98])"
   ]
  },
  {
   "cell_type": "code",
   "execution_count": 14,
   "metadata": {},
   "outputs": [],
   "source": [
    "s2 = pd.Series(sorted(a))"
   ]
  },
  {
   "cell_type": "code",
   "execution_count": 15,
   "metadata": {},
   "outputs": [
    {
     "name": "stdout",
     "output_type": "stream",
     "text": [
      "0    -4.80\n",
      "1    -3.24\n",
      "2     2.56\n",
      "3     2.98\n",
      "4     2.98\n",
      "5     2.98\n",
      "6     3.20\n",
      "7     3.65\n",
      "8     3.78\n",
      "9     3.80\n",
      "10    3.98\n",
      "11    4.10\n",
      "12    4.60\n",
      "dtype: float64\n"
     ]
    }
   ],
   "source": [
    "print(s2)"
   ]
  },
  {
   "cell_type": "code",
   "execution_count": 5,
   "metadata": {},
   "outputs": [
    {
     "name": "stdout",
     "output_type": "stream",
     "text": [
      "count    13.000000\n",
      "mean      2.351538\n",
      "std       2.900390\n",
      "min      -4.800000\n",
      "25%       2.980000\n",
      "50%       3.200000\n",
      "75%       3.800000\n",
      "max       4.600000\n",
      "dtype: float64\n"
     ]
    }
   ],
   "source": [
    "print(s2.describe())"
   ]
  },
  {
   "cell_type": "code",
   "execution_count": null,
   "metadata": {},
   "outputs": [],
   "source": [
    "print()"
   ]
  },
  {
   "cell_type": "code",
   "execution_count": 7,
   "metadata": {},
   "outputs": [
    {
     "name": "stdout",
     "output_type": "stream",
     "text": [
      "-4.8\n"
     ]
    }
   ],
   "source": [
    "print(s2.min())"
   ]
  },
  {
   "cell_type": "code",
   "execution_count": 12,
   "metadata": {},
   "outputs": [],
   "source": [
    "t = -4.8 + (4.6 - -4.8) * 25/100"
   ]
  },
  {
   "cell_type": "code",
   "execution_count": 13,
   "metadata": {},
   "outputs": [
    {
     "name": "stdout",
     "output_type": "stream",
     "text": [
      "-2.45\n"
     ]
    }
   ],
   "source": [
    "print(t)"
   ]
  },
  {
   "cell_type": "code",
   "execution_count": 20,
   "metadata": {},
   "outputs": [
    {
     "name": "stdout",
     "output_type": "stream",
     "text": [
      "0      1\n",
      "1      2\n",
      "2     50\n",
      "3    100\n",
      "dtype: int32\n"
     ]
    }
   ],
   "source": [
    "test = np.array([1,2,50,100])\n",
    "testS = pd.Series(test)\n",
    "print(testS)"
   ]
  },
  {
   "cell_type": "code",
   "execution_count": 21,
   "metadata": {},
   "outputs": [
    {
     "name": "stdout",
     "output_type": "stream",
     "text": [
      "count      4.000000\n",
      "mean      38.250000\n",
      "std       47.091224\n",
      "min        1.000000\n",
      "25%        1.750000\n",
      "50%       26.000000\n",
      "75%       62.500000\n",
      "max      100.000000\n",
      "dtype: float64\n"
     ]
    }
   ],
   "source": [
    "print(testS.describe())"
   ]
  },
  {
   "cell_type": "code",
   "execution_count": 22,
   "metadata": {},
   "outputs": [],
   "source": [
    "x = pd.DataFrame({'a':[2,1,4], 'b':[4,3,11], 'c':[8,5,12]})"
   ]
  },
  {
   "cell_type": "code",
   "execution_count": 23,
   "metadata": {},
   "outputs": [
    {
     "name": "stdout",
     "output_type": "stream",
     "text": [
      "   a   b   c\n",
      "0  2   4   8\n",
      "1  1   3   5\n",
      "2  4  11  12\n"
     ]
    }
   ],
   "source": [
    "print(x)"
   ]
  },
  {
   "cell_type": "code",
   "execution_count": 27,
   "metadata": {
    "scrolled": true
   },
   "outputs": [
    {
     "name": "stdout",
     "output_type": "stream",
     "text": [
      "0        Toán:   2.00   Ngữ văn:   5.50   Lịch sử:   3.00   Địa lí:   5.00                                       \n",
      "1        Toán:   5.50   Ngữ văn:   5.25   Địa lí:   5.50   Tiếng Anh:   3.68                                     \n",
      "2        Toán:   4.50   Ngữ văn:   5.50   Địa lí:   3.75   Tiếng Anh:   2.25                                     \n",
      "3        Toán:   3.00   Ngữ văn:   6.00   Địa lí:   5.50   Tiếng Anh:   1.50                                     \n",
      "4        Toán:   2.25   Ngữ văn:   4.75   Địa lí:   5.25   Tiếng Anh:   2.00                                     \n",
      "5        Toán:   5.75   Ngữ văn:   5.50   Địa lí:   5.50   Tiếng Anh:   3.55                                     \n",
      "6        Toán:   1.75   Ngữ văn:   5.25   Địa lí:   4.75   Tiếng Anh:   1.75                                     \n",
      "7        Toán:   2.00   Ngữ văn:   4.75   Địa lí:   5.50   Tiếng Anh:   1.13                                     \n",
      "8        Toán:   3.75   Ngữ văn:   5.00   Địa lí:   6.50   Tiếng Anh:   2.75                                     \n",
      "9        Toán:   3.50   Ngữ văn:   5.00   Địa lí:   4.25   Tiếng Anh:   2.13                                     \n",
      "10       Toán:   1.25   Ngữ văn:   5.25   Địa lí:   5.00   Tiếng Anh:   2.38                                     \n",
      "11       Toán:   3.50   Ngữ văn:   5.00   Địa lí:   7.00   Tiếng Anh:   2.75                                     \n",
      "12       Toán:   3.00   Ngữ văn:   6.25   Địa lí:   5.75   Tiếng Anh:   2.13                                     \n",
      "13       Toán:   3.25   Ngữ văn:   5.50   Địa lí:   5.75   Tiếng Anh:   1.88                                     \n",
      "14       Toán:   5.50   Ngữ văn:   4.25   Địa lí:   5.00   Tiếng Anh:   1.88                                     \n",
      "15       Toán:   5.25   Ngữ văn:   6.50   Địa lí:   6.00   Tiếng Anh:   3.58                                     \n",
      "16       Toán:   3.75   Ngữ văn:   4.75   Lịch sử:   7.75   Địa lí:   6.50                                       \n",
      "17       Toán:   4.25   Ngữ văn:   6.50   Sinh học:   4.80   Tiếng Anh:   3.10                                   \n",
      "18       Toán:   5.50   Ngữ văn:   6.00   Địa lí:   7.75   Tiếng Anh:   3.13                                     \n",
      "19       Toán:   4.50   Ngữ văn:   5.75   Địa lí:   5.75   Tiếng Anh:   2.50                                     \n",
      "20       Toán:   3.50   Ngữ văn:   5.75   Địa lí:   6.00   Tiếng Anh:   3.00                                     \n",
      "21       Toán:   3.00   Ngữ văn:   5.00   Lịch sử:   5.50   Địa lí:   5.50                                       \n",
      "22       Toán:   2.25   Ngữ văn:   4.25   Lịch sử:   5.00   Địa lí:   6.50                                       \n",
      "23       Toán:   2.25   Ngữ văn:   3.75   Lịch sử:   5.00   Địa lí:   4.75                                       \n",
      "24       Toán:   5.75   Ngữ văn:   6.00   Địa lí:   7.25   Tiếng Anh:   3.13                                     \n",
      "25       Toán:   6.00   Ngữ văn:   6.25   Địa lí:   6.50   Tiếng Anh:   3.23                                     \n",
      "26       Toán:   4.00   Ngữ văn:   5.00   Địa lí:   6.75   Tiếng Anh:   3.00                                     \n",
      "27       Toán:   5.75   Ngữ văn:   4.75   Địa lí:   6.25   Tiếng Anh:   2.25                                     \n",
      "28       Toán:   4.25   Ngữ văn:   6.25   Địa lí:   6.75   Tiếng Anh:   4.10                                     \n",
      "29       Toán:   3.75   Ngữ văn:   5.00   Địa lí:   9.25   Tiếng Anh:   3.13                                     \n",
      "                                        ...                                                                      \n",
      "34796    Toán:   4.50   Ngữ văn:   3.25   Vật lí:   6.00   Tiếng Anh:   3.10                                     \n",
      "34797    Toán:   3.50   Ngữ văn:   5.50   Vật lí:   4.60   Địa lí:   3.25   Tiếng Anh:   2.58                    \n",
      "34798    Toán:   5.75   Ngữ văn:   2.50   Vật lí:   5.00   Hóa học:   5.40   Tiếng Anh:   2.98                   \n",
      "34799    Toán:   2.25   Ngữ văn:   4.75   Vật lí:   4.60   Hóa học:   3.20   Sinh học:   5.00   Tiếng Anh:   2.53\n",
      "34800    Toán:   1.25   Ngữ văn:   1.25   Vật lí:   3.00   Hóa học:   1.80                                       \n",
      "34801    Toán:   5.00   Ngữ văn:   6.25   Vật lí:   6.00   Tiếng Anh:   2.48                                     \n",
      "34802    Toán:   6.50   Ngữ văn:   5.50   Vật lí:   7.20   Hóa học:   6.00   Tiếng Anh:   5.43                   \n",
      "34803    Toán:   4.75   Ngữ văn:   6.00   Địa lí:   5.25   Tiếng Anh:   3.18                                     \n",
      "34804    Toán:   6.00   Ngữ văn:   6.00   Hóa học:   5.40   Sinh học:   6.00   Tiếng Anh:   2.50                 \n",
      "34805    Toán:   6.75   Ngữ văn:   5.00   Vật lí:   7.40   Hóa học:   7.60   Sinh học:   3.60   Tiếng Anh:   3.49\n",
      "34806    Toán:   5.50   Ngữ văn:   7.50   Vật lí:   5.60   Hóa học:   5.60   Tiếng Anh:   4.80                   \n",
      "34807    Toán:   5.75   Ngữ văn:   4.50   Vật lí:   6.80   Tiếng Anh:   4.60                                     \n",
      "34808    Toán:   1.75   Ngữ văn:   6.00   Lịch sử:   3.50   Địa lí:   4.50   Tiếng Anh:   3.20                   \n",
      "34809    Toán:   6.25   Ngữ văn:   6.75   Tiếng Anh:   3.38                                                      \n",
      "34810    Toán:   4.50   Ngữ văn:   5.25   Địa lí:   3.75   Tiếng Anh:   6.15                                     \n",
      "34811    Toán:   3.75   Ngữ văn:   5.00   Hóa học:   4.40   Tiếng Anh:   2.33                                    \n",
      "34812    Toán:   5.75   Ngữ văn:   6.50   Vật lí:   7.00   Tiếng Anh:   8.78                                     \n",
      "34813    Toán:   6.00   Ngữ văn:   6.50   Hóa học:   7.20   Sinh học:   7.40   Tiếng Anh:   3.28                 \n",
      "34814    Toán:   5.50   Vật lí:   5.20   Hóa học:   4.40                                                         \n",
      "34815    Toán:   4.25   Ngữ văn:   5.00   Vật lí:   3.20   Hóa học:   4.80   Sinh học:   3.40   Tiếng Anh:   2.63\n",
      "34816    Toán:   2.25   Ngữ văn:   3.50   Địa lí:   3.75   Tiếng Anh:   2.10                                     \n",
      "34817    Toán:   2.25   Ngữ văn:   4.25   Địa lí:   4.00   Tiếng Anh:   2.48                                     \n",
      "34818    Toán:   6.50   Ngữ văn:   5.00   Vật lí:   6.60   Tiếng Anh:   4.30                                     \n",
      "34819    Toán:   2.75   Ngữ văn:   4.25   Vật lí:   6.40   Tiếng Anh:   2.75                                     \n",
      "34820    Toán:   4.25   Ngữ văn:   4.00   Địa lí:   4.25   Tiếng Trung:   5.40                                   \n",
      "34821    Toán:   0.75   Ngữ văn:   5.00   Hóa học:   4.80   Sinh học:   5.20                                     \n",
      "34822    Toán:   4.75   Ngữ văn:   5.75   Vật lí:   6.80   Hóa học:   4.60   Sinh học:   4.60   Tiếng Anh:   3.33\n",
      "34823    Toán:   4.00   Ngữ văn:   5.50   Vật lí:   5.60   Tiếng Anh:   3.60                                     \n",
      "34824    Toán:   5.75   Ngữ văn:   6.00   Vật lí:   7.40   Hóa học:   4.80   Tiếng Anh:   2.88                   \n",
      "34825    Toán:   2.50   Ngữ văn:   4.25   Vật lí:   4.20   Hóa học:   4.40   Sinh học:   4.40   Tiếng Anh:   3.00\n",
      "Name: DIEM_THI, Length: 34826, dtype: object\n"
     ]
    }
   ],
   "source": [
    "f = pd.read_csv('Diemthi_thpt_quocgia_2016.csv')\n",
    "pd.set_option('display.max_colwidth', -1)\n",
    "# print(f.head)\n",
    "print(f['DIEM_THI'])"
   ]
  },
  {
   "cell_type": "code",
   "execution_count": 28,
   "metadata": {},
   "outputs": [
    {
     "name": "stdout",
     "output_type": "stream",
     "text": [
      "a    0\n",
      "b    1\n",
      "c    2\n",
      "dtype: int64\n"
     ]
    }
   ],
   "source": [
    "dic_1 = {'a' : 0, 'b' : 1, 'c' : 2}\n",
    "s3 = pd.Series(dic_1)\n",
    "print(s3)"
   ]
  },
  {
   "cell_type": "code",
   "execution_count": 43,
   "metadata": {},
   "outputs": [
    {
     "ename": "ValueError",
     "evalue": "Length of passed values is 9, index implies 5",
     "output_type": "error",
     "traceback": [
      "\u001b[1;31m---------------------------------------------------------------------------\u001b[0m",
      "\u001b[1;31mValueError\u001b[0m                                Traceback (most recent call last)",
      "\u001b[1;32m<ipython-input-43-98a266f02fb8>\u001b[0m in \u001b[0;36m<module>\u001b[1;34m\u001b[0m\n\u001b[1;32m----> 1\u001b[1;33m \u001b[0ms5\u001b[0m \u001b[1;33m=\u001b[0m \u001b[0mpd\u001b[0m\u001b[1;33m.\u001b[0m\u001b[0mSeries\u001b[0m\u001b[1;33m(\u001b[0m\u001b[1;33m[\u001b[0m\u001b[1;36m1\u001b[0m\u001b[1;33m,\u001b[0m\u001b[1;36m2\u001b[0m\u001b[1;33m,\u001b[0m\u001b[1;36m3\u001b[0m\u001b[1;33m,\u001b[0m\u001b[1;36m4\u001b[0m\u001b[1;33m,\u001b[0m\u001b[1;36m5\u001b[0m\u001b[1;33m,\u001b[0m\u001b[1;36m6\u001b[0m\u001b[1;33m,\u001b[0m\u001b[1;36m7\u001b[0m\u001b[1;33m,\u001b[0m\u001b[1;36m8\u001b[0m\u001b[1;33m,\u001b[0m\u001b[1;36m9\u001b[0m\u001b[1;33m]\u001b[0m\u001b[1;33m,\u001b[0m \u001b[0mindex\u001b[0m \u001b[1;33m=\u001b[0m \u001b[1;33m[\u001b[0m\u001b[1;34m'a'\u001b[0m\u001b[1;33m,\u001b[0m \u001b[1;34m'b'\u001b[0m\u001b[1;33m,\u001b[0m \u001b[1;34m'c'\u001b[0m\u001b[1;33m,\u001b[0m \u001b[1;34m'd'\u001b[0m\u001b[1;33m,\u001b[0m \u001b[1;34m'e'\u001b[0m\u001b[1;33m]\u001b[0m\u001b[1;33m)\u001b[0m\u001b[1;33m\u001b[0m\u001b[1;33m\u001b[0m\u001b[0m\n\u001b[0m\u001b[0;32m      2\u001b[0m \u001b[0mprint\u001b[0m\u001b[1;33m(\u001b[0m\u001b[0ms5\u001b[0m\u001b[1;33m)\u001b[0m\u001b[1;33m\u001b[0m\u001b[1;33m\u001b[0m\u001b[0m\n",
      "\u001b[1;32mc:\\program files\\python36\\lib\\site-packages\\pandas\\core\\series.py\u001b[0m in \u001b[0;36m__init__\u001b[1;34m(self, data, index, dtype, name, copy, fastpath)\u001b[0m\n\u001b[0;32m    260\u001b[0m                             \u001b[1;34m'Length of passed values is {val}, '\u001b[0m\u001b[1;33m\u001b[0m\u001b[1;33m\u001b[0m\u001b[0m\n\u001b[0;32m    261\u001b[0m                             \u001b[1;34m'index implies {ind}'\u001b[0m\u001b[1;33m\u001b[0m\u001b[1;33m\u001b[0m\u001b[0m\n\u001b[1;32m--> 262\u001b[1;33m                             .format(val=len(data), ind=len(index)))\n\u001b[0m\u001b[0;32m    263\u001b[0m                 \u001b[1;32mexcept\u001b[0m \u001b[0mTypeError\u001b[0m\u001b[1;33m:\u001b[0m\u001b[1;33m\u001b[0m\u001b[1;33m\u001b[0m\u001b[0m\n\u001b[0;32m    264\u001b[0m                     \u001b[1;32mpass\u001b[0m\u001b[1;33m\u001b[0m\u001b[1;33m\u001b[0m\u001b[0m\n",
      "\u001b[1;31mValueError\u001b[0m: Length of passed values is 9, index implies 5"
     ]
    }
   ],
   "source": [
    "s5 = pd.Series([1,2,3,4,5,6,7,8,9])\n",
    "print(s5)"
   ]
  },
  {
   "cell_type": "code",
   "execution_count": 30,
   "metadata": {},
   "outputs": [
    {
     "name": "stdout",
     "output_type": "stream",
     "text": [
      "a    1\n",
      "b    2\n",
      "dtype: int64\n"
     ]
    }
   ],
   "source": [
    "print(s5[:2])"
   ]
  },
  {
   "cell_type": "code",
   "execution_count": 34,
   "metadata": {},
   "outputs": [
    {
     "name": "stdout",
     "output_type": "stream",
     "text": [
      "d    4\n",
      "dtype: int64\n"
     ]
    }
   ],
   "source": [
    "print(s5[3:4])"
   ]
  },
  {
   "cell_type": "code",
   "execution_count": 42,
   "metadata": {},
   "outputs": [
    {
     "name": "stdout",
     "output_type": "stream",
     "text": [
      "c    3\n",
      "d    4\n",
      "dtype: int64\n"
     ]
    }
   ],
   "source": [
    "print(s5[-3:-1])"
   ]
  },
  {
   "cell_type": "code",
   "execution_count": null,
   "metadata": {},
   "outputs": [],
   "source": []
  }
 ],
 "metadata": {
  "kernelspec": {
   "display_name": "Python 3",
   "language": "python",
   "name": "python3"
  },
  "language_info": {
   "codemirror_mode": {
    "name": "ipython",
    "version": 3
   },
   "file_extension": ".py",
   "mimetype": "text/x-python",
   "name": "python",
   "nbconvert_exporter": "python",
   "pygments_lexer": "ipython3",
   "version": "3.6.8"
  }
 },
 "nbformat": 4,
 "nbformat_minor": 2
}
