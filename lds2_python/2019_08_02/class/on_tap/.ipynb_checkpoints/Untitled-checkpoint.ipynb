{
 "cells": [
  {
   "cell_type": "code",
   "execution_count": 1,
   "metadata": {},
   "outputs": [],
   "source": [
    "import numpy as np\n",
    "import pandas as pd"
   ]
  },
  {
   "cell_type": "code",
   "execution_count": 2,
   "metadata": {},
   "outputs": [],
   "source": [
    "a = np.array([-3.24, 2.98, 3.98, 2.56, 3.2, 4.6, 3.8, 3.78, 2.98, -4.8, 4.1, 3.65, 2.98])"
   ]
  },
  {
   "cell_type": "code",
   "execution_count": 14,
   "metadata": {},
   "outputs": [],
   "source": [
    "s2 = pd.Series(sorted(a))"
   ]
  },
  {
   "cell_type": "code",
   "execution_count": 15,
   "metadata": {},
   "outputs": [
    {
     "name": "stdout",
     "output_type": "stream",
     "text": [
      "0    -4.80\n",
      "1    -3.24\n",
      "2     2.56\n",
      "3     2.98\n",
      "4     2.98\n",
      "5     2.98\n",
      "6     3.20\n",
      "7     3.65\n",
      "8     3.78\n",
      "9     3.80\n",
      "10    3.98\n",
      "11    4.10\n",
      "12    4.60\n",
      "dtype: float64\n"
     ]
    }
   ],
   "source": [
    "print(s2)"
   ]
  },
  {
   "cell_type": "code",
   "execution_count": 5,
   "metadata": {},
   "outputs": [
    {
     "name": "stdout",
     "output_type": "stream",
     "text": [
      "count    13.000000\n",
      "mean      2.351538\n",
      "std       2.900390\n",
      "min      -4.800000\n",
      "25%       2.980000\n",
      "50%       3.200000\n",
      "75%       3.800000\n",
      "max       4.600000\n",
      "dtype: float64\n"
     ]
    }
   ],
   "source": [
    "print(s2.describe())"
   ]
  },
  {
   "cell_type": "code",
   "execution_count": null,
   "metadata": {},
   "outputs": [],
   "source": [
    "print()"
   ]
  },
  {
   "cell_type": "code",
   "execution_count": 7,
   "metadata": {},
   "outputs": [
    {
     "name": "stdout",
     "output_type": "stream",
     "text": [
      "-4.8\n"
     ]
    }
   ],
   "source": [
    "print(s2.min())"
   ]
  },
  {
   "cell_type": "code",
   "execution_count": 12,
   "metadata": {},
   "outputs": [],
   "source": [
    "t = -4.8 + (4.6 - -4.8) * 25/100"
   ]
  },
  {
   "cell_type": "code",
   "execution_count": 13,
   "metadata": {},
   "outputs": [
    {
     "name": "stdout",
     "output_type": "stream",
     "text": [
      "-2.45\n"
     ]
    }
   ],
   "source": [
    "print(t)"
   ]
  },
  {
   "cell_type": "code",
   "execution_count": 20,
   "metadata": {},
   "outputs": [
    {
     "name": "stdout",
     "output_type": "stream",
     "text": [
      "0      1\n",
      "1      2\n",
      "2     50\n",
      "3    100\n",
      "dtype: int32\n"
     ]
    }
   ],
   "source": [
    "test = np.array([1,2,50,100])\n",
    "testS = pd.Series(test)\n",
    "print(testS)"
   ]
  },
  {
   "cell_type": "code",
   "execution_count": 21,
   "metadata": {},
   "outputs": [
    {
     "name": "stdout",
     "output_type": "stream",
     "text": [
      "count      4.000000\n",
      "mean      38.250000\n",
      "std       47.091224\n",
      "min        1.000000\n",
      "25%        1.750000\n",
      "50%       26.000000\n",
      "75%       62.500000\n",
      "max      100.000000\n",
      "dtype: float64\n"
     ]
    }
   ],
   "source": [
    "print(testS.describe())"
   ]
  },
  {
   "cell_type": "code",
   "execution_count": 22,
   "metadata": {},
   "outputs": [],
   "source": [
    "x = pd.DataFrame({'a':[2,1,4], 'b':[4,3,11], 'c':[8,5,12]})"
   ]
  },
  {
   "cell_type": "code",
   "execution_count": 23,
   "metadata": {},
   "outputs": [
    {
     "name": "stdout",
     "output_type": "stream",
     "text": [
      "   a   b   c\n",
      "0  2   4   8\n",
      "1  1   3   5\n",
      "2  4  11  12\n"
     ]
    }
   ],
   "source": [
    "print(x)"
   ]
  },
  {
   "cell_type": "code",
   "execution_count": null,
   "metadata": {},
   "outputs": [],
   "source": []
  }
 ],
 "metadata": {
  "kernelspec": {
   "display_name": "Python 3",
   "language": "python",
   "name": "python3"
  },
  "language_info": {
   "codemirror_mode": {
    "name": "ipython",
    "version": 3
   },
   "file_extension": ".py",
   "mimetype": "text/x-python",
   "name": "python",
   "nbconvert_exporter": "python",
   "pygments_lexer": "ipython3",
   "version": "3.6.8"
  }
 },
 "nbformat": 4,
 "nbformat_minor": 2
}
