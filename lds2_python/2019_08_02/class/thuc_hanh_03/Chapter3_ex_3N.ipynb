{
 "cells": [
  {
   "cell_type": "markdown",
   "metadata": {},
   "source": [
    "## Chapter 3 - Exercise 3\n",
    "1. Tạo array 3x3 với tất cả các giá trị đều là True. In array\n",
    "2. Cho array 1D có 9 phần tử 0-8 => chuyển thành array 2D (3x3) => In array. Chuyển cột 1 sang cột 3 và ngược lại. => In array\n",
    "3. Sử dụng array 2D của câu trên, chuyển dòng 1 sang dòng 2 và ngược lại => In array\n",
    "4. Sử dụng array 2D của câu trên, Đảo ngược các dòng của array 2D => In array\n",
    "5. Sử dụng array 2D của câu trên, Đảo ngược các cột của array 2D = > In array\n",
    "6. Cho h = np.array([[1, 2, 3], [np.NaN, 5, 6], [7, np.NaN, 9], [4, 5, 6]]), kiểm tra xem trong array có giá trị rỗng nào không?\n",
    "7. Sử dụng array 2D của câu trên, thay thế giá trị null bằng 0"
   ]
  },
  {
   "cell_type": "code",
   "execution_count": 20,
   "metadata": {},
   "outputs": [],
   "source": [
    "import numpy as np"
   ]
  },
  {
   "cell_type": "code",
   "execution_count": 22,
   "metadata": {},
   "outputs": [
    {
     "name": "stdout",
     "output_type": "stream",
     "text": [
      "[ 0  1  2 ... 97 98 99]\n"
     ]
    }
   ],
   "source": [
    "# In 1 phần của array\n",
    "a1 = np.arange(100)\n",
    "np.set_printoptions(threshold=15)\n",
    "print(a1)"
   ]
  },
  {
   "cell_type": "code",
   "execution_count": 23,
   "metadata": {},
   "outputs": [
    {
     "name": "stdout",
     "output_type": "stream",
     "text": [
      "[ 0  1  2 ... 97 98 99]\n"
     ]
    }
   ],
   "source": [
    "# In toàn bộ array\n",
    "np.set_printoptions(threshold=0)\n",
    "print(a1)"
   ]
  },
  {
   "cell_type": "code",
   "execution_count": 4,
   "metadata": {},
   "outputs": [
    {
     "name": "stdout",
     "output_type": "stream",
     "text": [
      "[[ True  True  True]\n",
      " [ True  True  True]\n",
      " [ True  True  True]]\n"
     ]
    }
   ],
   "source": [
    "# Câu 1: Tạo array 3x3 với tất cả các giá trị đều là True. In array\n",
    "a = np.ones((3,3), dtype=bool)\n",
    "print(a)"
   ]
  },
  {
   "cell_type": "code",
   "execution_count": 5,
   "metadata": {},
   "outputs": [
    {
     "name": "stdout",
     "output_type": "stream",
     "text": [
      "[0 1 2 ... 6 7 8]\n"
     ]
    }
   ],
   "source": [
    "# Câu 2: Cho array 1D có 9 phần tử 0-8 => chuyển thành array 2D 3x3 => In kết quả. Chuyển cột 1 sang cột 3 và ngược lại.\n",
    "b = np.array(range(9))\n",
    "print(b)"
   ]
  },
  {
   "cell_type": "code",
   "execution_count": 6,
   "metadata": {},
   "outputs": [
    {
     "name": "stdout",
     "output_type": "stream",
     "text": [
      "[[0 1 2]\n",
      " [3 4 5]\n",
      " [6 7 8]]\n"
     ]
    }
   ],
   "source": [
    "c = b.reshape(3,3)\n",
    "print(c)"
   ]
  },
  {
   "cell_type": "code",
   "execution_count": 7,
   "metadata": {},
   "outputs": [
    {
     "name": "stdout",
     "output_type": "stream",
     "text": [
      "[[2 1 0]\n",
      " [5 4 3]\n",
      " [8 7 6]]\n"
     ]
    }
   ],
   "source": [
    "d = c[:, [2,1,0]]\n",
    "print(d)"
   ]
  },
  {
   "cell_type": "code",
   "execution_count": 8,
   "metadata": {},
   "outputs": [
    {
     "name": "stdout",
     "output_type": "stream",
     "text": [
      "[[5 4 3]\n",
      " [2 1 0]\n",
      " [8 7 6]]\n"
     ]
    }
   ],
   "source": [
    "# Câu 3: Sử dụng array 2D của câu trên, chuyển dòng 1 sang dòng 2 và ngược lại => In array\n",
    "e = d[[1,0,2], :]\n",
    "print(e)"
   ]
  },
  {
   "cell_type": "code",
   "execution_count": 9,
   "metadata": {},
   "outputs": [
    {
     "name": "stdout",
     "output_type": "stream",
     "text": [
      "[[1 2 3]\n",
      " [4 5 6]\n",
      " [7 8 9]]\n",
      "Reverse:\n",
      "[[7 8 9]\n",
      " [4 5 6]\n",
      " [1 2 3]]\n"
     ]
    }
   ],
   "source": [
    "# Câu 4: Đảo ngược các dòng của array 2D\n",
    "f = np.array([[1, 2, 3], [4, 5, 6], [7, 8, 9]])\n",
    "print(f)\n",
    "print(\"Reverse:\")\n",
    "print(f[::-1])"
   ]
  },
  {
   "cell_type": "code",
   "execution_count": 10,
   "metadata": {},
   "outputs": [
    {
     "name": "stdout",
     "output_type": "stream",
     "text": [
      "[[1 2 3]\n",
      " [4 5 6]\n",
      " [7 8 9]]\n",
      "Reverse:\n",
      "[[3 2 1]\n",
      " [6 5 4]\n",
      " [9 8 7]]\n"
     ]
    }
   ],
   "source": [
    "# Câu 5: Đảo ngược các cột của array 2D\n",
    "g = np.array([[1, 2, 3], [4, 5, 6], [7, 8, 9]])\n",
    "print(g)\n",
    "print(\"Reverse:\")\n",
    "print(g[:, ::-1])"
   ]
  },
  {
   "cell_type": "code",
   "execution_count": 11,
   "metadata": {},
   "outputs": [
    {
     "name": "stdout",
     "output_type": "stream",
     "text": [
      "[[ 1.  2.  3.]\n",
      " [nan  5.  6.]\n",
      " [ 7. nan  9.]\n",
      " [ 4.  5.  6.]]\n",
      "Have nan? :  True\n"
     ]
    }
   ],
   "source": [
    "import numpy as np\n",
    "# Câu 6: Kiểm tra xem trong array có giá trị null nào không\n",
    "h = np.array([[1, 2, 3], [np.NaN, 5, 6], [7, np.NaN, 9], [4, 5, 6]])\n",
    "print(h)\n",
    "print(\"Have nan? : \", np.isnan(h).any())"
   ]
  },
  {
   "cell_type": "code",
   "execution_count": 12,
   "metadata": {},
   "outputs": [
    {
     "name": "stdout",
     "output_type": "stream",
     "text": [
      "Before:\n",
      "[[ 1.  2.  3.]\n",
      " [nan  5.  6.]\n",
      " [ 7. nan  9.]\n",
      " [ 4.  5.  6.]]\n",
      "After:\n",
      "[[1. 2. 3.]\n",
      " [0. 5. 6.]\n",
      " [7. 0. 9.]\n",
      " [4. 5. 6.]]\n"
     ]
    }
   ],
   "source": [
    "# Câu 7: Thay thế giá trị null bằng 0\n",
    "print(\"Before:\")\n",
    "print(h)\n",
    "h[np.isnan(h)] = 0\n",
    "print(\"After:\")\n",
    "print(h)"
   ]
  },
  {
   "cell_type": "code",
   "execution_count": null,
   "metadata": {},
   "outputs": [],
   "source": []
  }
 ],
 "metadata": {
  "kernelspec": {
   "display_name": "Python 3",
   "language": "python",
   "name": "python3"
  },
  "language_info": {
   "codemirror_mode": {
    "name": "ipython",
    "version": 3
   },
   "file_extension": ".py",
   "mimetype": "text/x-python",
   "name": "python",
   "nbconvert_exporter": "python",
   "pygments_lexer": "ipython3",
   "version": "3.6.8"
  }
 },
 "nbformat": 4,
 "nbformat_minor": 2
}
