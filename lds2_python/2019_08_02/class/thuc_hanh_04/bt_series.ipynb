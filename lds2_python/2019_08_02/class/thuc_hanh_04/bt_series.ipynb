{
 "cells": [
  {
   "cell_type": "code",
   "execution_count": 1,
   "metadata": {},
   "outputs": [],
   "source": [
    "import numpy as np\n",
    "import pandas as pd"
   ]
  },
  {
   "cell_type": "code",
   "execution_count": 2,
   "metadata": {},
   "outputs": [],
   "source": [
    "f = open('heights_1.txt')\n",
    "data = f.read()\n",
    "f.close()\n",
    "data = data.split(',')\n",
    "data = [int(item) for item in data]"
   ]
  },
  {
   "cell_type": "code",
   "execution_count": 3,
   "metadata": {},
   "outputs": [
    {
     "name": "stdout",
     "output_type": "stream",
     "text": [
      "(1015,)\n",
      "0    74\n",
      "1    74\n",
      "2    72\n",
      "3    72\n",
      "4    73\n",
      "5    69\n",
      "6    69\n",
      "7    71\n",
      "8    76\n",
      "9    71\n",
      "dtype: int64\n"
     ]
    }
   ],
   "source": [
    "s_height = pd.Series(data)\n",
    "print(s_height.shape)\n",
    "print(s_height.head(10))"
   ]
  },
  {
   "cell_type": "code",
   "execution_count": 4,
   "metadata": {},
   "outputs": [],
   "source": [
    "f = open('weights_1.txt')\n",
    "data = f.read()\n",
    "f.close()\n",
    "data = data.split(',')\n",
    "data = [int(item) for item in data]"
   ]
  },
  {
   "cell_type": "code",
   "execution_count": 5,
   "metadata": {},
   "outputs": [
    {
     "name": "stdout",
     "output_type": "stream",
     "text": [
      "(1015,)\n",
      "0    180\n",
      "1    215\n",
      "2    210\n",
      "3    210\n",
      "4    188\n",
      "5    176\n",
      "6    209\n",
      "7    200\n",
      "8    231\n",
      "9    180\n",
      "dtype: int64\n"
     ]
    }
   ],
   "source": [
    "s_weight = pd.Series(data)\n",
    "print(s_weight.shape)\n",
    "print(s_weight.head(10))"
   ]
  },
  {
   "cell_type": "code",
   "execution_count": 6,
   "metadata": {},
   "outputs": [
    {
     "name": "stdout",
     "output_type": "stream",
     "text": [
      "0    1.8796\n",
      "1    1.8796\n",
      "2    1.8288\n",
      "3    1.8288\n",
      "4    1.8542\n",
      "5    1.7526\n",
      "6    1.7526\n",
      "7    1.8034\n",
      "8    1.9304\n",
      "9    1.8034\n",
      "dtype: float64\n"
     ]
    }
   ],
   "source": [
    "s_height_m = s_height.map(lambda x: x*0.0254)\n",
    "print(s_height_m.head(10))"
   ]
  },
  {
   "cell_type": "code",
   "execution_count": 7,
   "metadata": {},
   "outputs": [
    {
     "name": "stdout",
     "output_type": "stream",
     "text": [
      "0     81.646560\n",
      "1     97.522280\n",
      "2     95.254320\n",
      "3     95.254320\n",
      "4     85.275296\n",
      "5     79.832192\n",
      "6     94.800728\n",
      "7     90.718400\n",
      "8    104.779752\n",
      "9     81.646560\n",
      "dtype: float64\n"
     ]
    }
   ],
   "source": [
    "s_weight_kg = s_weight.map(lambda x: x*0.453592)\n",
    "print(s_weight_kg.head(10))"
   ]
  },
  {
   "cell_type": "code",
   "execution_count": 8,
   "metadata": {},
   "outputs": [
    {
     "name": "stdout",
     "output_type": "stream",
     "text": [
      "0       23.110376\n",
      "1       27.604061\n",
      "2       28.480805\n",
      "3       28.480805\n",
      "4       24.803335\n",
      "5       25.990369\n",
      "6       30.863563\n",
      "7       27.894029\n",
      "8       28.117891\n",
      "9       25.104626\n",
      "10      24.803335\n",
      "11      23.747874\n",
      "12      23.752331\n",
      "13      20.542557\n",
      "14      26.581059\n",
      "15      26.544442\n",
      "16      24.935268\n",
      "17      23.123158\n",
      "18      25.307711\n",
      "19      25.910250\n",
      "20      24.953107\n",
      "21      29.529925\n",
      "22      23.735882\n",
      "23      24.412118\n",
      "24      26.778268\n",
      "25      28.122760\n",
      "26      24.072020\n",
      "27      25.036241\n",
      "28      24.011739\n",
      "29      24.137504\n",
      "          ...    \n",
      "985     25.067200\n",
      "986     28.122760\n",
      "987     24.407537\n",
      "988     28.191673\n",
      "989     25.842367\n",
      "990     29.213394\n",
      "991     28.246016\n",
      "992     27.969718\n",
      "993     23.387806\n",
      "994     26.872860\n",
      "995     25.109607\n",
      "996     27.802690\n",
      "997     24.902090\n",
      "998     23.093919\n",
      "999     24.036547\n",
      "1000    27.604061\n",
      "1001    22.498208\n",
      "1002    24.998009\n",
      "1003    26.578874\n",
      "1004    25.683442\n",
      "1005    28.747710\n",
      "1006    28.057784\n",
      "1007    27.497810\n",
      "1008    24.412118\n",
      "1009    25.622959\n",
      "1010    25.067200\n",
      "1011    23.110376\n",
      "1012    25.622959\n",
      "1013    23.748109\n",
      "1014    25.726864\n",
      "Length: 1015, dtype: float64\n"
     ]
    }
   ],
   "source": [
    "s_bmi = s_weight_kg/(s_height_m**2)\n",
    "print(s_bmi)"
   ]
  },
  {
   "cell_type": "code",
   "execution_count": 9,
   "metadata": {},
   "outputs": [
    {
     "name": "stdout",
     "output_type": "stream",
     "text": [
      "13     20.542557\n",
      "89     20.542557\n",
      "159    20.692820\n",
      "271    20.692820\n",
      "279    20.343432\n",
      "357    20.343432\n",
      "499    20.692820\n",
      "658    20.158835\n",
      "742    19.498447\n",
      "793    20.692820\n",
      "906    20.920522\n",
      "dtype: float64\n"
     ]
    }
   ],
   "source": [
    "print(s_bmi[s_bmi<21])"
   ]
  },
  {
   "cell_type": "code",
   "execution_count": null,
   "metadata": {},
   "outputs": [],
   "source": []
  }
 ],
 "metadata": {
  "kernelspec": {
   "display_name": "Python 3",
   "language": "python",
   "name": "python3"
  },
  "language_info": {
   "codemirror_mode": {
    "name": "ipython",
    "version": 3
   },
   "file_extension": ".py",
   "mimetype": "text/x-python",
   "name": "python",
   "nbconvert_exporter": "python",
   "pygments_lexer": "ipython3",
   "version": "3.6.8"
  }
 },
 "nbformat": 4,
 "nbformat_minor": 2
}
