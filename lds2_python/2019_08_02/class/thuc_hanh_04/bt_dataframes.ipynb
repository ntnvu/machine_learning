{
 "cells": [
  {
   "cell_type": "code",
   "execution_count": 1,
   "metadata": {},
   "outputs": [],
   "source": [
    "import numpy as np\n",
    "import pandas as pd"
   ]
  },
  {
   "cell_type": "code",
   "execution_count": 2,
   "metadata": {},
   "outputs": [],
   "source": [
    "def read_txt(ten_file):\n",
    "    f = open(ten_file)\n",
    "    data = f.read()\n",
    "    f.close()\n",
    "    data = data.split(',')\n",
    "    data = [int(item) for item in data]\n",
    "    return data"
   ]
  },
  {
   "cell_type": "code",
   "execution_count": 3,
   "metadata": {},
   "outputs": [
    {
     "name": "stdout",
     "output_type": "stream",
     "text": [
      "0    74\n",
      "1    74\n",
      "2    72\n",
      "3    72\n",
      "4    73\n",
      "5    69\n",
      "6    69\n",
      "7    71\n",
      "8    76\n",
      "9    71\n",
      "dtype: int64\n"
     ]
    }
   ],
   "source": [
    "s_height = pd.Series(read_txt('heights_1.txt'))\n",
    "print(s_height.head(10))"
   ]
  },
  {
   "cell_type": "code",
   "execution_count": 4,
   "metadata": {},
   "outputs": [
    {
     "name": "stdout",
     "output_type": "stream",
     "text": [
      "0    180\n",
      "1    215\n",
      "2    210\n",
      "3    210\n",
      "4    188\n",
      "5    176\n",
      "6    209\n",
      "7    200\n",
      "8    231\n",
      "9    180\n",
      "dtype: int64\n"
     ]
    }
   ],
   "source": [
    "s_weight = pd.Series(read_txt('weights_1.txt'))\n",
    "print(s_weight.head(10))"
   ]
  },
  {
   "cell_type": "code",
   "execution_count": 5,
   "metadata": {},
   "outputs": [
    {
     "name": "stdout",
     "output_type": "stream",
     "text": [
      "   height  weight\n",
      "0      74     180\n",
      "1      74     215\n",
      "2      72     210\n",
      "3      72     210\n",
      "4      73     188\n",
      "5      69     176\n",
      "6      69     209\n",
      "7      71     200\n",
      "8      76     231\n",
      "9      71     180\n"
     ]
    }
   ],
   "source": [
    "df = pd.DataFrame({'height':s_height,'weight':s_weight})\n",
    "print(df.head(10))"
   ]
  },
  {
   "cell_type": "code",
   "execution_count": 6,
   "metadata": {},
   "outputs": [
    {
     "name": "stdout",
     "output_type": "stream",
     "text": [
      "   height  weight  height_m   weight_kg\n",
      "0      74     180    1.8796   81.646560\n",
      "1      74     215    1.8796   97.522280\n",
      "2      72     210    1.8288   95.254320\n",
      "3      72     210    1.8288   95.254320\n",
      "4      73     188    1.8542   85.275296\n",
      "5      69     176    1.7526   79.832192\n",
      "6      69     209    1.7526   94.800728\n",
      "7      71     200    1.8034   90.718400\n",
      "8      76     231    1.9304  104.779752\n",
      "9      71     180    1.8034   81.646560\n"
     ]
    }
   ],
   "source": [
    "df['height_m'] = df['height']*0.0254\n",
    "df['weight_kg'] = df['weight']*0.453592\n",
    "print(df.head(10))"
   ]
  },
  {
   "cell_type": "code",
   "execution_count": 7,
   "metadata": {},
   "outputs": [
    {
     "name": "stdout",
     "output_type": "stream",
     "text": [
      "   height  weight  height_m   weight_kg        bmi\n",
      "0      74     180    1.8796   81.646560  23.110376\n",
      "1      74     215    1.8796   97.522280  27.604061\n",
      "2      72     210    1.8288   95.254320  28.480805\n",
      "3      72     210    1.8288   95.254320  28.480805\n",
      "4      73     188    1.8542   85.275296  24.803335\n",
      "5      69     176    1.7526   79.832192  25.990369\n",
      "6      69     209    1.7526   94.800728  30.863563\n",
      "7      71     200    1.8034   90.718400  27.894029\n",
      "8      76     231    1.9304  104.779752  28.117891\n",
      "9      71     180    1.8034   81.646560  25.104626\n"
     ]
    }
   ],
   "source": [
    "df['bmi'] = df['weight_kg']/(df['height_m']**2)\n",
    "print(df.head(10))"
   ]
  },
  {
   "cell_type": "code",
   "execution_count": 8,
   "metadata": {},
   "outputs": [
    {
     "name": "stdout",
     "output_type": "stream",
     "text": [
      "     height  weight  height_m  weight_kg        bmi\n",
      "13       74     160    1.8796  72.574720  20.542557\n",
      "89       74     160    1.8796  72.574720  20.542557\n",
      "159      76     170    1.9304  77.110640  20.692820\n",
      "271      76     170    1.9304  77.110640  20.692820\n",
      "279      72     150    1.8288  68.038800  20.343432\n",
      "357      72     150    1.8288  68.038800  20.343432\n",
      "499      76     170    1.9304  77.110640  20.692820\n",
      "658      77     170    1.9558  77.110640  20.158835\n",
      "742      75     156    1.9050  70.760352  19.498447\n",
      "793      76     170    1.9304  77.110640  20.692820\n",
      "906      71     150    1.8034  68.038800  20.920522\n"
     ]
    }
   ],
   "source": [
    "print(df[df['bmi']<21])"
   ]
  },
  {
   "cell_type": "code",
   "execution_count": 9,
   "metadata": {},
   "outputs": [
    {
     "name": "stdout",
     "output_type": "stream",
     "text": [
      "73.6896551724138\n"
     ]
    }
   ],
   "source": [
    "print(df['height'].mean())"
   ]
  },
  {
   "cell_type": "code",
   "execution_count": 10,
   "metadata": {},
   "outputs": [
    {
     "name": "stdout",
     "output_type": "stream",
     "text": [
      "height        73.689655\n",
      "weight       201.348768\n",
      "height_m       1.871717\n",
      "weight_kg     91.330191\n",
      "bmi           26.056846\n",
      "dtype: float64\n"
     ]
    }
   ],
   "source": [
    "print(df.mean())"
   ]
  },
  {
   "cell_type": "code",
   "execution_count": 11,
   "metadata": {},
   "outputs": [
    {
     "name": "stdout",
     "output_type": "stream",
     "text": [
      "count    1015.000000\n",
      "mean       73.689655\n",
      "std         2.313932\n",
      "min        67.000000\n",
      "25%        72.000000\n",
      "50%        74.000000\n",
      "75%        75.000000\n",
      "max        83.000000\n",
      "Name: height, dtype: float64\n"
     ]
    }
   ],
   "source": [
    "print(df['height'].describe())"
   ]
  },
  {
   "cell_type": "code",
   "execution_count": 12,
   "metadata": {},
   "outputs": [
    {
     "name": "stdout",
     "output_type": "stream",
     "text": [
      "            height       weight     height_m    weight_kg          bmi\n",
      "count  1015.000000  1015.000000  1015.000000  1015.000000  1015.000000\n",
      "mean     73.689655   201.348768     1.871717    91.330191    26.056846\n",
      "std       2.313932    20.823115     0.058774     9.445198     2.285800\n",
      "min      67.000000   150.000000     1.701800    68.038800    19.498447\n",
      "25%      72.000000   186.000000     1.828800    84.368112    24.394286\n",
      "50%      74.000000   200.000000     1.879600    90.718400    26.048609\n",
      "75%      75.000000   215.000000     1.905000    97.522280    27.540135\n",
      "max      83.000000   290.000000     2.108200   131.541680    35.261949\n"
     ]
    }
   ],
   "source": [
    "print(df.describe())"
   ]
  },
  {
   "cell_type": "code",
   "execution_count": null,
   "metadata": {},
   "outputs": [],
   "source": []
  }
 ],
 "metadata": {
  "kernelspec": {
   "display_name": "Python 3",
   "language": "python",
   "name": "python3"
  },
  "language_info": {
   "codemirror_mode": {
    "name": "ipython",
    "version": 3
   },
   "file_extension": ".py",
   "mimetype": "text/x-python",
   "name": "python",
   "nbconvert_exporter": "python",
   "pygments_lexer": "ipython3",
   "version": "3.6.8"
  }
 },
 "nbformat": 4,
 "nbformat_minor": 2
}
