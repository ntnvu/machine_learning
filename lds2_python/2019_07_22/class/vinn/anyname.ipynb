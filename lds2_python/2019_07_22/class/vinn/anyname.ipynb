{
 "cells": [
  {
   "cell_type": "code",
   "execution_count": 1,
   "metadata": {},
   "outputs": [
    {
     "name": "stdout",
     "output_type": "stream",
     "text": [
      "Nguyen Tran Ngoc Vu\n"
     ]
    }
   ],
   "source": [
    "ho_ten = \"Nguyen Tran Ngoc Vu\"\n",
    "ho_ten.split(\" \")\n",
    "print(ho_ten)\n"
   ]
  },
  {
   "cell_type": "code",
   "execution_count": 2,
   "metadata": {},
   "outputs": [
    {
     "name": "stdout",
     "output_type": "stream",
     "text": [
      "['Nguyen', 'Tran', 'Ngoc', 'Vu']\n"
     ]
    }
   ],
   "source": [
    "ho_ten = \"Nguyen Tran Ngoc Vu\"\n",
    "ho_ten_list = ho_ten.split(\" \")\n",
    "print(ho_ten_list)"
   ]
  },
  {
   "cell_type": "code",
   "execution_count": 3,
   "metadata": {},
   "outputs": [
    {
     "name": "stdout",
     "output_type": "stream",
     "text": [
      "Nguyen\n"
     ]
    }
   ],
   "source": [
    "ho_ten = \"Nguyen Tran Ngoc Vu\"\n",
    "ho_ten_list = ho_ten.split(\" \")\n",
    "\n",
    "for i in range(len(ho_ten) - 1)\n",
    "    \n",
    "print(ho_ten_list[0])"
   ]
  },
  {
   "cell_type": "code",
   "execution_count": 4,
   "metadata": {},
   "outputs": [
    {
     "name": "stdout",
     "output_type": "stream",
     "text": [
      "<filter object at 0x00000000059FF0F0>\n"
     ]
    }
   ],
   "source": [
    "number = [34,3,54,65,342,234,5623,65235,2]\n",
    "print(filter(lambda x : x % 2 == 0, number))"
   ]
  },
  {
   "cell_type": "code",
   "execution_count": 5,
   "metadata": {},
   "outputs": [
    {
     "name": "stdout",
     "output_type": "stream",
     "text": [
      "[34, 54, 342, 234, 2]\n"
     ]
    }
   ],
   "source": [
    "number = [34,3,54,65,342,234,5623,65235,2]\n",
    "print(list(filter(lambda x : x % 2 == 0, number)))"
   ]
  },
  {
   "cell_type": "code",
   "execution_count": null,
   "metadata": {},
   "outputs": [],
   "source": []
  }
 ],
 "metadata": {
  "kernelspec": {
   "display_name": "Python 3",
   "language": "python",
   "name": "python3"
  },
  "language_info": {
   "codemirror_mode": {
    "name": "ipython",
    "version": 3
   },
   "file_extension": ".py",
   "mimetype": "text/x-python",
   "name": "python",
   "nbconvert_exporter": "python",
   "pygments_lexer": "ipython3",
   "version": "3.6.8"
  }
 },
 "nbformat": 4,
 "nbformat_minor": 2
}
