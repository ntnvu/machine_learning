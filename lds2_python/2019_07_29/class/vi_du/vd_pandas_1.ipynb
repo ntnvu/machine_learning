{
 "cells": [
  {
   "cell_type": "code",
   "execution_count": 1,
   "metadata": {},
   "outputs": [],
   "source": [
    "import numpy as np\n",
    "import pandas as pd"
   ]
  },
  {
   "cell_type": "code",
   "execution_count": 7,
   "metadata": {},
   "outputs": [
    {
     "name": "stdout",
     "output_type": "stream",
     "text": [
      "0     10\n",
      "1     15\n",
      "2     20\n",
      "3     25\n",
      "4     30\n",
      "5     35\n",
      "6     40\n",
      "7     45\n",
      "8     50\n",
      "9     55\n",
      "10    60\n",
      "11    65\n",
      "12    70\n",
      "13    75\n",
      "14    80\n",
      "15    85\n",
      "16    90\n",
      "17    95\n",
      "dtype: int32\n",
      "18\n"
     ]
    }
   ],
   "source": [
    "np_array = np.arange(10, 100, 5)\n",
    "s = pd.Series(np_array)\n",
    "print(s)\n",
    "print(s.size)"
   ]
  },
  {
   "cell_type": "code",
   "execution_count": 8,
   "metadata": {},
   "outputs": [
    {
     "name": "stdout",
     "output_type": "stream",
     "text": [
      "0   -1.883093\n",
      "1    1.729769\n",
      "2   -0.781541\n",
      "3    0.006491\n",
      "4    0.869637\n",
      "dtype: float64\n"
     ]
    }
   ],
   "source": [
    "s1 = pd.Series(np.random.randn(5))\n",
    "print(s1)\n"
   ]
  },
  {
   "cell_type": "code",
   "execution_count": 9,
   "metadata": {},
   "outputs": [
    {
     "name": "stdout",
     "output_type": "stream",
     "text": [
      "0     10\n",
      "1     15\n",
      "2     20\n",
      "3     25\n",
      "4     30\n",
      "5     35\n",
      "6     40\n",
      "7     45\n",
      "8     50\n",
      "9     55\n",
      "10    60\n",
      "11    65\n",
      "12    70\n",
      "13    75\n",
      "14    80\n",
      "15    85\n",
      "16    90\n",
      "17    95\n",
      "dtype: int32\n"
     ]
    }
   ],
   "source": [
    "print(s)"
   ]
  },
  {
   "cell_type": "code",
   "execution_count": 10,
   "metadata": {},
   "outputs": [
    {
     "name": "stdout",
     "output_type": "stream",
     "text": [
      "0      20\n",
      "1      30\n",
      "2      40\n",
      "3      50\n",
      "4      60\n",
      "5      70\n",
      "6      80\n",
      "7      90\n",
      "8     100\n",
      "9     110\n",
      "10    120\n",
      "11    130\n",
      "12    140\n",
      "13    150\n",
      "14    160\n",
      "15    170\n",
      "16    180\n",
      "17    190\n",
      "dtype: int64\n"
     ]
    }
   ],
   "source": [
    "s1 = s.map(lambda i: i*2)\n",
    "print(s1)"
   ]
  },
  {
   "cell_type": "code",
   "execution_count": 11,
   "metadata": {},
   "outputs": [
    {
     "name": "stdout",
     "output_type": "stream",
     "text": [
      "0     3.162278\n",
      "1     3.872983\n",
      "2     4.472136\n",
      "3     5.000000\n",
      "4     5.477226\n",
      "5     5.916080\n",
      "6     6.324555\n",
      "7     6.708204\n",
      "8     7.071068\n",
      "9     7.416198\n",
      "10    7.745967\n",
      "11    8.062258\n",
      "12    8.366600\n",
      "13    8.660254\n",
      "14    8.944272\n",
      "15    9.219544\n",
      "16    9.486833\n",
      "17    9.746794\n",
      "dtype: float64\n"
     ]
    }
   ],
   "source": [
    "import math\n",
    "s2 = s.map(lambda i: math.sqrt(i))\n",
    "print(s2)"
   ]
  },
  {
   "cell_type": "code",
   "execution_count": 13,
   "metadata": {},
   "outputs": [
    {
     "name": "stdout",
     "output_type": "stream",
     "text": [
      "0    3\n",
      "1    8\n",
      "2    4\n",
      "3    5\n",
      "4    2\n",
      "5    7\n",
      "dtype: int32\n"
     ]
    }
   ],
   "source": [
    "s = pd.Series(np.array([3,8,4,5,2,7]))\n",
    "print(s)\n"
   ]
  },
  {
   "cell_type": "code",
   "execution_count": 16,
   "metadata": {},
   "outputs": [
    {
     "name": "stdout",
     "output_type": "stream",
     "text": [
      "4.833333333333333\n",
      "4.5\n"
     ]
    }
   ],
   "source": [
    "print(s.mean())\n",
    "print(s.median())"
   ]
  },
  {
   "cell_type": "code",
   "execution_count": 17,
   "metadata": {},
   "outputs": [
    {
     "name": "stdout",
     "output_type": "stream",
     "text": [
      "6720\n"
     ]
    }
   ],
   "source": [
    "print(s.prod())"
   ]
  },
  {
   "cell_type": "code",
   "execution_count": 18,
   "metadata": {},
   "outputs": [
    {
     "name": "stdout",
     "output_type": "stream",
     "text": [
      "6720\n"
     ]
    }
   ],
   "source": [
    "print(3*8*4*5*2*7)"
   ]
  },
  {
   "cell_type": "code",
   "execution_count": 19,
   "metadata": {},
   "outputs": [
    {
     "name": "stdout",
     "output_type": "stream",
     "text": [
      "0     3\n",
      "1    11\n",
      "2    15\n",
      "3    20\n",
      "4    22\n",
      "5    29\n",
      "dtype: int32\n"
     ]
    }
   ],
   "source": [
    "print(s.cumsum())\n"
   ]
  },
  {
   "cell_type": "code",
   "execution_count": 20,
   "metadata": {},
   "outputs": [
    {
     "name": "stdout",
     "output_type": "stream",
     "text": [
      "0       3\n",
      "1      24\n",
      "2      96\n",
      "3     480\n",
      "4     960\n",
      "5    6720\n",
      "dtype: int32\n"
     ]
    }
   ],
   "source": [
    "print(s.cumprod())"
   ]
  },
  {
   "cell_type": "code",
   "execution_count": 25,
   "metadata": {},
   "outputs": [
    {
     "name": "stdout",
     "output_type": "stream",
     "text": [
      "                  Ten_phim  Nam_sx\n",
      "0      Cuon theo chieu gio    1972\n",
      "1  Chien tranh va Hoa binh    1976\n",
      "2                 Nguoi Ca    1978\n"
     ]
    }
   ],
   "source": [
    "import pandas as pd\n",
    "my_list = [['Cuon theo chieu gio',1972],['Chien tranh va Hoa binh',1976],['Nguoi Ca',1978]]\n",
    "df = pd.DataFrame(my_list, columns=['Ten_phim','Nam_sx'])\n",
    "print(df)"
   ]
  },
  {
   "cell_type": "code",
   "execution_count": 38,
   "metadata": {},
   "outputs": [
    {
     "name": "stdout",
     "output_type": "stream",
     "text": [
      "                  Ten_phim  Nam_sx\n",
      "0      Cuon theo chieu gio  1972.0\n",
      "1  Chien tranh va Hoa binh  1976.0\n",
      "2                 Nguoi Ca     NaN\n"
     ]
    }
   ],
   "source": [
    "my_dic = {'Ten_phim':['Cuon theo chieu gio','Chien tranh va Hoa binh','Nguoi Ca'],\n",
    "         'Nam_sx':[1972,1976,np.NAN]}\n",
    "df = pd.DataFrame(my_dic, columns=['Ten_phim','Nam_sx'])\n",
    "print(df)"
   ]
  },
  {
   "cell_type": "code",
   "execution_count": 34,
   "metadata": {},
   "outputs": [
    {
     "name": "stdout",
     "output_type": "stream",
     "text": [
      "     toan  ly  hoa\n",
      "C01     7  10    9\n",
      "C02     8   8    8\n",
      "C03     9   6   10\n"
     ]
    }
   ],
   "source": [
    "df = pd.DataFrame({'toan':[7,8,9],'ly':[10,8,6],'hoa':[9,8,10]},index=['C01','C02','C03'])\n",
    "print(df)"
   ]
  },
  {
   "cell_type": "code",
   "execution_count": 37,
   "metadata": {},
   "outputs": [
    {
     "name": "stdout",
     "output_type": "stream",
     "text": [
      "     toan  ly  hoa        tb\n",
      "C01     7  10    9  8.666667\n",
      "C02     8   8    8  8.000000\n",
      "C03     9   6   10  8.333333\n"
     ]
    }
   ],
   "source": [
    "df['tb'] = (df['toan']+df['ly']+df['hoa'])/3\n",
    "print(df)"
   ]
  },
  {
   "cell_type": "code",
   "execution_count": null,
   "metadata": {},
   "outputs": [],
   "source": []
  }
 ],
 "metadata": {
  "kernelspec": {
   "display_name": "Python 3",
   "language": "python",
   "name": "python3"
  },
  "language_info": {
   "codemirror_mode": {
    "name": "ipython",
    "version": 3
   },
   "file_extension": ".py",
   "mimetype": "text/x-python",
   "name": "python",
   "nbconvert_exporter": "python",
   "pygments_lexer": "ipython3",
   "version": "3.6.8"
  }
 },
 "nbformat": 4,
 "nbformat_minor": 2
}
